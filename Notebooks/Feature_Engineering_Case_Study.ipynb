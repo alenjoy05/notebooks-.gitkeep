{
  "cells": [
    {
      "cell_type": "markdown",
      "metadata": {
        "id": "97V1aD4PHw_5"
      },
      "source": [
        "## Use Heart Disease [Dataset](https://github.com/cksajil/DSAIRP25/blob/main/datasets/heart_disease.csv) and answer the following questions"
      ]
    },
    {
      "cell_type": "markdown",
      "metadata": {
        "id": "dSQarmgHH93D"
      },
      "source": [
        "## 1. Find the top 5 important features to the target column"
      ]
    },
    {
      "cell_type": "code",
      "execution_count": 6,
      "metadata": {
        "colab": {
          "base_uri": "https://localhost:8080/"
        },
        "id": "RMWtFKt6HpQR",
        "outputId": "cdd85753-aa7b-48dd-d80a-85c630e1b57c"
      },
      "outputs": [
        {
          "output_type": "stream",
          "name": "stdout",
          "text": [
            "Top 5 most important features (using Mutual Information):\n",
            "chol       0.262836\n",
            "oldpeak    0.171186\n",
            "thalach    0.151613\n",
            "thal_2     0.134578\n",
            "thal_3     0.108855\n",
            "dtype: float64\n"
          ]
        }
      ],
      "source": [
        "import pandas as pd\n",
        "from sklearn.feature_selection import mutual_info_classif\n",
        "\n",
        "df = pd.read_csv('heart_disease.csv')\n",
        "\n",
        "X = df.iloc[:, :-1]\n",
        "y = df.iloc[:, -1]\n",
        "\n",
        "cat_cols = [col for col in X.columns if X[col].dtype == 'object' or X[col].nunique() < 10 and X[col].dtype == 'int64']\n",
        "\n",
        "exp_cat_cols = ['sex', 'cp', 'fbs', 'restecg', 'exang', 'slope', 'ca', 'thal']\n",
        "\n",
        "cat_cols_to_encode = [col for col in exp_cat_cols if col in X.columns]\n",
        "\n",
        "X_encoded = pd.get_dummies(X, columns=cat_cols_to_encode, drop_first=True)\n",
        "\n",
        "mi_scores = mutual_info_classif(X_encoded, y, random_state=42)\n",
        "\n",
        "\n",
        "mi_series = pd.Series(mi_scores, index=X_encoded.columns)\n",
        "\n",
        "top_5 = mi_series.nlargest(5)\n",
        "\n",
        "print(\"Top 5 most important features (using Mutual Information):\")\n",
        "print(top_5)"
      ]
    },
    {
      "cell_type": "markdown",
      "metadata": {
        "id": "imoVr9ncIJON"
      },
      "source": [
        "## 2. Perform Box-Cox Transformations to relevant features"
      ]
    },
    {
      "cell_type": "code",
      "execution_count": 7,
      "metadata": {
        "colab": {
          "base_uri": "https://localhost:8080/"
        },
        "id": "Bj7p_G0uITkW",
        "outputId": "d1bc5c37-1aeb-4e4d-824e-9c8107fe1b0d"
      },
      "outputs": [
        {
          "output_type": "stream",
          "name": "stdout",
          "text": [
            "Applied Box-Cox to 'age' with lambda = 1.5268\n",
            "Applied Box-Cox to 'trestbps' with lambda = -0.7397\n",
            "Applied Box-Cox to 'chol' with lambda = -0.1009\n",
            "Applied Box-Cox to 'thalach' with lambda = 2.1716\n",
            "Skipping Box-Cox for 'oldpeak' as it contains non-positive values.\n",
            "\n",
            "DataFrame after Box-Cox transformation:\n",
            "   age  trestbps  chol  thalach  oldpeak  sex_1   cp_1   cp_2   cp_3  fbs_1  \\\n",
            "0   52       125   212      168      1.0   True  False  False  False  False   \n",
            "1   53       140   203      155      3.1   True  False  False  False   True   \n",
            "2   70       145   174      125      2.6   True  False  False  False  False   \n",
            "3   61       148   203      161      0.0   True  False  False  False  False   \n",
            "4   62       138   294      106      1.9  False  False  False  False   True   \n",
            "\n",
            "   ...   ca_3   ca_4  thal_1  thal_2  thal_3  age_boxcox  trestbps_boxcox  \\\n",
            "0  ...  False  False   False   False    True  272.372422         1.313869   \n",
            "1  ...  False  False   False   False    True  280.429390         1.316925   \n",
            "2  ...  False  False   False   False    True  429.185698         1.317821   \n",
            "3  ...  False  False   False   False    True  347.725370         1.318333   \n",
            "4  ...   True  False   False    True   False  356.482692         1.316551   \n",
            "\n",
            "   chol_boxcox  thalach_boxcox  oldpeak  \n",
            "0     4.138422    31304.507138      1.0  \n",
            "1     4.113094    26281.482428      3.1  \n",
            "2     4.022191    16473.082758      2.6  \n",
            "3     4.113094    28540.954701      0.0  \n",
            "4     4.325814    11515.351967      1.9  \n",
            "\n",
            "[5 rows x 27 columns]\n"
          ]
        }
      ],
      "source": [
        "from scipy import stats\n",
        "\n",
        "numerical_cols = X.select_dtypes(include=['float64', 'int64']).columns.tolist()\n",
        "\n",
        "numerical_cols_to_transform = [col for col in numerical_cols if col not in categorical_cols_to_encode]\n",
        "\n",
        "transformed_data = pd.DataFrame()\n",
        "for col in numerical_cols_to_transform:\n",
        "    if (X[col] > 0).all():\n",
        "        transformed_data[col + '_boxcox'], lambda_value = stats.boxcox(X[col])\n",
        "        print(f\"Applied Box-Cox to '{col}' with lambda = {lambda_value:.4f}\")\n",
        "    else:\n",
        "        print(f\"Skipping Box-Cox for '{col}' as it contains non-positive values.\")\n",
        "        transformed_data[col] = X[col]\n",
        "\n",
        "X_transformed = pd.concat([X_encoded, transformed_data], axis=1)\n",
        "\n",
        "print(\"\\nDataFrame after Box-Cox transformation:\")\n",
        "print(X_transformed.head())"
      ]
    },
    {
      "cell_type": "markdown",
      "metadata": {
        "id": "RWyCYg3OIcX7"
      },
      "source": [
        "## 3. Perform Feature Binning to Age Column and add it as a new column to the dataset"
      ]
    },
    {
      "cell_type": "code",
      "execution_count": 8,
      "metadata": {
        "colab": {
          "base_uri": "https://localhost:8080/"
        },
        "id": "ViH14BpZIjdz",
        "outputId": "a23ef8bb-957b-4113-8b45-c30ba5796c0a"
      },
      "outputs": [
        {
          "output_type": "stream",
          "name": "stdout",
          "text": [
            "\n",
            "DataFrame with 'age_binned' column:\n",
            "   age  sex  cp  trestbps  chol  fbs  restecg  thalach  exang  oldpeak  slope  \\\n",
            "0   52    1   0       125   212    0        1      168      0      1.0      2   \n",
            "1   53    1   0       140   203    1        0      155      1      3.1      0   \n",
            "2   70    1   0       145   174    0        1      125      1      2.6      0   \n",
            "3   61    1   0       148   203    0        1      161      0      0.0      2   \n",
            "4   62    0   0       138   294    1        1      106      0      1.9      1   \n",
            "\n",
            "   ca  thal age_binned  \n",
            "0   2     3      50-59  \n",
            "1   0     3      50-59  \n",
            "2   0     3      60-69  \n",
            "3   1     3      60-69  \n",
            "4   3     2      60-69  \n"
          ]
        }
      ],
      "source": [
        "bins = [29, 40, 50, 60, 70, 78]\n",
        "labels = ['29-39', '40-49', '50-59', '60-69', '70-78']\n",
        "X['age_binned'] = pd.cut(X['age'], bins=bins, labels=labels, right=True)\n",
        "\n",
        "print(\"\\nDataFrame with 'age_binned' column:\")\n",
        "print(X.head())\n"
      ]
    },
    {
      "cell_type": "markdown",
      "metadata": {
        "id": "BkXOa5r2IkAh"
      },
      "source": [
        "## 4. Find the most orthogonal feature to the 'chol' feature"
      ]
    },
    {
      "cell_type": "code",
      "execution_count": 9,
      "metadata": {
        "colab": {
          "base_uri": "https://localhost:8080/"
        },
        "id": "TGjUk6IwI1Ea",
        "outputId": "822299f6-4334-4fe5-c6cd-3a0d443e0a8e"
      },
      "outputs": [
        {
          "output_type": "stream",
          "name": "stdout",
          "text": [
            "\n",
            "The most orthogonal feature to 'chol' is 'cp_1'\n",
            "Its absolute Pearson correlation coefficient with 'chol' is: 0.0111\n"
          ]
        }
      ],
      "source": [
        "def find_most_orthogonal_feature(df, target_feature):\n",
        "    if target_feature not in df.columns:\n",
        "        print(f\"Error: Target feature '{target_feature}' not found in the DataFrame.\")\n",
        "        return None, None\n",
        "    correlation_matrix = df.corr()\n",
        "\n",
        "    if target_feature not in correlation_matrix.columns:\n",
        "         print(f\"Error: Target feature '{target_feature}' not found in the correlation matrix.\")\n",
        "         return None, None\n",
        "\n",
        "    target_correlations = correlation_matrix[target_feature].abs()\n",
        "\n",
        "    target_correlations = target_correlations.drop(target_feature, errors='ignore')\n",
        "\n",
        "    if target_correlations.empty:\n",
        "        print(\"No other features to compare with.\")\n",
        "        return None, None\n",
        "\n",
        "    most_orthogonal_feature = target_correlations.idxmin()\n",
        "    min_correlation_value = target_correlations.min()\n",
        "\n",
        "    return most_orthogonal_feature, min_correlation_value\n",
        "\n",
        "most_orthogonal_feature, correlation_value = find_most_orthogonal_feature(X_transformed, 'chol')\n",
        "\n",
        "if most_orthogonal_feature:\n",
        "    print(f\"\\nThe most orthogonal feature to 'chol' is '{most_orthogonal_feature}'\")\n",
        "    print(f\"Its absolute Pearson correlation coefficient with 'chol' is: {correlation_value:.4f}\")"
      ]
    }
  ],
  "metadata": {
    "colab": {
      "provenance": []
    },
    "kernelspec": {
      "display_name": "Python 3",
      "name": "python3"
    },
    "language_info": {
      "name": "python"
    }
  },
  "nbformat": 4,
  "nbformat_minor": 0
}