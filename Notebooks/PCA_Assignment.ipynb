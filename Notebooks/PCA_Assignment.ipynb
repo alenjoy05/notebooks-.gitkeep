{
  "nbformat": 4,
  "nbformat_minor": 0,
  "metadata": {
    "colab": {
      "private_outputs": true,
      "provenance": []
    },
    "kernelspec": {
      "name": "python3",
      "display_name": "Python 3"
    },
    "language_info": {
      "name": "python"
    }
  },
  "cells": [
    {
      "cell_type": "markdown",
      "source": [
        "## 1. Import libraries"
      ],
      "metadata": {
        "id": "nLKjkFLl78r7"
      }
    },
    {
      "cell_type": "code",
      "execution_count": null,
      "metadata": {
        "id": "kxnxg8cf7WMl"
      },
      "outputs": [],
      "source": [
        "import numpy as np\n",
        "import matplotlib.pyplot as plt\n",
        "from sklearn.decomposition import PCA\n",
        "from sklearn.preprocessing import StandardScaler\n",
        "from tensorflow.keras.datasets import mnist"
      ]
    },
    {
      "cell_type": "markdown",
      "source": [
        "## 2. Load MNIST data from Keras"
      ],
      "metadata": {
        "id": "nuHqxhEc8IGm"
      }
    },
    {
      "cell_type": "code",
      "source": [
        "# Load training and test sets\n",
        "(x_train, y_train), (x_test, y_test) = mnist.load_data()\n",
        "\n",
        "# Combine into one dataset\n",
        "X = np.vstack([x_train.reshape(len(x_train), -1), x_test.reshape(len(x_test), -1)])\n",
        "y = np.concatenate([y_train, y_test])\n",
        "\n",
        "print(\"Data shape:\", X.shape)   # Expect (70000, 784)\n",
        "print(\"Labels shape:\", y.shape)"
      ],
      "metadata": {
        "id": "_lRLMFvd8QTT"
      },
      "execution_count": null,
      "outputs": []
    },
    {
      "cell_type": "markdown",
      "source": [
        "## 3. Standardize the data"
      ],
      "metadata": {
        "id": "TTDa_yYz8qdO"
      }
    },
    {
      "cell_type": "code",
      "source": [
        "scaler = StandardScaler()\n",
        "X_scaled = scaler.fit_transform(X)"
      ],
      "metadata": {
        "id": "zblvQGSk8vA9"
      },
      "execution_count": null,
      "outputs": []
    },
    {
      "cell_type": "markdown",
      "source": [
        "## 4. Apply PCA"
      ],
      "metadata": {
        "id": "r-gkOHjv8yGS"
      }
    },
    {
      "cell_type": "code",
      "source": [
        "pca = PCA(n_components=2, random_state=42)\n",
        "X_pca = pca.fit_transform(X_scaled)\n",
        "\n",
        "explained_variance = pca.explained_variance_ratio_ * 100\n",
        "print(f\"Explained variance by PC1: {explained_variance[0]:.2f}%\")\n",
        "print(f\"Explained variance by PC2: {explained_variance[1]:.2f}%\")\n",
        "print(f\"Total variance (PC1 + PC2): {explained_variance.sum():.2f}%\")"
      ],
      "metadata": {
        "id": "jqowMFRU9NWT"
      },
      "execution_count": null,
      "outputs": []
    },
    {
      "cell_type": "markdown",
      "source": [
        "## 5. Scatter plot with colored labels"
      ],
      "metadata": {
        "id": "YRFLvxTV84ac"
      }
    },
    {
      "cell_type": "code",
      "source": [
        "sample_size = 10000\n",
        "rng = np.random.RandomState(42)\n",
        "idx = rng.choice(X_pca.shape[0], sample_size, replace=False)\n",
        "\n",
        "plt.figure(figsize=(10, 8))\n",
        "for digit in range(10):\n",
        "    sel = y[idx] == digit\n",
        "    plt.scatter(X_pca[idx][sel, 0], X_pca[idx][sel, 1], s=10, alpha=0.6, label=str(digit))\n",
        "\n",
        "plt.xlabel(\"Principal Component 1\")\n",
        "plt.ylabel(\"Principal Component 2\")\n",
        "plt.title(f\"PCA Projection of MNIST (Variance: {explained_variance[0]:.2f}%, {explained_variance[1]:.2f}%)\")\n",
        "plt.legend(title=\"Digit\", markerscale=2)\n",
        "plt.grid(alpha=0.3)\n",
        "plt.show()"
      ],
      "metadata": {
        "id": "sEVDcbXF87g8"
      },
      "execution_count": null,
      "outputs": []
    }
  ]
}