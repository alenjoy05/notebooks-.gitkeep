{
  "nbformat": 4,
  "nbformat_minor": 0,
  "metadata": {
    "colab": {
      "private_outputs": true,
      "provenance": []
    },
    "kernelspec": {
      "name": "python3",
      "display_name": "Python 3"
    },
    "language_info": {
      "name": "python"
    }
  },
  "cells": [
    {
      "cell_type": "code",
      "execution_count": null,
      "metadata": {
        "id": "i81QgB-ktGaT"
      },
      "outputs": [],
      "source": [
        "import cv2\n",
        "import numpy as np\n",
        "from sklearn.cluster import KMeans\n",
        "import matplotlib.pyplot as plt\n",
        "from google.colab import files\n",
        "\n",
        "# Step 1: Upload image in Colab\n",
        "uploaded = files.upload()\n",
        "image_path = list(uploaded.keys())[0]\n",
        "\n",
        "# Step 2: Apply K-Means segmentation\n",
        "def kmeans_segmentation(image_path, k=2, mask_cluster=0, mask_color=(255, 255, 255)):\n",
        "    img = cv2.imread(image_path)\n",
        "    img_rgb = cv2.cvtColor(img, cv2.COLOR_BGR2RGB)\n",
        "\n",
        "    # Flatten image to (num_pixels, 3)\n",
        "    pixel_values = img_rgb.reshape((-1, 3))\n",
        "    pixel_values = np.float32(pixel_values)\n",
        "\n",
        "    # Apply K-Means\n",
        "    kmeans = KMeans(n_clusters=k, random_state=42, n_init=10)\n",
        "    labels = kmeans.fit_predict(pixel_values)\n",
        "\n",
        "    # Mask selected cluster\n",
        "    segmented_pixels = pixel_values.copy()\n",
        "    segmented_pixels[labels == mask_cluster] = mask_color\n",
        "\n",
        "    # Reshape back to original dimensions\n",
        "    segmented_image = segmented_pixels.reshape(img_rgb.shape).astype(np.uint8)\n",
        "\n",
        "    return img_rgb, segmented_image\n",
        "\n",
        "# Step 3: Run segmentation\n",
        "original_img, segmented_img = kmeans_segmentation(image_path, k=2, mask_cluster=0)\n",
        "\n",
        "# Step 4: Display results\n",
        "plt.figure(figsize=(12,6))\n",
        "\n",
        "plt.subplot(1,2,1)\n",
        "plt.imshow(original_img)\n",
        "plt.title(\"Original Image\")\n",
        "plt.axis(\"off\")\n",
        "\n",
        "plt.subplot(1,2,2)\n",
        "plt.imshow(segmented_img)\n",
        "plt.title(\"Segmented Image (Cluster Masked)\")\n",
        "plt.axis(\"off\")\n",
        "\n",
        "plt.show()\n"
      ]
    }
  ]
}