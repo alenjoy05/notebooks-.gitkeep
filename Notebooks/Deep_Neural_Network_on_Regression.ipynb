{
  "nbformat": 4,
  "nbformat_minor": 0,
  "metadata": {
    "colab": {
      "private_outputs": true,
      "provenance": []
    },
    "kernelspec": {
      "name": "python3",
      "display_name": "Python 3"
    },
    "language_info": {
      "name": "python"
    }
  },
  "cells": [
    {
      "cell_type": "code",
      "execution_count": null,
      "metadata": {
        "id": "sUrkJ71gbJw8"
      },
      "outputs": [],
      "source": [
        "import pandas as pd"
      ]
    },
    {
      "cell_type": "code",
      "source": [
        "data = pd.read_csv('beer-servings.csv')"
      ],
      "metadata": {
        "id": "slom-UL1lvZa"
      },
      "execution_count": null,
      "outputs": []
    },
    {
      "cell_type": "code",
      "source": [
        "data.head(2)"
      ],
      "metadata": {
        "id": "4UQhaAP-lvko"
      },
      "execution_count": null,
      "outputs": []
    },
    {
      "cell_type": "code",
      "source": [
        "data.drop(['Unnamed: 0','country','continent'],axis=1,inplace=True)"
      ],
      "metadata": {
        "id": "8QT2QKHQmFvG"
      },
      "execution_count": null,
      "outputs": []
    },
    {
      "cell_type": "code",
      "source": [
        "data.head(1)"
      ],
      "metadata": {
        "id": "sifj5Fjomm6i"
      },
      "execution_count": null,
      "outputs": []
    },
    {
      "cell_type": "code",
      "source": [
        "y = data[\"total_litres_of_pure_alcohol\"]\n",
        "X = data.drop(\"total_litres_of_pure_alcohol\",axis=1)"
      ],
      "metadata": {
        "id": "ZnuErjeEmv-Q"
      },
      "execution_count": null,
      "outputs": []
    },
    {
      "cell_type": "code",
      "source": [
        "X.isna().sum()"
      ],
      "metadata": {
        "id": "sNtfb46XnEuY"
      },
      "execution_count": null,
      "outputs": []
    },
    {
      "cell_type": "code",
      "source": [
        "X.fillna(X.mean(),inplace=True)"
      ],
      "metadata": {
        "id": "qCBc8nign0Nl"
      },
      "execution_count": null,
      "outputs": []
    },
    {
      "cell_type": "code",
      "source": [
        "y.isna().sum()"
      ],
      "metadata": {
        "id": "WrSw7nTcn9eJ"
      },
      "execution_count": null,
      "outputs": []
    },
    {
      "cell_type": "code",
      "source": [
        "y.fillna(y.mean(),inplace=True)"
      ],
      "metadata": {
        "id": "lnaB4zRmoBs7"
      },
      "execution_count": null,
      "outputs": []
    },
    {
      "cell_type": "code",
      "source": [
        "from sklearn.model_selection import train_test_split\n",
        "X_train, X_test,y_train,y_test = train_test_split(X,y,test_size=0.25,random_state=42)"
      ],
      "metadata": {
        "id": "qxkLhwgboITn"
      },
      "execution_count": null,
      "outputs": []
    },
    {
      "cell_type": "code",
      "source": [
        "from tensorflow.keras.models import Sequential\n",
        "from tensorflow.keras.layers import Dense, Input"
      ],
      "metadata": {
        "id": "cfGiPa8UpAy-"
      },
      "execution_count": null,
      "outputs": []
    },
    {
      "cell_type": "code",
      "source": [
        "model = Sequential()\n",
        "model.add(Input(shape=(3,)))\n",
        "model.add(Dense(5,activation='relu'))\n",
        "model.add(Dense(10,activation='relu'))\n",
        "model.add(Dense(5,activation='relu'))\n",
        "model.add(Dense(1,activation='relu'))"
      ],
      "metadata": {
        "id": "s4vaNDaApPRh"
      },
      "execution_count": null,
      "outputs": []
    },
    {
      "cell_type": "code",
      "source": [
        "# model.compile(optimizer='adam',loss='mse',metrics=['r2_score'])\n",
        "\n",
        "from tensorflow.keras.optimizers import Adam\n",
        "LEARNING_RATE = 0.01\n",
        "adam_opt = Adam(learning_rate=LEARNING_RATE,beta_1=0.9,beta_2=0.999,epsilon=1e-8)\n",
        "model.compile(optimizer=adam_opt,loss=\"mean_squared_error\",metrics=[\"mse\"])"
      ],
      "metadata": {
        "id": "vx9nYy9Apj_E"
      },
      "execution_count": null,
      "outputs": []
    },
    {
      "cell_type": "code",
      "source": [
        "from keras import layers\n",
        "from keras import regularizers\n",
        "\n",
        "layer = layers.Dense(\n",
        "    units=64,\n",
        "    kernel_regularizer=regularizers.L1L2(l1=1e-5, l2=1e-4),\n",
        "    bias_regularizer=regularizers.L2(1e-4),\n",
        "    activity_regularizer=regularizers.L2(1e-5)\n",
        "\n",
        "\n",
        ")"
      ],
      "metadata": {
        "id": "Ju394U1GQXD1"
      },
      "execution_count": null,
      "outputs": []
    },
    {
      "cell_type": "code",
      "source": [
        "history = model.fit(X_train,y_train,epochs=100,validation_data=(X_test,y_test))"
      ],
      "metadata": {
        "id": "5mAgIyVhp1y-"
      },
      "execution_count": null,
      "outputs": []
    },
    {
      "cell_type": "code",
      "source": [
        "import matplotlib.pyplot as plt\n",
        "plt.figure(figsize=(4,4))\n",
        "plt.plot(history.history['loss'],label='Training Loss')\n",
        "plt.plot(history.history['val_loss'],label='Validation Loss')\n",
        "plt.title('Loss Curves')\n",
        "plt.xlabel('Epochs')\n",
        "plt.ylabel('Loss')\n",
        "plt.legend()\n",
        "plt.show()"
      ],
      "metadata": {
        "id": "HEOA5Zt2qJT_"
      },
      "execution_count": null,
      "outputs": []
    },
    {
      "cell_type": "code",
      "source": [
        "model.save('beer_model.keras')"
      ],
      "metadata": {
        "id": "NLycOUG0rd5-"
      },
      "execution_count": null,
      "outputs": []
    },
    {
      "cell_type": "code",
      "source": [
        "import numpy as np\n",
        "sample_input = np.array([[1,2,3]])\n",
        "sample_output = model.predict(sample_input)\n",
        "print(sample_output)"
      ],
      "metadata": {
        "id": "Js3WRVQvtWvx"
      },
      "execution_count": null,
      "outputs": []
    },
    {
      "cell_type": "code",
      "source": [
        "model.evaluate(X_test,y_test)"
      ],
      "metadata": {
        "id": "v6Y5TmLLurc-"
      },
      "execution_count": null,
      "outputs": []
    }
  ]
}