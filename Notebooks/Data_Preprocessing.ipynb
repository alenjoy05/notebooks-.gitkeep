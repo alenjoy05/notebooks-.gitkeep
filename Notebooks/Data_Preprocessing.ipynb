{
  "nbformat": 4,
  "nbformat_minor": 0,
  "metadata": {
    "colab": {
      "private_outputs": true,
      "provenance": []
    },
    "kernelspec": {
      "name": "python3",
      "display_name": "Python 3"
    },
    "language_info": {
      "name": "python"
    }
  },
  "cells": [
    {
      "cell_type": "code",
      "execution_count": null,
      "metadata": {
        "id": "yZyPC7QXISvx"
      },
      "outputs": [],
      "source": [
        "import numpy as np\n",
        "import pandas as pd\n",
        "import seaborn as sns\n",
        "import matplotlib.pyplot as plt\n",
        "from sklearn.preprocessing import OneHotEncoder\n",
        "from sklearn.preprocessing import LabelEncoder\n",
        "from sklearn.linear_model import LinearRegression\n",
        "from sklearn.model_selection import train_test_split\n",
        "from sklearn.metrics import r2_score, mean_squared_error\n",
        "\n",
        "data = pd.read_csv(\"auto-mpg.csv\")\n",
        "print(data.duplicated().sum())"
      ]
    },
    {
      "cell_type": "code",
      "source": [
        "data.isna().sum()"
      ],
      "metadata": {
        "id": "Vp3k3_pTJzPJ"
      },
      "execution_count": null,
      "outputs": []
    },
    {
      "cell_type": "code",
      "source": [
        "num_df = data.select_dtypes(include=['int64', 'float64'])\n",
        "cat_df = data.select_dtypes(include=['object'])\n",
        "print(num_df)\n",
        "print(cat_df)"
      ],
      "metadata": {
        "id": "br5YUqUuJ285"
      },
      "execution_count": null,
      "outputs": []
    },
    {
      "cell_type": "code",
      "source": [
        "num_cols = num_df.columns.tolist()\n",
        "print(num_cols)\n",
        "for col in num_cols:\n",
        "    plt.hist(num_df[col].dropna())\n",
        "    plt.xlabel(col)\n",
        "    plt.ylabel(\"counts\")\n",
        "    plt.show()"
      ],
      "metadata": {
        "id": "XkMMYY48J6IB"
      },
      "execution_count": null,
      "outputs": []
    },
    {
      "cell_type": "code",
      "source": [
        "for col in num_cols:\n",
        "    num_df[col] = num_df[col].fillna(num_df[col].median())\n",
        "\n",
        "print(num_df.isna().sum())"
      ],
      "metadata": {
        "id": "O0QG3QGFKsLb"
      },
      "execution_count": null,
      "outputs": []
    },
    {
      "cell_type": "code",
      "source": [
        "plt.boxplot(num_df)\n",
        "plt.show()"
      ],
      "metadata": {
        "id": "KXMyNAOuKu51"
      },
      "execution_count": null,
      "outputs": []
    },
    {
      "cell_type": "code",
      "source": [
        "def clip_outliers(df, column_name):\n",
        "    q1= df[column_name].quantile(0.25)\n",
        "    q3 = df[column_name].quantile(0.75)\n",
        "    iqr = q3 - q1\n",
        "    upper_bound = q3 + 1.5 * iqr\n",
        "    lower_bound = q1 - 1.5 * iqr\n",
        "    df[column_name] = df[column_name].clip(upper=upper_bound)\n",
        "    df[column_name] = df[column_name].clip(lower=lower_bound)\n",
        "    return df[column_name]\n",
        "\n",
        "for col in num_cols:\n",
        "    num_df[col]= clip_outliers(num_df, col)\n",
        "    plt.boxplot(num_df)\n",
        "    plt.show()"
      ],
      "metadata": {
        "id": "svbAzG0UKw-c"
      },
      "execution_count": null,
      "outputs": []
    },
    {
      "cell_type": "code",
      "source": [
        "num_df.head(2)"
      ],
      "metadata": {
        "id": "WLy0_BjoKzch"
      },
      "execution_count": null,
      "outputs": []
    },
    {
      "cell_type": "code",
      "source": [
        "from sklearn.preprocessing import MinMaxScaler\n",
        "min_max_scaler = MinMaxScaler()\n",
        "num_df = min_max_scaler.fit_transform(num_df)\n",
        "print(num_df)"
      ],
      "metadata": {
        "id": "8EUhQerVK1tD"
      },
      "execution_count": null,
      "outputs": []
    },
    {
      "cell_type": "code",
      "source": [
        "from sklearn.preprocessing import StandardScaler\n",
        "standard_scaler = StandardScaler()\n",
        "num_df = standard_scaler.fit_transform(num_df)\n",
        "print(num_df)"
      ],
      "metadata": {
        "id": "Nc4RmILxK4x8"
      },
      "execution_count": null,
      "outputs": []
    },
    {
      "cell_type": "code",
      "source": [
        "import pickle\n",
        "\n",
        "with open(\"min_max_scaler.pkl\", \"wb\") as file:\n",
        "    pickle.dump(min_max_scaler, file)"
      ],
      "metadata": {
        "id": "Snq55f7KK7ZX"
      },
      "execution_count": null,
      "outputs": []
    },
    {
      "cell_type": "code",
      "source": [
        "with open(\"min_max_scaler.pkl\", \"rb\") as file:\n",
        "    min_max_scaler = pickle.load(file)\n",
        "print(\"Min:\", min_max_scaler.min_)\n",
        "print(\"Scale:\", min_max_scaler.scale_)\n",
        "print(\"Feature range:\", min_max_scaler.feature_range)"
      ],
      "metadata": {
        "id": "Qlb7z6weK9l_"
      },
      "execution_count": null,
      "outputs": []
    },
    {
      "cell_type": "code",
      "source": [
        "test_input = np.array([[20, 4, 150, 2500, 15, 80, 1]])\n",
        "test_output = min_max_scaler.transform(test_input)\n",
        "print(test_output)"
      ],
      "metadata": {
        "id": "mY1y7GLDMKSF"
      },
      "execution_count": null,
      "outputs": []
    },
    {
      "cell_type": "code",
      "source": [
        "from sklearn.preprocessing import OneHotEncoder\n",
        "data = {'color': ['yellow', 'green', 'blue', 'yellow', 'green']}\n",
        "df = pd.DataFrame(data)\n",
        "encoder = OneHotEncoder(sparse_output=False)\n",
        "encoded_data = encoder.fit_transform(df[['color']])\n",
        "encoded_df = pd.DataFrame(encoded_data, columns=['blue', 'green', 'yellow'])\n",
        "final_df = pd.concat([df, encoded_df] , axis=1)\n",
        "print(final_df)"
      ],
      "metadata": {
        "id": "yN5_4jrOMMdY"
      },
      "execution_count": null,
      "outputs": []
    },
    {
      "cell_type": "code",
      "source": [
        "cat_cols = cat_df.columns.tolist()\n",
        "for col in cat_cols:\n",
        "    encoder = LabelEncoder()\n",
        "    cat_df[col] = encoder.fit_transform(cat_df[col])\n",
        "print(cat_df.head())\n"
      ],
      "metadata": {
        "id": "nsEtIJ66MOlD"
      },
      "execution_count": null,
      "outputs": []
    },
    {
      "cell_type": "code",
      "source": [
        "num_df_scaled = pd.DataFrame(num_df, columns=num_cols)\n",
        "\n",
        "y = num_df_scaled[\"mpg\"]\n",
        "X = num_df_scaled.drop(\"mpg\", axis=1)\n",
        "\n",
        "from sklearn.model_selection import train_test_split\n",
        "X_train, X_test, y_train, y_test = train_test_split(X, y, test_size=0.2, random_state=42)\n",
        "X_train"
      ],
      "metadata": {
        "id": "-D-rZqenMQlH"
      },
      "execution_count": null,
      "outputs": []
    }
  ]
}