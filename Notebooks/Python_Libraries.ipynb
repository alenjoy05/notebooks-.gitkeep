{
  "nbformat": 4,
  "nbformat_minor": 0,
  "metadata": {
    "colab": {
      "private_outputs": true,
      "provenance": []
    },
    "kernelspec": {
      "name": "python3",
      "display_name": "Python 3"
    },
    "language_info": {
      "name": "python"
    }
  },
  "cells": [
    {
      "cell_type": "markdown",
      "source": [
        "**Basic Array Operations**\n",
        "\n",
        "Convert the mpg column into a NumPy array and calculate:\n",
        "* The mean, median, and standard deviation of mpg.\n",
        "* The number of cars with mpg greater than 25."
      ],
      "metadata": {
        "id": "Y3199Wz9UDsJ"
      }
    },
    {
      "cell_type": "code",
      "source": [
        "import numpy as np\n",
        "import pandas as pd\n",
        "\n",
        "df = pd.read_csv(\"auto-mpg.csv\")\n",
        "\n",
        "mpg_array = df['mpg'].values\n",
        "\n",
        "mean = np.mean(mpg_array)\n",
        "median = np.median(mpg_array)\n",
        "std_dev = np.std(mpg_array)\n",
        "\n",
        "print(f\"Mean of mpg: {mean}\")\n",
        "print(f\"Median of mpg: {median}\")\n",
        "print(f\"Standard deviation of mpg: {std_dev}\")\n",
        "\n",
        "cars_greater_than_25_mpg = np.sum(mpg_array > 25)\n",
        "print(f\"Number of cars with mpg greater than 25: {cars_greater_than_25_mpg}\")"
      ],
      "metadata": {
        "id": "-7QJM9dcQhEw"
      },
      "execution_count": null,
      "outputs": []
    },
    {
      "cell_type": "markdown",
      "source": [
        "**Filtering**\n",
        "\n",
        "*   Using NumPy, filter all cars with more than 6 cylinders.\n",
        "*   Return the corresponding car_name as a list."
      ],
      "metadata": {
        "id": "k0VxnV13UwoI"
      }
    },
    {
      "cell_type": "code",
      "source": [
        "cylinders_array = df['cylinders'].values\n",
        "\n",
        "car_names = df['car name'].values\n",
        "\n",
        "filtered_cars = car_names[cylinders_array > 6]\n",
        "\n",
        "filtered_cars_list = filtered_cars.tolist()\n",
        "\n",
        "filtered_cars_list"
      ],
      "metadata": {
        "id": "ff5xueXPTIqA"
      },
      "execution_count": null,
      "outputs": []
    },
    {
      "cell_type": "markdown",
      "source": [
        "**Statistical Analysis**\n",
        "\n",
        "Compute the 25th, 50th, and 75th percentiles of the weight column using NumPy."
      ],
      "metadata": {
        "id": "zbNt-Gj9VFw_"
      }
    },
    {
      "cell_type": "code",
      "source": [
        "weight_array = df['weight'].values\n",
        "\n",
        "percentiles = np.percentile(weight_array, [25, 50, 75])\n",
        "\n",
        "print(f\"25th percentile of weight: {percentiles[0]}\")\n",
        "print(f\"50th percentile of weight: {percentiles[1]}\")\n",
        "print(f\"75th percentile of weight: {percentiles[2]}\")\n"
      ],
      "metadata": {
        "id": "k72bCH29TUJq"
      },
      "execution_count": null,
      "outputs": []
    },
    {
      "cell_type": "markdown",
      "source": [
        "**Array Manipulation**\n",
        "\n",
        "Convert the acceleration column into a NumPy array and normalize its values\n",
        "(scale between 0 and 1)."
      ],
      "metadata": {
        "id": "q3-YY6fSWMFj"
      }
    },
    {
      "cell_type": "code",
      "source": [
        "acceleration_array = df['acceleration'].values\n",
        "\n",
        "min_accel = np.min(acceleration_array)\n",
        "max_accel = np.max(acceleration_array)\n",
        "normalized_acceleration = (acceleration_array - min_accel) / (max_accel - min_accel)\n",
        "\n",
        "print(\"\\nNormalized Acceleration Array:\")\n",
        "normalized_acceleration"
      ],
      "metadata": {
        "id": "UTkPgorvTbtj"
      },
      "execution_count": null,
      "outputs": []
    },
    {
      "cell_type": "markdown",
      "source": [
        "**Broadcasting**\n",
        "\n",
        "Increase all horsepower values by 10% and store the updated values in a new\n",
        "NumPy array. Handle missing data (if any) by replacing it with the mean of the\n",
        "column before applying the increase."
      ],
      "metadata": {
        "id": "JZSMRlCAWcZj"
      }
    },
    {
      "cell_type": "code",
      "source": [
        "import pandas as pd\n",
        "import numpy as np\n",
        "\n",
        "df['horsepower'] = pd.to_numeric(df['horsepower'], errors='coerce')\n",
        "\n",
        "mean_horsepower = df['horsepower'].mean()\n",
        "\n",
        "df['horsepower'] = df['horsepower'].fillna(mean_horsepower)\n",
        "\n",
        "horsepower_array = df['horsepower'].values\n",
        "\n",
        "updated_horsepower_array = horsepower_array * 1.10\n",
        "\n",
        "print(\"\\nUpdated Horsepower Array:\")\n",
        "print(updated_horsepower_array)"
      ],
      "metadata": {
        "id": "pmRf28nkTgXK"
      },
      "execution_count": null,
      "outputs": []
    },
    {
      "cell_type": "markdown",
      "source": [
        "**Boolean indexing**\n",
        "\n",
        "Find the average displacement of cars with an origin of 2 (Europe) using NumPy\n",
        "indexing."
      ],
      "metadata": {
        "id": "LgUM1mI4WqHq"
      }
    },
    {
      "cell_type": "code",
      "source": [
        "european_cars = df[df['origin'] == 2]\n",
        "\n",
        "european_displacement_array = european_cars['displacement'].values\n",
        "\n",
        "avg_european_displacement = np.mean(european_displacement_array)\n",
        "\n",
        "print(f\"\\nAverage displacement of European cars: {avg_european_displacement}\")"
      ],
      "metadata": {
        "id": "5bFrmZcOTlUY"
      },
      "execution_count": null,
      "outputs": []
    },
    {
      "cell_type": "markdown",
      "source": [
        "**Matrix Operations**\n",
        "\n",
        "Create a 2D NumPy array containing the columns mpg, horsepower, and weight.\n",
        "Compute the dot product of this matrix with a given vector [1, 0.5, -0.2].\n"
      ],
      "metadata": {
        "id": "dRGL4bykWyjA"
      }
    },
    {
      "cell_type": "code",
      "source": [
        "df['horsepower'] = pd.to_numeric(df['horsepower'], errors='coerce')\n",
        "mean_horsepower = df['horsepower'].mean()\n",
        "df['horsepower'] = df['horsepower'].fillna(mean_horsepower)  # <- FIXED LINE\n",
        "\n",
        "matrix = df[['mpg', 'horsepower', 'weight']].values\n",
        "vector = np.array([1, 0.5, -0.2])\n",
        "dot_product_result = np.dot(matrix, vector)\n",
        "\n",
        "print(\"\\nDot product of the matrix and the vector:\")\n",
        "dot_product_result"
      ],
      "metadata": {
        "id": "ko6qqd0RTqdh"
      },
      "execution_count": null,
      "outputs": []
    },
    {
      "cell_type": "markdown",
      "source": [
        "**Sorting**\n",
        "\n",
        "Use NumPy to sort the cars by model_year in descending order and display the first\n",
        "five car names."
      ],
      "metadata": {
        "id": "GFGUSA3iXD_J"
      }
    },
    {
      "cell_type": "code",
      "source": [
        "model_year_array = df['model year'].values\n",
        "car_name_array = df['car name'].values\n",
        "\n",
        "sorted_indices = np.argsort(model_year_array)[::-1]\n",
        "\n",
        "sorted_car_names = car_name_array[sorted_indices]\n",
        "\n",
        "print(\"\\nFirst five car names sorted by model year (descending):\")\n",
        "print(sorted_car_names[:5])"
      ],
      "metadata": {
        "id": "29K_koUuTv_c"
      },
      "execution_count": null,
      "outputs": []
    },
    {
      "cell_type": "markdown",
      "source": [
        "**Correlation**\n",
        "\n",
        "Compute the Pearson correlation coefficient between mpg and weight using\n",
        "NumPy."
      ],
      "metadata": {
        "id": "uKs8ZyTNXRN_"
      }
    },
    {
      "cell_type": "code",
      "source": [
        "correlation_coefficient = np.corrcoef(mpg_array, weight_array)[0, 1]\n",
        "\n",
        "print(f\"\\nPearson correlation coefficient between mpg and weight: {correlation_coefficient}\")"
      ],
      "metadata": {
        "id": "sQjfmdX6T08Z"
      },
      "execution_count": null,
      "outputs": []
    },
    {
      "cell_type": "markdown",
      "source": [
        "**Conditional Aggregates**\n",
        "\n",
        "Calculate the mean mpg for cars grouped by the number of cylinders using NumPy\n",
        "techniques."
      ],
      "metadata": {
        "id": "QaXQC5FKXmxc"
      }
    },
    {
      "cell_type": "code",
      "source": [
        "cylinders_array = df['cylinders'].values\n",
        "mpg_array = df['mpg'].values\n",
        "\n",
        "unique_cylinders = np.unique(cylinders_array)\n",
        "\n",
        "mean_mpg_by_cylinders = {}\n",
        "\n",
        "for cylinder_count in unique_cylinders:\n",
        "  mask = cylinders_array == cylinder_count\n",
        "  mpg_for_cylinder_count = mpg_array[mask]\n",
        "  mean_mpg = np.mean(mpg_for_cylinder_count)\n",
        "  mean_mpg_by_cylinders[cylinder_count] = mean_mpg\n",
        "\n",
        "print(\"\\nMean mpg for cars grouped by the number of cylinders:\")\n",
        "print(mean_mpg_by_cylinders)"
      ],
      "metadata": {
        "id": "MuQoHFjXT5OV"
      },
      "execution_count": null,
      "outputs": []
    },
    {
      "cell_type": "markdown",
      "source": [
        "**Basic Exploration**\n",
        "\n",
        "Load the dataset into a Pandas DataFrame. Display:\n",
        "\n",
        "\n",
        "*  The first 10 rows\n",
        "*  The total number of rows and columns\n",
        "*  Summary statistics for numerical columns"
      ],
      "metadata": {
        "id": "uI1WMJidaz1a"
      }
    },
    {
      "cell_type": "code",
      "source": [
        "print(\"First 10 rows of the DataFrame:\")\n",
        "print(df.head(10))\n",
        "\n",
        "print(\"\\nShape of the DataFrame (rows, columns):\")\n",
        "print(df.shape)\n",
        "\n",
        "print(\"\\nSummary statistics for numerical columns:\")\n",
        "print(df.describe())"
      ],
      "metadata": {
        "id": "s3pBRcIlanym"
      },
      "execution_count": null,
      "outputs": []
    },
    {
      "cell_type": "markdown",
      "source": [
        "**Filtering and Indexing**\n",
        "\n",
        "Find all cars manufactured in 1975 with a weight less than 3000.\n",
        "\n",
        "Return the\n",
        "DataFrame with selected columns: car_name, weight, and mpg."
      ],
      "metadata": {
        "id": "o12RfUhzbSHs"
      }
    },
    {
      "cell_type": "code",
      "source": [
        "filtered_df = df[(df['model year'] == 75) & (df['weight'] < 3000)]\n",
        "result_df = filtered_df[['car name', 'weight', 'mpg']]\n",
        "print(\"\\nCars manufactured in 1975 with weight less than 3000:\")\n",
        "result_df"
      ],
      "metadata": {
        "id": "rIjDtVNJbM8e"
      },
      "execution_count": null,
      "outputs": []
    },
    {
      "cell_type": "markdown",
      "source": [
        "**Handling Missing Data**\n",
        "\n",
        "Identify if there are any missing values in the dataset.\n",
        "\n",
        "Replace missing values in the horsepower column with the column's median."
      ],
      "metadata": {
        "id": "Dtfkb840c76h"
      }
    },
    {
      "cell_type": "code",
      "source": [
        "print(\"\\nMissing values before handling:\")\n",
        "print(df.isnull().sum())\n",
        "\n",
        "df['horsepower'] = pd.to_numeric(df['horsepower'], errors='coerce')\n",
        "median_horsepower = df['horsepower'].median()\n",
        "\n",
        "df['horsepower'] = df['horsepower'].fillna(median_horsepower)\n",
        "\n",
        "print(\"\\nMissing values after handling:\")\n",
        "print(df.isnull().sum())"
      ],
      "metadata": {
        "id": "TTDggLsvbnf_"
      },
      "execution_count": null,
      "outputs": []
    },
    {
      "cell_type": "markdown",
      "source": [
        "**Data Transformation**\n",
        "\n",
        "Add a new column power_to_weight_ratio, calculated as horsepower / weight."
      ],
      "metadata": {
        "id": "cm_xwNTKdR1a"
      }
    },
    {
      "cell_type": "code",
      "source": [
        "df['power_to_weight_ratio'] = df['horsepower'] / df['weight']\n",
        "print(\"\\nDataFrame with 'power_to_weight_ratio' column:\")\n",
        "print(df.head())"
      ],
      "metadata": {
        "id": "bKeWw3pVdQ-b"
      },
      "execution_count": null,
      "outputs": []
    },
    {
      "cell_type": "markdown",
      "source": [
        "**Group By**\n",
        "\n",
        "Group the cars by origin and calculate the mean mpg for each group."
      ],
      "metadata": {
        "id": "NgELn4LpdcLY"
      }
    },
    {
      "cell_type": "code",
      "source": [
        "mpg_by_origin = df.groupby('origin')['mpg'].mean()\n",
        "print(\"\\nMean mpg by origin:\")\n",
        "mpg_by_origin"
      ],
      "metadata": {
        "id": "Ug5KqL_NdbpR"
      },
      "execution_count": null,
      "outputs": []
    },
    {
      "cell_type": "markdown",
      "source": [
        "**Sorting**\n",
        "\n",
        "Sort the DataFrame by mpg in descending order and display the top 10 cars with\n",
        "the highest mpg."
      ],
      "metadata": {
        "id": "RI5E9RbsdqUi"
      }
    },
    {
      "cell_type": "code",
      "source": [
        "sorted_df_mpg = df.sort_values(by='mpg', ascending=False)\n",
        "top_10_mpg = sorted_df_mpg.head(10)\n",
        "print(\"\\nTop 10 cars with the highest mpg:\")\n",
        "top_10_mpg"
      ],
      "metadata": {
        "id": "xo47NujyeZgq"
      },
      "execution_count": null,
      "outputs": []
    },
    {
      "cell_type": "markdown",
      "source": [
        "**Apply Function**\n",
        "\n",
        "Create a new column performance_score using a custom function:\n",
        "\n",
        "def performance_score(row):\n",
        "\n",
        "return row['mpg'] * row['acceleration'] / row['weight']\n",
        "\n",
        "Apply this function to each row and store the result in the new column.\n"
      ],
      "metadata": {
        "id": "Vdvxg47beSng"
      }
    },
    {
      "cell_type": "code",
      "source": [
        "def performance_score(row):\n",
        "  return row['mpg'] * row['acceleration'] / row['weight']\n",
        "\n",
        "df['performance_score'] = df.apply(performance_score, axis=1)\n",
        "print(\"\\nDataFrame with 'performance_score' column:\")\n",
        "print(df.head())"
      ],
      "metadata": {
        "id": "VML3zagKeNjD"
      },
      "execution_count": null,
      "outputs": []
    },
    {
      "cell_type": "markdown",
      "source": [
        "**Visualization Preparation**\n",
        "\n",
        "Generate a summary DataFrame with:\n",
        "\n",
        "Average mpg, weight, and horsepower for each model_year."
      ],
      "metadata": {
        "id": "O-rXgH4xeoMP"
      }
    },
    {
      "cell_type": "code",
      "source": [
        "summary_df = df.groupby('model year')[['mpg', 'weight', 'horsepower']].mean().reset_index()\n",
        "print(\"\\nSummary DataFrame by Model Year:\")\n",
        "summary_df"
      ],
      "metadata": {
        "id": "mLyNrmEMfBLq"
      },
      "execution_count": null,
      "outputs": []
    },
    {
      "cell_type": "markdown",
      "source": [
        "**Exporting Data**\n",
        "\n",
        "Save a subset of the data containing only mpg, cylinders, horsepower, and weight\n",
        "for cars with mpg > 30 into a CSV file named high_mpg_cars.csv."
      ],
      "metadata": {
        "id": "swNSWj6vfGDq"
      }
    },
    {
      "cell_type": "code",
      "source": [
        "high_mpg_df = df[df['mpg'] > 30]\n",
        "subset_df = high_mpg_df[['mpg', 'cylinders', 'horsepower', 'weight']]\n",
        "subset_df.to_csv('high_mpg_cars.csv', index=False)\n",
        "\n",
        "print(\"\\nSubset data saved to high_mpg_cars.csv\")\n",
        "print(subset_df.head())"
      ],
      "metadata": {
        "id": "bbks0L_VfFZg"
      },
      "execution_count": null,
      "outputs": []
    },
    {
      "cell_type": "markdown",
      "source": [
        "**Finding Anomalies**\n",
        "\n",
        "Identify potential outliers in the mpg column using the Interquartile Range (IQR)\n",
        "method. Specifically:\n",
        "\n",
        "*   Calculate the IQR for mpg.\n",
        "*   Define outliers as values less than Q1 - 1.5 * IQR or greater than Q3 + 1.5 *\n",
        "IQR.\n",
        "* Create a DataFrame of cars classified as outliers, displaying car_name, mpg,\n",
        "and model_year."
      ],
      "metadata": {
        "id": "zLpqFaKQgJlE"
      }
    },
    {
      "cell_type": "code",
      "source": [
        "Q1 = df['mpg'].quantile(0.25)\n",
        "Q3 = df['mpg'].quantile(0.75)\n",
        "IQR = Q3 - Q1\n",
        "\n",
        "lower_bound = Q1 - 1.5 * IQR\n",
        "upper_bound = Q3 + 1.5 * IQR\n",
        "\n",
        "outliers_df = df[(df['mpg'] < lower_bound) | (df['mpg'] > upper_bound)]\n",
        "\n",
        "outliers_info_df = outliers_df[['car name', 'mpg', 'model year']]\n",
        "\n",
        "print(\"\\nCars identified as outliers in mpg using IQR method:\")\n",
        "outliers_info_df"
      ],
      "metadata": {
        "id": "QbV_7xZCgIrQ"
      },
      "execution_count": null,
      "outputs": []
    },
    {
      "cell_type": "markdown",
      "source": [
        "What is the distribution of miles per gallon (mpg) in the dataset?\n",
        "\n",
        "Plot a histogram of mpg values."
      ],
      "metadata": {
        "id": "FhX2QsdGhVfp"
      }
    },
    {
      "cell_type": "code",
      "source": [
        "import matplotlib.pyplot as plt\n",
        "plt.figure(figsize=(10, 6))\n",
        "plt.hist(df['mpg'], bins=20, edgecolor='black')\n",
        "plt.title('Distribution of Miles Per Gallon (mpg)')\n",
        "plt.xlabel('mpg')\n",
        "plt.ylabel('Frequency')\n",
        "plt.grid(axis='y', alpha=0.75)\n",
        "plt.show()"
      ],
      "metadata": {
        "id": "UmIzYaVKhUgp"
      },
      "execution_count": null,
      "outputs": []
    },
    {
      "cell_type": "markdown",
      "source": [
        "How does mpg vary with the number of cylinders?\n",
        "\n",
        "Use a boxplot to compare mpg across different cylinders."
      ],
      "metadata": {
        "id": "Il5d9OsBizKp"
      }
    },
    {
      "cell_type": "code",
      "source": [
        "df.boxplot(column='mpg', by='cylinders', figsize=(10, 6))\n",
        "plt.title('MPG Distribution by Number of Cylinders')\n",
        "plt.xlabel('Number of Cylinders')\n",
        "plt.ylabel('MPG')\n",
        "plt.suptitle('')\n",
        "plt.show()"
      ],
      "metadata": {
        "id": "9_HHCCvxiyqs"
      },
      "execution_count": null,
      "outputs": []
    },
    {
      "cell_type": "markdown",
      "source": [
        "Is there a relationship between horsepower and mpg? Summarize your\n",
        "observation\n",
        "\n",
        "Plot a scatter plot of horsepower vs. mpg.\n"
      ],
      "metadata": {
        "id": "WViJ2D73i8ri"
      }
    },
    {
      "cell_type": "code",
      "source": [
        "plt.figure(figsize=(10, 6))\n",
        "plt.scatter(df['horsepower'], df['mpg'], alpha=0.5)\n",
        "plt.title('Relationship between Horsepower and MPG')\n",
        "plt.xlabel('Horsepower')\n",
        "plt.ylabel('MPG')\n",
        "plt.grid(True)\n",
        "plt.show()"
      ],
      "metadata": {
        "id": "wIaLAot-i8C8"
      },
      "execution_count": null,
      "outputs": []
    },
    {
      "cell_type": "markdown",
      "source": [
        "How does car weight influence mpg?\n",
        "\n",
        "Plot a scatter plot with a trend line for weight vs. mpg.\n"
      ],
      "metadata": {
        "id": "RV-FomQHjIwN"
      }
    },
    {
      "cell_type": "code",
      "source": [
        "import seaborn as sns\n",
        "\n",
        "plt.figure(figsize=(10, 6))\n",
        "sns.regplot(x='weight', y='mpg', data=df, scatter_kws={'alpha':0.5})\n",
        "plt.title('Relationship between Weight and MPG with Trend Line')\n",
        "plt.xlabel('Weight')\n",
        "plt.ylabel('MPG')\n",
        "plt.grid(True)\n",
        "plt.show()"
      ],
      "metadata": {
        "id": "a7NJ4J3ljHpZ"
      },
      "execution_count": null,
      "outputs": []
    },
    {
      "cell_type": "markdown",
      "source": [
        "What is the trend of average mpg across model years?\n",
        "\n",
        "Plot a line chart of average mpg per model year.\n"
      ],
      "metadata": {
        "id": "9PggJmLFj0Yp"
      }
    },
    {
      "cell_type": "code",
      "source": [
        "avg_mpg_by_year = df.groupby('model year')['mpg'].mean().reset_index()\n",
        "\n",
        "plt.figure(figsize=(10, 6))\n",
        "plt.plot(avg_mpg_by_year['model year'], avg_mpg_by_year['mpg'], marker='o')\n",
        "plt.title('Trend of Average MPG Across Model Years')\n",
        "plt.xlabel('Model Year')\n",
        "plt.ylabel('Average MPG')\n",
        "plt.grid(True)\n",
        "plt.show()"
      ],
      "metadata": {
        "id": "hgB2uyVKjxo0"
      },
      "execution_count": null,
      "outputs": []
    },
    {
      "cell_type": "markdown",
      "source": [
        "How is the count of cars distributed by origin?\n",
        "\n",
        "Use a bar chart to show the number of carsfor each origin."
      ],
      "metadata": {
        "id": "zFCflkobj_zp"
      }
    },
    {
      "cell_type": "code",
      "source": [
        "origin_counts = df['origin'].value_counts()\n",
        "\n",
        "plt.figure(figsize=(10, 6))\n",
        "origin_counts.plot(kind='bar', rot=0)\n",
        "plt.title('Count of Cars by Origin')\n",
        "plt.xlabel('Origin')\n",
        "plt.ylabel('Number of Cars')\n",
        "plt.xticks(ticks=[0, 1, 2], labels=['USA', 'Europe', 'Japan'])\n",
        "plt.grid(axis='y', alpha=0.75)\n",
        "plt.show()"
      ],
      "metadata": {
        "id": "b7APk6dSj-5W"
      },
      "execution_count": null,
      "outputs": []
    },
    {
      "cell_type": "markdown",
      "source": [
        "How do acceleration values vary across different cylinders?\n",
        "\n",
        "Use a boxplot of acceleration grouped by cylinders.\n"
      ],
      "metadata": {
        "id": "xLQD3P2MkJfc"
      }
    },
    {
      "cell_type": "code",
      "source": [
        "df.boxplot(column='acceleration', by='cylinders',figsize=(10, 6))\n",
        "plt.title('Acceleration Distribution by Number of Cylinders')\n",
        "plt.xlabel('Number of Cylinders')\n",
        "plt.ylabel('Acceleration')\n",
        "plt.suptitle('')\n",
        "plt.show()"
      ],
      "metadata": {
        "id": "niEVCT46kI4I"
      },
      "execution_count": null,
      "outputs": []
    },
    {
      "cell_type": "markdown",
      "source": [
        "Which year had the most number of car entries?\n",
        "\n",
        "Plot a histogram or bar chart of car counts by model year."
      ],
      "metadata": {
        "id": "L_BOUknQkS4f"
      }
    },
    {
      "cell_type": "code",
      "source": [
        "model_year_counts = df['model year'].value_counts().sort_index()\n",
        "\n",
        "most_common_year = model_year_counts.idxmax()\n",
        "most_common_year_count = model_year_counts.max()\n",
        "\n",
        "print(f\"The year with the most number of car entries is: {most_common_year} with {most_common_year_count} entries.\")\n",
        "\n",
        "plt.figure(figsize=(12, 6))\n",
        "model_year_counts.plot(kind='bar')\n",
        "plt.title('Number of Car Entries by Model Year')\n",
        "plt.xlabel('Model Year')\n",
        "plt.ylabel('Number of Cars')\n",
        "plt.xticks(rotation=45)\n",
        "plt.grid(axis='y', alpha=0.75)\n",
        "plt.tight_layout()\n",
        "plt.show()"
      ],
      "metadata": {
        "id": "NclrGBqdkSNP"
      },
      "execution_count": null,
      "outputs": []
    },
    {
      "cell_type": "markdown",
      "source": [
        "Is there a clustering pattern among weight, horsepower, and mpg?\n",
        "\n",
        "Create a 3D scatter plot of these three variables.\n"
      ],
      "metadata": {
        "id": "KZbcb5FLkb0G"
      }
    },
    {
      "cell_type": "code",
      "source": [
        "from mpl_toolkits.mplot3d import Axes3D\n",
        "\n",
        "fig = plt.figure(figsize=(12, 8))\n",
        "ax = fig.add_subplot(111, projection='3d')\n",
        "\n",
        "ax.scatter(df['weight'], df['horsepower'], df['mpg'], c=df['mpg'], cmap='viridis', marker='o')\n",
        "\n",
        "ax.set_xlabel('Weight')\n",
        "ax.set_ylabel('Horsepower')\n",
        "ax.set_zlabel('MPG')\n",
        "ax.set_title('3D Scatter Plot of Weight, Horsepower, and MPG')\n",
        "\n",
        "plt.show()"
      ],
      "metadata": {
        "id": "Z_MQvpq1kbGz"
      },
      "execution_count": null,
      "outputs": []
    },
    {
      "cell_type": "markdown",
      "source": [
        "Which 10 cars have the bestfuel efficiency?\n",
        "\n",
        "Plot a horizontal bar chartshowing the top 10 car names with the highest mpg.\n"
      ],
      "metadata": {
        "id": "z4ooxlIuki-r"
      }
    },
    {
      "cell_type": "code",
      "source": [
        "plt.figure(figsize=(12, 8))\n",
        "sns.barplot(\n",
        "    x='mpg',\n",
        "    y='car name',\n",
        "    data=top_10_mpg,\n",
        "    orient='h',\n",
        "    hue='car name',\n",
        "    dodge=False,\n",
        "    palette='viridis',\n",
        "    legend=False\n",
        ")\n",
        "plt.title('Top 10 Cars with the Best Fuel Efficiency (MPG)')\n",
        "plt.xlabel('MPG')\n",
        "plt.ylabel('Car Name')\n",
        "plt.grid(axis='x', alpha=0.75)\n",
        "plt.tight_layout()\n",
        "plt.show()"
      ],
      "metadata": {
        "id": "gTDkOwBIkiZM"
      },
      "execution_count": null,
      "outputs": []
    }
  ]
}