{
  "cells": [
    {
      "cell_type": "markdown",
      "id": "c1420930",
      "metadata": {
        "id": "c1420930"
      },
      "source": [
        "# Linear Algebra Assignment"
      ]
    },
    {
      "cell_type": "markdown",
      "id": "5222df71",
      "metadata": {
        "id": "5222df71"
      },
      "source": [
        "### Question 1\n",
        "Using auto-mpg data, find the top 5 similar cars to toyota corona mark ii"
      ]
    },
    {
      "cell_type": "code",
      "execution_count": 45,
      "id": "67aa0659",
      "metadata": {
        "vscode": {
          "languageId": "plaintext"
        },
        "colab": {
          "base_uri": "https://localhost:8080/",
          "height": 223
        },
        "id": "67aa0659",
        "outputId": "839d08d4-371e-46fa-96d2-f651a6ed675a"
      },
      "outputs": [
        {
          "output_type": "stream",
          "name": "stdout",
          "text": [
            "Top 5 similar cars to toyota corona mark ii:\n"
          ]
        },
        {
          "output_type": "execute_result",
          "data": {
            "text/plain": [
              "                     car name\n",
              "44        pontiac safari (sw)\n",
              "103          chevrolet impala\n",
              "42          dodge monaco (sw)\n",
              "95   buick electra 225 custom\n",
              "90   mercury marquis brougham"
            ],
            "text/html": [
              "\n",
              "  <div id=\"df-8044a383-ed87-4621-bc89-95959d77d6af\" class=\"colab-df-container\">\n",
              "    <div>\n",
              "<style scoped>\n",
              "    .dataframe tbody tr th:only-of-type {\n",
              "        vertical-align: middle;\n",
              "    }\n",
              "\n",
              "    .dataframe tbody tr th {\n",
              "        vertical-align: top;\n",
              "    }\n",
              "\n",
              "    .dataframe thead th {\n",
              "        text-align: right;\n",
              "    }\n",
              "</style>\n",
              "<table border=\"1\" class=\"dataframe\">\n",
              "  <thead>\n",
              "    <tr style=\"text-align: right;\">\n",
              "      <th></th>\n",
              "      <th>car name</th>\n",
              "    </tr>\n",
              "  </thead>\n",
              "  <tbody>\n",
              "    <tr>\n",
              "      <th>44</th>\n",
              "      <td>pontiac safari (sw)</td>\n",
              "    </tr>\n",
              "    <tr>\n",
              "      <th>103</th>\n",
              "      <td>chevrolet impala</td>\n",
              "    </tr>\n",
              "    <tr>\n",
              "      <th>42</th>\n",
              "      <td>dodge monaco (sw)</td>\n",
              "    </tr>\n",
              "    <tr>\n",
              "      <th>95</th>\n",
              "      <td>buick electra 225 custom</td>\n",
              "    </tr>\n",
              "    <tr>\n",
              "      <th>90</th>\n",
              "      <td>mercury marquis brougham</td>\n",
              "    </tr>\n",
              "  </tbody>\n",
              "</table>\n",
              "</div>\n",
              "    <div class=\"colab-df-buttons\">\n",
              "\n",
              "  <div class=\"colab-df-container\">\n",
              "    <button class=\"colab-df-convert\" onclick=\"convertToInteractive('df-8044a383-ed87-4621-bc89-95959d77d6af')\"\n",
              "            title=\"Convert this dataframe to an interactive table.\"\n",
              "            style=\"display:none;\">\n",
              "\n",
              "  <svg xmlns=\"http://www.w3.org/2000/svg\" height=\"24px\" viewBox=\"0 -960 960 960\">\n",
              "    <path d=\"M120-120v-720h720v720H120Zm60-500h600v-160H180v160Zm220 220h160v-160H400v160Zm0 220h160v-160H400v160ZM180-400h160v-160H180v160Zm440 0h160v-160H620v160ZM180-180h160v-160H180v160Zm440 0h160v-160H620v160Z\"/>\n",
              "  </svg>\n",
              "    </button>\n",
              "\n",
              "  <style>\n",
              "    .colab-df-container {\n",
              "      display:flex;\n",
              "      gap: 12px;\n",
              "    }\n",
              "\n",
              "    .colab-df-convert {\n",
              "      background-color: #E8F0FE;\n",
              "      border: none;\n",
              "      border-radius: 50%;\n",
              "      cursor: pointer;\n",
              "      display: none;\n",
              "      fill: #1967D2;\n",
              "      height: 32px;\n",
              "      padding: 0 0 0 0;\n",
              "      width: 32px;\n",
              "    }\n",
              "\n",
              "    .colab-df-convert:hover {\n",
              "      background-color: #E2EBFA;\n",
              "      box-shadow: 0px 1px 2px rgba(60, 64, 67, 0.3), 0px 1px 3px 1px rgba(60, 64, 67, 0.15);\n",
              "      fill: #174EA6;\n",
              "    }\n",
              "\n",
              "    .colab-df-buttons div {\n",
              "      margin-bottom: 4px;\n",
              "    }\n",
              "\n",
              "    [theme=dark] .colab-df-convert {\n",
              "      background-color: #3B4455;\n",
              "      fill: #D2E3FC;\n",
              "    }\n",
              "\n",
              "    [theme=dark] .colab-df-convert:hover {\n",
              "      background-color: #434B5C;\n",
              "      box-shadow: 0px 1px 3px 1px rgba(0, 0, 0, 0.15);\n",
              "      filter: drop-shadow(0px 1px 2px rgba(0, 0, 0, 0.3));\n",
              "      fill: #FFFFFF;\n",
              "    }\n",
              "  </style>\n",
              "\n",
              "    <script>\n",
              "      const buttonEl =\n",
              "        document.querySelector('#df-8044a383-ed87-4621-bc89-95959d77d6af button.colab-df-convert');\n",
              "      buttonEl.style.display =\n",
              "        google.colab.kernel.accessAllowed ? 'block' : 'none';\n",
              "\n",
              "      async function convertToInteractive(key) {\n",
              "        const element = document.querySelector('#df-8044a383-ed87-4621-bc89-95959d77d6af');\n",
              "        const dataTable =\n",
              "          await google.colab.kernel.invokeFunction('convertToInteractive',\n",
              "                                                    [key], {});\n",
              "        if (!dataTable) return;\n",
              "\n",
              "        const docLinkHtml = 'Like what you see? Visit the ' +\n",
              "          '<a target=\"_blank\" href=https://colab.research.google.com/notebooks/data_table.ipynb>data table notebook</a>'\n",
              "          + ' to learn more about interactive tables.';\n",
              "        element.innerHTML = '';\n",
              "        dataTable['output_type'] = 'display_data';\n",
              "        await google.colab.output.renderOutput(dataTable, element);\n",
              "        const docLink = document.createElement('div');\n",
              "        docLink.innerHTML = docLinkHtml;\n",
              "        element.appendChild(docLink);\n",
              "      }\n",
              "    </script>\n",
              "  </div>\n",
              "\n",
              "\n",
              "    <div id=\"df-82fc01cf-7dcc-46f9-bc40-e7540e56563d\">\n",
              "      <button class=\"colab-df-quickchart\" onclick=\"quickchart('df-82fc01cf-7dcc-46f9-bc40-e7540e56563d')\"\n",
              "                title=\"Suggest charts\"\n",
              "                style=\"display:none;\">\n",
              "\n",
              "<svg xmlns=\"http://www.w3.org/2000/svg\" height=\"24px\"viewBox=\"0 0 24 24\"\n",
              "     width=\"24px\">\n",
              "    <g>\n",
              "        <path d=\"M19 3H5c-1.1 0-2 .9-2 2v14c0 1.1.9 2 2 2h14c1.1 0 2-.9 2-2V5c0-1.1-.9-2-2-2zM9 17H7v-7h2v7zm4 0h-2V7h2v10zm4 0h-2v-4h2v4z\"/>\n",
              "    </g>\n",
              "</svg>\n",
              "      </button>\n",
              "\n",
              "<style>\n",
              "  .colab-df-quickchart {\n",
              "      --bg-color: #E8F0FE;\n",
              "      --fill-color: #1967D2;\n",
              "      --hover-bg-color: #E2EBFA;\n",
              "      --hover-fill-color: #174EA6;\n",
              "      --disabled-fill-color: #AAA;\n",
              "      --disabled-bg-color: #DDD;\n",
              "  }\n",
              "\n",
              "  [theme=dark] .colab-df-quickchart {\n",
              "      --bg-color: #3B4455;\n",
              "      --fill-color: #D2E3FC;\n",
              "      --hover-bg-color: #434B5C;\n",
              "      --hover-fill-color: #FFFFFF;\n",
              "      --disabled-bg-color: #3B4455;\n",
              "      --disabled-fill-color: #666;\n",
              "  }\n",
              "\n",
              "  .colab-df-quickchart {\n",
              "    background-color: var(--bg-color);\n",
              "    border: none;\n",
              "    border-radius: 50%;\n",
              "    cursor: pointer;\n",
              "    display: none;\n",
              "    fill: var(--fill-color);\n",
              "    height: 32px;\n",
              "    padding: 0;\n",
              "    width: 32px;\n",
              "  }\n",
              "\n",
              "  .colab-df-quickchart:hover {\n",
              "    background-color: var(--hover-bg-color);\n",
              "    box-shadow: 0 1px 2px rgba(60, 64, 67, 0.3), 0 1px 3px 1px rgba(60, 64, 67, 0.15);\n",
              "    fill: var(--button-hover-fill-color);\n",
              "  }\n",
              "\n",
              "  .colab-df-quickchart-complete:disabled,\n",
              "  .colab-df-quickchart-complete:disabled:hover {\n",
              "    background-color: var(--disabled-bg-color);\n",
              "    fill: var(--disabled-fill-color);\n",
              "    box-shadow: none;\n",
              "  }\n",
              "\n",
              "  .colab-df-spinner {\n",
              "    border: 2px solid var(--fill-color);\n",
              "    border-color: transparent;\n",
              "    border-bottom-color: var(--fill-color);\n",
              "    animation:\n",
              "      spin 1s steps(1) infinite;\n",
              "  }\n",
              "\n",
              "  @keyframes spin {\n",
              "    0% {\n",
              "      border-color: transparent;\n",
              "      border-bottom-color: var(--fill-color);\n",
              "      border-left-color: var(--fill-color);\n",
              "    }\n",
              "    20% {\n",
              "      border-color: transparent;\n",
              "      border-left-color: var(--fill-color);\n",
              "      border-top-color: var(--fill-color);\n",
              "    }\n",
              "    30% {\n",
              "      border-color: transparent;\n",
              "      border-left-color: var(--fill-color);\n",
              "      border-top-color: var(--fill-color);\n",
              "      border-right-color: var(--fill-color);\n",
              "    }\n",
              "    40% {\n",
              "      border-color: transparent;\n",
              "      border-right-color: var(--fill-color);\n",
              "      border-top-color: var(--fill-color);\n",
              "    }\n",
              "    60% {\n",
              "      border-color: transparent;\n",
              "      border-right-color: var(--fill-color);\n",
              "    }\n",
              "    80% {\n",
              "      border-color: transparent;\n",
              "      border-right-color: var(--fill-color);\n",
              "      border-bottom-color: var(--fill-color);\n",
              "    }\n",
              "    90% {\n",
              "      border-color: transparent;\n",
              "      border-bottom-color: var(--fill-color);\n",
              "    }\n",
              "  }\n",
              "</style>\n",
              "\n",
              "      <script>\n",
              "        async function quickchart(key) {\n",
              "          const quickchartButtonEl =\n",
              "            document.querySelector('#' + key + ' button');\n",
              "          quickchartButtonEl.disabled = true;  // To prevent multiple clicks.\n",
              "          quickchartButtonEl.classList.add('colab-df-spinner');\n",
              "          try {\n",
              "            const charts = await google.colab.kernel.invokeFunction(\n",
              "                'suggestCharts', [key], {});\n",
              "          } catch (error) {\n",
              "            console.error('Error during call to suggestCharts:', error);\n",
              "          }\n",
              "          quickchartButtonEl.classList.remove('colab-df-spinner');\n",
              "          quickchartButtonEl.classList.add('colab-df-quickchart-complete');\n",
              "        }\n",
              "        (() => {\n",
              "          let quickchartButtonEl =\n",
              "            document.querySelector('#df-82fc01cf-7dcc-46f9-bc40-e7540e56563d button');\n",
              "          quickchartButtonEl.style.display =\n",
              "            google.colab.kernel.accessAllowed ? 'block' : 'none';\n",
              "        })();\n",
              "      </script>\n",
              "    </div>\n",
              "\n",
              "  <div id=\"id_08e1bd76-8c42-428f-9078-beb9a50e3720\">\n",
              "    <style>\n",
              "      .colab-df-generate {\n",
              "        background-color: #E8F0FE;\n",
              "        border: none;\n",
              "        border-radius: 50%;\n",
              "        cursor: pointer;\n",
              "        display: none;\n",
              "        fill: #1967D2;\n",
              "        height: 32px;\n",
              "        padding: 0 0 0 0;\n",
              "        width: 32px;\n",
              "      }\n",
              "\n",
              "      .colab-df-generate:hover {\n",
              "        background-color: #E2EBFA;\n",
              "        box-shadow: 0px 1px 2px rgba(60, 64, 67, 0.3), 0px 1px 3px 1px rgba(60, 64, 67, 0.15);\n",
              "        fill: #174EA6;\n",
              "      }\n",
              "\n",
              "      [theme=dark] .colab-df-generate {\n",
              "        background-color: #3B4455;\n",
              "        fill: #D2E3FC;\n",
              "      }\n",
              "\n",
              "      [theme=dark] .colab-df-generate:hover {\n",
              "        background-color: #434B5C;\n",
              "        box-shadow: 0px 1px 3px 1px rgba(0, 0, 0, 0.15);\n",
              "        filter: drop-shadow(0px 1px 2px rgba(0, 0, 0, 0.3));\n",
              "        fill: #FFFFFF;\n",
              "      }\n",
              "    </style>\n",
              "    <button class=\"colab-df-generate\" onclick=\"generateWithVariable('most_sim_cars')\"\n",
              "            title=\"Generate code using this dataframe.\"\n",
              "            style=\"display:none;\">\n",
              "\n",
              "  <svg xmlns=\"http://www.w3.org/2000/svg\" height=\"24px\"viewBox=\"0 0 24 24\"\n",
              "       width=\"24px\">\n",
              "    <path d=\"M7,19H8.4L18.45,9,17,7.55,7,17.6ZM5,21V16.75L18.45,3.32a2,2,0,0,1,2.83,0l1.4,1.43a1.91,1.91,0,0,1,.58,1.4,1.91,1.91,0,0,1-.58,1.4L9.25,21ZM18.45,9,17,7.55Zm-12,3A5.31,5.31,0,0,0,4.9,8.1,5.31,5.31,0,0,0,1,6.5,5.31,5.31,0,0,0,4.9,4.9,5.31,5.31,0,0,0,6.5,1,5.31,5.31,0,0,0,8.1,4.9,5.31,5.31,0,0,0,12,6.5,5.46,5.46,0,0,0,6.5,12Z\"/>\n",
              "  </svg>\n",
              "    </button>\n",
              "    <script>\n",
              "      (() => {\n",
              "      const buttonEl =\n",
              "        document.querySelector('#id_08e1bd76-8c42-428f-9078-beb9a50e3720 button.colab-df-generate');\n",
              "      buttonEl.style.display =\n",
              "        google.colab.kernel.accessAllowed ? 'block' : 'none';\n",
              "\n",
              "      buttonEl.onclick = () => {\n",
              "        google.colab.notebook.generateWithVariable('most_sim_cars');\n",
              "      }\n",
              "      })();\n",
              "    </script>\n",
              "  </div>\n",
              "\n",
              "    </div>\n",
              "  </div>\n"
            ],
            "application/vnd.google.colaboratory.intrinsic+json": {
              "type": "dataframe",
              "variable_name": "most_sim_cars",
              "summary": "{\n  \"name\": \"most_sim_cars\",\n  \"rows\": 5,\n  \"fields\": [\n    {\n      \"column\": \"car name\",\n      \"properties\": {\n        \"dtype\": \"string\",\n        \"num_unique_values\": 5,\n        \"samples\": [\n          \"chevrolet impala\",\n          \"mercury marquis brougham\",\n          \"dodge monaco (sw)\"\n        ],\n        \"semantic_type\": \"\",\n        \"description\": \"\"\n      }\n    }\n  ]\n}"
            }
          },
          "metadata": {},
          "execution_count": 45
        }
      ],
      "source": [
        "import pandas as pd\n",
        "import numpy as np\n",
        "\n",
        "df = pd.read_csv('auto-mpg.csv')\n",
        "\n",
        "toyota = df[df['car name'] == 'toyota corona mark ii'].select_dtypes(include=np.number).dropna().iloc[0]\n",
        "other_cars = df[df['car name'] != 'toyota corona mark ii'].select_dtypes(include=np.number).dropna()\n",
        "\n",
        "dot_products = other_cars.apply(lambda row: np.dot(row, toyota), axis=1)\n",
        "most_sim_cars_indices = dot_products.nlargest(5).index\n",
        "most_sim_cars = df.loc[most_sim_cars_indices][['car name']]\n",
        "\n",
        "print(\"Top 5 similar cars to toyota corona mark ii:\")\n",
        "most_sim_cars"
      ]
    },
    {
      "cell_type": "markdown",
      "id": "8c9e5c34",
      "metadata": {
        "id": "8c9e5c34"
      },
      "source": [
        "### Question 2\n",
        "Find completely unique/orthogonal car to toyota corona mark ii"
      ]
    },
    {
      "cell_type": "code",
      "execution_count": 46,
      "id": "249fe683",
      "metadata": {
        "vscode": {
          "languageId": "plaintext"
        },
        "colab": {
          "base_uri": "https://localhost:8080/",
          "height": 383
        },
        "id": "249fe683",
        "outputId": "a64d11a7-cee7-4753-f78d-0eec36209aa9"
      },
      "outputs": [
        {
          "output_type": "stream",
          "name": "stdout",
          "text": [
            "Car most orthogonal to 'toyota corona mark ii':\n"
          ]
        },
        {
          "output_type": "execute_result",
          "data": {
            "text/plain": [
              "car name        buick estate wagon (sw)\n",
              "mpg                                14.0\n",
              "cylinders                             8\n",
              "displacement                      455.0\n",
              "horsepower                          225\n",
              "weight                             3086\n",
              "acceleration                       10.0\n",
              "model year                           70\n",
              "origin                                1\n",
              "Name: 13, dtype: object"
            ],
            "text/html": [
              "<div>\n",
              "<style scoped>\n",
              "    .dataframe tbody tr th:only-of-type {\n",
              "        vertical-align: middle;\n",
              "    }\n",
              "\n",
              "    .dataframe tbody tr th {\n",
              "        vertical-align: top;\n",
              "    }\n",
              "\n",
              "    .dataframe thead th {\n",
              "        text-align: right;\n",
              "    }\n",
              "</style>\n",
              "<table border=\"1\" class=\"dataframe\">\n",
              "  <thead>\n",
              "    <tr style=\"text-align: right;\">\n",
              "      <th></th>\n",
              "      <th>13</th>\n",
              "    </tr>\n",
              "  </thead>\n",
              "  <tbody>\n",
              "    <tr>\n",
              "      <th>car name</th>\n",
              "      <td>buick estate wagon (sw)</td>\n",
              "    </tr>\n",
              "    <tr>\n",
              "      <th>mpg</th>\n",
              "      <td>14.0</td>\n",
              "    </tr>\n",
              "    <tr>\n",
              "      <th>cylinders</th>\n",
              "      <td>8</td>\n",
              "    </tr>\n",
              "    <tr>\n",
              "      <th>displacement</th>\n",
              "      <td>455.0</td>\n",
              "    </tr>\n",
              "    <tr>\n",
              "      <th>horsepower</th>\n",
              "      <td>225</td>\n",
              "    </tr>\n",
              "    <tr>\n",
              "      <th>weight</th>\n",
              "      <td>3086</td>\n",
              "    </tr>\n",
              "    <tr>\n",
              "      <th>acceleration</th>\n",
              "      <td>10.0</td>\n",
              "    </tr>\n",
              "    <tr>\n",
              "      <th>model year</th>\n",
              "      <td>70</td>\n",
              "    </tr>\n",
              "    <tr>\n",
              "      <th>origin</th>\n",
              "      <td>1</td>\n",
              "    </tr>\n",
              "  </tbody>\n",
              "</table>\n",
              "</div><br><label><b>dtype:</b> object</label>"
            ]
          },
          "metadata": {},
          "execution_count": 46
        }
      ],
      "source": [
        "toyota_features = df[df['car name'] == 'toyota corona mark ii'].select_dtypes(include=np.number).dropna().iloc[0]\n",
        "other_cars = df[df['car name'] != 'toyota corona mark ii'].select_dtypes(include=np.number).dropna()\n",
        "\n",
        "def cosine_similarity(vec1, vec2):\n",
        "  dot_product = np.dot(vec1, vec2)\n",
        "  norm_vec1 = np.linalg.norm(vec1)\n",
        "  norm_vec2 = np.linalg.norm(vec2)\n",
        "  if norm_vec1 == 0 or norm_vec2 == 0:\n",
        "    return 0\n",
        "  return dot_product / (norm_vec1 * norm_vec2)\n",
        "\n",
        "sim = other_cars.apply(lambda row: cosine_similarity(row, toyota_features), axis=1)\n",
        "\n",
        "least_sim_car_index = sim.nsmallest(1).index[0]\n",
        "least_sim_car = df.loc[least_sim_car_index][['car name', 'mpg', 'cylinders', 'displacement', 'horsepower', 'weight', 'acceleration', 'model year', 'origin']]\n",
        "\n",
        "print(\"Car most orthogonal to 'toyota corona mark ii':\")\n",
        "least_sim_car"
      ]
    },
    {
      "cell_type": "markdown",
      "id": "39d7a2d2",
      "metadata": {
        "id": "39d7a2d2"
      },
      "source": [
        "### Question 3\n",
        "Project the data to a 2-dimentional space and visualize using scatter plot"
      ]
    },
    {
      "cell_type": "code",
      "execution_count": 47,
      "id": "7b04477f",
      "metadata": {
        "vscode": {
          "languageId": "plaintext"
        },
        "colab": {
          "base_uri": "https://localhost:8080/",
          "height": 718
        },
        "id": "7b04477f",
        "outputId": "2da86d81-9ea8-42e4-b45e-e72fb085dd46"
      },
      "outputs": [
        {
          "output_type": "display_data",
          "data": {
            "text/plain": [
              "<Figure size 1000x800 with 1 Axes>"
            ],
            "image/png": "[encoded data removed]"
          },
          "metadata": {}
        }
      ],
      "source": [
        "from sklearn.decomposition import PCA\n",
        "import matplotlib.pyplot as plt\n",
        "\n",
        "num_df = df.select_dtypes(include=np.number).dropna()\n",
        "\n",
        "pca = PCA(n_components=2)\n",
        "principal_components = pca.fit_transform(num_df)\n",
        "\n",
        "pca_df = pd.DataFrame(data=principal_components, columns=['principal component 1', 'principal component 2'])\n",
        "\n",
        "pca_df['car name'] = df.loc[num_df.index]['car name']\n",
        "\n",
        "plt.figure(figsize=(10, 8))\n",
        "plt.scatter(pca_df['principal component 1'], pca_df['principal component 2'])\n",
        "plt.title('2D PCA Projection of Car Data')\n",
        "plt.xlabel('Principal Component 1')\n",
        "plt.ylabel('Principal Component 2')\n",
        "plt.grid(True)\n",
        "plt.show()"
      ]
    },
    {
      "cell_type": "markdown",
      "id": "7aa6151d",
      "metadata": {
        "id": "7aa6151d"
      },
      "source": [
        "### Question 4\n",
        "Write a function that returns dot product of two list of numbers"
      ]
    },
    {
      "cell_type": "code",
      "execution_count": 48,
      "id": "3cf99ab5",
      "metadata": {
        "vscode": {
          "languageId": "plaintext"
        },
        "colab": {
          "base_uri": "https://localhost:8080/"
        },
        "id": "3cf99ab5",
        "outputId": "dbb4f9fa-8856-40c6-8411-a16c61822866"
      },
      "outputs": [
        {
          "output_type": "stream",
          "name": "stdout",
          "text": [
            "The dot product of [1, 2, 3] and [4, 5, 6] is: 32\n"
          ]
        }
      ],
      "source": [
        "def dot_product(list1, list2):\n",
        "    if len(list1) != len(list2):\n",
        "        return 0\n",
        "    return sum(x * y for x, y in zip(list1, list2))\n",
        "\n",
        "list_a = [1, 2, 3]\n",
        "list_b = [4, 5, 6]\n",
        "result = dot_product(list_a, list_b)\n",
        "print(f\"The dot product of {list_a} and {list_b} is: {result}\")"
      ]
    },
    {
      "cell_type": "markdown",
      "id": "e6657c17",
      "metadata": {
        "id": "e6657c17"
      },
      "source": [
        "### Question 5\n",
        "Write a function that returns the projection of vector a onto vector b. Both a and b are given as list of numbers"
      ]
    },
    {
      "cell_type": "code",
      "execution_count": 49,
      "id": "25a24bdc",
      "metadata": {
        "vscode": {
          "languageId": "plaintext"
        },
        "colab": {
          "base_uri": "https://localhost:8080/"
        },
        "id": "25a24bdc",
        "outputId": "62e88f39-8b4d-40c0-ef52-846eccaffd0c"
      },
      "outputs": [
        {
          "output_type": "stream",
          "name": "stdout",
          "text": [
            "The projection of [1, 1] onto [0, 0] is: [0, 0]\n"
          ]
        }
      ],
      "source": [
        "def vector_projection(a, b):\n",
        "  if len(a) != len(b):\n",
        "    raise ValueError(\"Vectors must have the same length\")\n",
        "  dot_p = dot_product(a, b)\n",
        "  b_squared = dot_product(b, b)\n",
        "  if b_squared == 0:\n",
        "    return [0] * len(a)\n",
        "  scalar = dot_p / b_squared\n",
        "  return [scalar * bi for bi in b]\n",
        "\n",
        "a = [1, 1]\n",
        "b = [0, 0]\n",
        "projection_result = vector_projection(a, b)\n",
        "print(f\"The projection of {a} onto {b} is: {projection_result}\")"
      ]
    },
    {
      "cell_type": "markdown",
      "id": "219b6efc",
      "metadata": {
        "id": "219b6efc"
      },
      "source": [
        "### Question 6\n",
        "Create a class Vector that supports addition, dot product, and magnitude."
      ]
    },
    {
      "cell_type": "code",
      "execution_count": 50,
      "id": "3aaaa102",
      "metadata": {
        "vscode": {
          "languageId": "plaintext"
        },
        "colab": {
          "base_uri": "https://localhost:8080/"
        },
        "id": "3aaaa102",
        "outputId": "06a241b4-7e62-48b6-fa7f-6bb68876441f"
      },
      "outputs": [
        {
          "output_type": "stream",
          "name": "stdout",
          "text": [
            "Vector 1: Vector([1, 2, 3])\n",
            "Vector 2: Vector([4, 5, 6])\n",
            "Sum: Vector([5, 7, 9])\n",
            "Dot Product: 32\n",
            "Magnitude of Vector 1: 3.7416573867739413\n",
            "Magnitude of Vector 2: 8.774964387392123\n"
          ]
        }
      ],
      "source": [
        "import math\n",
        "\n",
        "class Vector:\n",
        "  def __init__(self, components):\n",
        "    if not isinstance(components, (list, tuple)):\n",
        "      raise TypeError(\"Vector components must be a list or tuple.\")\n",
        "    if not components:\n",
        "      raise ValueError(\"Vector components cannot be empty.\")\n",
        "    if not all(isinstance(x, (int, float)) for x in components):\n",
        "        raise TypeError(\"Vector components must be numbers.\")\n",
        "    self.components = components\n",
        "    self.dimension = len(components)\n",
        "\n",
        "  def __add__(self, other):\n",
        "    if not isinstance(other, Vector):\n",
        "      raise TypeError(\"Can only add Vector objects.\")\n",
        "    if self.dimension != other.dimension:\n",
        "      raise ValueError(\"Vectors must have the same dimension for addition.\")\n",
        "    return Vector([x + y for x, y in zip(self.components, other.components)])\n",
        "\n",
        "  def dot(self, other):\n",
        "    if not isinstance(other, Vector):\n",
        "      raise TypeError(\"Can only compute dot product with Vector objects.\")\n",
        "    if self.dimension != other.dimension:\n",
        "      raise ValueError(\"Vectors must have the same dimension for dot product.\")\n",
        "    return sum(x * y for x, y in zip(self.components, other.components))\n",
        "\n",
        "  def magnitude(self):\n",
        "    return math.sqrt(sum(x**2 for x in self.components))\n",
        "\n",
        "  def __repr__(self):\n",
        "    return f\"Vector({self.components})\"\n",
        "\n",
        "vector1 = Vector([1, 2, 3])\n",
        "vector2 = Vector([4, 5, 6])\n",
        "\n",
        "sum_vector = vector1 + vector2\n",
        "print(f\"Vector 1: {vector1}\")\n",
        "print(f\"Vector 2: {vector2}\")\n",
        "print(f\"Sum: {sum_vector}\")\n",
        "\n",
        "dot_prod_result = vector1.dot(vector2)\n",
        "print(f\"Dot Product: {dot_prod_result}\")\n",
        "\n",
        "mag_vector1 = vector1.magnitude()\n",
        "mag_vector2 = vector2.magnitude()\n",
        "print(f\"Magnitude of Vector 1: {mag_vector1}\")\n",
        "print(f\"Magnitude of Vector 2: {mag_vector2}\")"
      ]
    },
    {
      "cell_type": "markdown",
      "id": "5788f326",
      "metadata": {
        "id": "5788f326"
      },
      "source": [
        "### Question 7\n",
        "Write a function that returns the L1 and L2 norms of a vector given as list"
      ]
    },
    {
      "cell_type": "code",
      "execution_count": 51,
      "id": "6bc87def",
      "metadata": {
        "vscode": {
          "languageId": "plaintext"
        },
        "colab": {
          "base_uri": "https://localhost:8080/"
        },
        "id": "6bc87def",
        "outputId": "88e84805-27e1-4252-8152-5292047f3f08"
      },
      "outputs": [
        {
          "output_type": "stream",
          "name": "stdout",
          "text": [
            "Vector: [1, -2, 3, -4]\n",
            "L1 Norm: 10\n",
            "L2 Norm: 5.477225575051661\n"
          ]
        }
      ],
      "source": [
        "def get_vector_norms(vector_list):\n",
        "  l1_norm = sum(abs(x) for x in vector_list)\n",
        "  l2_norm = math.sqrt(sum(x**2 for x in vector_list))\n",
        "  return l1_norm, l2_norm\n",
        "\n",
        "vector = [1, -2, 3, -4]\n",
        "l1, l2 = get_vector_norms(vector)\n",
        "print(f\"Vector: {vector}\")\n",
        "print(f\"L1 Norm: {l1}\")\n",
        "print(f\"L2 Norm: {l2}\")"
      ]
    }
  ],
  "metadata": {
    "language_info": {
      "name": "python"
    },
    "colab": {
      "provenance": []
    },
    "kernelspec": {
      "name": "python3",
      "display_name": "Python 3"
    }
  },
  "nbformat": 4,
  "nbformat_minor": 5
}