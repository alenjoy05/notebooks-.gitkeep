{
  "nbformat": 4,
  "nbformat_minor": 0,
  "metadata": {
    "colab": {
      "private_outputs": true,
      "provenance": []
    },
    "kernelspec": {
      "name": "python3",
      "display_name": "Python 3"
    },
    "language_info": {
      "name": "python"
    }
  },
  "cells": [
    {
      "cell_type": "code",
      "execution_count": null,
      "metadata": {
        "id": "WoVaE3cYE7gp"
      },
      "outputs": [],
      "source": [
        "import pandas as pd\n",
        "from sklearn.feature_selection import mutual_info_classif\n",
        "from sklearn.datasets import load_breast_cancer\n",
        "import seaborn as sns\n",
        "import matplotlib.pyplot as plt"
      ]
    },
    {
      "cell_type": "code",
      "source": [
        "data = load_breast_cancer()\n",
        "X = pd.DataFrame(data.data, columns=data.feature_names)\n",
        "y = data.target"
      ],
      "metadata": {
        "id": "NiCZ8XZfF-V8"
      },
      "execution_count": null,
      "outputs": []
    },
    {
      "cell_type": "code",
      "source": [
        "dataset = X\n",
        "dataset[\"target\"] = y"
      ],
      "metadata": {
        "id": "MlYqHSxaGUte"
      },
      "execution_count": null,
      "outputs": []
    },
    {
      "cell_type": "code",
      "source": [
        "dataset.head(2)"
      ],
      "metadata": {
        "id": "fZaJaRiCGebV"
      },
      "execution_count": null,
      "outputs": []
    },
    {
      "cell_type": "code",
      "source": [
        "dataset.shape"
      ],
      "metadata": {
        "id": "rjWFfrH6HESk"
      },
      "execution_count": null,
      "outputs": []
    },
    {
      "cell_type": "code",
      "source": [
        "sns.heatmap(dataset.corr())\n",
        "plt.plot()"
      ],
      "metadata": {
        "id": "ACeyKxUyHHeu"
      },
      "execution_count": null,
      "outputs": []
    },
    {
      "cell_type": "code",
      "source": [
        "data_corr = dataset.corr()\n",
        "display(data_corr['target'])"
      ],
      "metadata": {
        "id": "YKn1JgBOIbL-"
      },
      "execution_count": null,
      "outputs": []
    },
    {
      "cell_type": "code",
      "source": [
        "threshold = 0.7\n",
        "corr_features = data_corr.index[abs(data_corr['target'])>threshold]\n",
        "corr_features\n"
      ],
      "metadata": {
        "id": "wual5TSFI2Ns"
      },
      "execution_count": null,
      "outputs": []
    },
    {
      "cell_type": "code",
      "source": [
        "top_5 = abs(data_corr['target']).sort_values(ascending=False).iloc[:5]\n",
        "print(top_5)"
      ],
      "metadata": {
        "id": "66DrmDvsJvwD"
      },
      "execution_count": null,
      "outputs": []
    },
    {
      "cell_type": "code",
      "source": [
        "bottom_5 = abs(data_corr['target']).sort_values(ascending=True).iloc[:5]\n",
        "bottom_5"
      ],
      "metadata": {
        "id": "Lbp51ILuLlf_"
      },
      "execution_count": null,
      "outputs": []
    },
    {
      "cell_type": "markdown",
      "source": [
        "#Varience Threshold"
      ],
      "metadata": {
        "id": "wGZPufArM308"
      }
    },
    {
      "cell_type": "code",
      "source": [
        "from sklearn.feature_selection import VarianceThreshold\n",
        "import numpy as np\n",
        "import pandas as pd"
      ],
      "metadata": {
        "id": "DbxpgqjxMu3y"
      },
      "execution_count": null,
      "outputs": []
    },
    {
      "cell_type": "code",
      "source": [
        "X = pd.DataFrame({\n",
        "    'feature_1': [1,1,1,1,1],\n",
        "    'feature_2': [1,0,1,0,1],\n",
        "    'feature_3': [5,6,7,8,9],\n",
        "    })"
      ],
      "metadata": {
        "id": "cz0plxVSNQH7"
      },
      "execution_count": null,
      "outputs": []
    },
    {
      "cell_type": "code",
      "source": [
        "selector = VarianceThreshold(threshold=0.1)\n",
        "X_selected = selector.fit_transform(X)"
      ],
      "metadata": {
        "id": "9mxpUJVBN1Oa"
      },
      "execution_count": null,
      "outputs": []
    },
    {
      "cell_type": "code",
      "source": [
        "X.columns[selector.get_support()]"
      ],
      "metadata": {
        "id": "xJvsP02-Qb08"
      },
      "execution_count": null,
      "outputs": []
    },
    {
      "cell_type": "code",
      "source": [
        "z = np.array(X_selected)\n",
        "z"
      ],
      "metadata": {
        "id": "di4lK6LuQxGo"
      },
      "execution_count": null,
      "outputs": []
    },
    {
      "cell_type": "code",
      "source": [
        "dataset.describe().loc['std'].sort_values(ascending=False).iloc[:5]"
      ],
      "metadata": {
        "id": "88CsW-2_Q6by"
      },
      "execution_count": null,
      "outputs": []
    },
    {
      "cell_type": "code",
      "source": [
        "selector = VarianceThreshold(threshold=590)\n",
        "X_selected = selector.fit_transform(dataset)\n",
        "selected_columns = dataset.columns[selector.get_support()]\n",
        "X_filtered = pd.DataFrame(X_selected, columns=selected_columns)\n",
        "\n",
        "print(\"Selected Features\")\n",
        "print(selected_columns)"
      ],
      "metadata": {
        "id": "Bo-5-FPIScc6"
      },
      "execution_count": null,
      "outputs": []
    },
    {
      "cell_type": "code",
      "source": [
        "from sklearn.feature_selection import mutual_info_classif\n",
        "# Use the original X and y from the breast cancer dataset\n",
        "mi_scores = mutual_info_classif(dataset.drop('target', axis=1), dataset['target'], random_state=42)\n",
        "mi_series = pd.Series(mi_scores,index=dataset.drop('target', axis=1).columns)\n",
        "mi_series = mi_series.sort_values(ascending=False)\n",
        "print(mi_series.head(5))"
      ],
      "metadata": {
        "id": "kcJYfkgoUQb3"
      },
      "execution_count": null,
      "outputs": []
    },
    {
      "cell_type": "code",
      "source": [
        "sns.barplot(x=mi_series, y=mi_series.index)\n",
        "plt.title(\"Mutual Information Scores for Features\")\n",
        "plt.xlabel(\"MI Score\")\n",
        "plt.ylabel(\"Feature\")\n",
        "plt.show()"
      ],
      "metadata": {
        "id": "5QZhUi41WqKJ"
      },
      "execution_count": null,
      "outputs": []
    },
    {
      "cell_type": "code",
      "source": [
        "k = 5\n",
        "top_k_features = mi_series.head(k).index\n",
        "print(f\"\\nTop {k} features based on Mutual Information:\")\n",
        "print(top_k_features)\n",
        "\n",
        "# Use the original X from the breast cancer dataset to select features\n",
        "X_original = pd.DataFrame(data.data, columns=data.feature_names)\n",
        "X_top_k = X_original[top_k_features]\n",
        "print(\"\\nDataFrame with top k features:\")\n",
        "print(X_top_k.head())"
      ],
      "metadata": {
        "id": "_b2LHi2CXovS"
      },
      "execution_count": null,
      "outputs": []
    },
    {
      "cell_type": "code",
      "source": [
        "threshold = 0.05\n",
        "selected_features = mi_series[mi_series>threshold].index.tolist()\n",
        "print(selected_features)"
      ],
      "metadata": {
        "id": "wQWyCJpsX2TC"
      },
      "execution_count": null,
      "outputs": []
    }
  ]
}