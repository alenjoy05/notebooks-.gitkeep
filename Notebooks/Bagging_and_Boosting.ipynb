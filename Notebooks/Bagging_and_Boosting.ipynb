{
  "nbformat": 4,
  "nbformat_minor": 0,
  "metadata": {
    "colab": {
      "private_outputs": true,
      "provenance": []
    },
    "kernelspec": {
      "name": "python3",
      "display_name": "Python 3"
    },
    "language_info": {
      "name": "python"
    }
  },
  "cells": [
    {
      "cell_type": "code",
      "execution_count": null,
      "metadata": {
        "id": "bF6Fy_czmSW8"
      },
      "outputs": [],
      "source": [
        "import pandas as pd\n",
        "from sklearn.model_selection import train_test_split\n",
        "from sklearn.preprocessing import LabelEncoder\n",
        "from sklearn.impute import SimpleImputer\n",
        "from sklearn.ensemble import RandomForestClassifier, BaggingClassifier, AdaBoostClassifier, GradientBoostingClassifier\n",
        "from xgboost import XGBClassifier\n",
        "from sklearn.metrics import accuracy_score, precision_score, recall_score, f1_score"
      ]
    },
    {
      "cell_type": "code",
      "source": [
        "df = pd.read_csv(\"churn_data.csv\")"
      ],
      "metadata": {
        "id": "8lvMdxkfpGgy"
      },
      "execution_count": null,
      "outputs": []
    },
    {
      "cell_type": "code",
      "source": [
        "# Check for missing values\n",
        "print(df.isnull().sum())\n",
        "\n",
        "# Fill missing numeric values with median\n",
        "numeric_cols = df.select_dtypes(include=['int64', 'float64']).columns\n",
        "imputer = SimpleImputer(strategy='median')\n",
        "df[numeric_cols] = imputer.fit_transform(df[numeric_cols])"
      ],
      "metadata": {
        "id": "i3ClR5Rnp_dn"
      },
      "execution_count": null,
      "outputs": []
    },
    {
      "cell_type": "code",
      "source": [
        "# Convert all object (categorical) columns\n",
        "label_encoders = {}\n",
        "for col in df.select_dtypes(include='object').columns:\n",
        "    le = LabelEncoder()\n",
        "    df[col] = le.fit_transform(df[col])\n",
        "    label_encoders[col] = le"
      ],
      "metadata": {
        "id": "8UZ2mTWjqYSz"
      },
      "execution_count": null,
      "outputs": []
    },
    {
      "cell_type": "code",
      "source": [
        "X = df.drop('churn', axis=1)\n",
        "y = df['churn']"
      ],
      "metadata": {
        "id": "McIABkUNqhRF"
      },
      "execution_count": null,
      "outputs": []
    },
    {
      "cell_type": "code",
      "source": [
        "X_train, X_test, y_train, y_test = train_test_split(X, y, test_size=0.2, random_state=42)"
      ],
      "metadata": {
        "id": "5IPYOaiRqnR-"
      },
      "execution_count": null,
      "outputs": []
    },
    {
      "cell_type": "code",
      "source": [
        "# Define dictionary of models\n",
        "models = {\n",
        "    'Bagging': {\n",
        "        'Random Forest': RandomForestClassifier(random_state=42),\n",
        "        'Bagging Classifier/Regressor': BaggingClassifier(random_state=42)\n",
        "    },\n",
        "    'Boosting': {\n",
        "        'XGBoost': XGBClassifier( eval_metric='logloss', random_state=42),\n",
        "        'AdaBoost': AdaBoostClassifier(random_state=42),\n",
        "        'Gradient Boosting': GradientBoostingClassifier(random_state=42)\n",
        "    }\n",
        "}"
      ],
      "metadata": {
        "id": "IkbV7aAnqruo"
      },
      "execution_count": null,
      "outputs": []
    },
    {
      "cell_type": "code",
      "source": [
        "def get_base_learner(model):\n",
        "    if hasattr(model, \"base_estimator\"):  # For BaggingClassifier and AdaBoostClassifier\n",
        "        return type(model.base_estimator_).__name__ if hasattr(model, \"base_estimator_\") else type(model.base_estimator).__name__\n",
        "    elif hasattr(model, \"estimators_\"):  # For RandomForestClassifier, GradientBoostingClassifier\n",
        "        return type(model.estimators_[0]).__name__ if len(model.estimators_) > 0 else \"Unknown\"\n",
        "    elif isinstance(model, XGBClassifier):\n",
        "        return \"DecisionTree\"  # Internally used by XGBoost\n",
        "    return \"Unknown\""
      ],
      "metadata": {
        "id": "XeQurf4rt9mr"
      },
      "execution_count": null,
      "outputs": []
    },
    {
      "cell_type": "code",
      "source": [
        "results = []\n",
        "for model_type, group in models.items():\n",
        "    for model_name, model in group.items():\n",
        "        model.fit(X_train, y_train)\n",
        "        y_pred = model.predict(X_test)\n",
        "\n",
        "        base_learner = get_base_learner(model)\n",
        "\n",
        "        results.append({\n",
        "            \"Type\": model_type,\n",
        "            \"Model\": model_name,\n",
        "            \"Base Learner\": base_learner,\n",
        "            \"Accuracy\": round(accuracy_score(y_test, y_pred), 4),\n",
        "            \"Precision\": round(precision_score(y_test, y_pred), 4),\n",
        "            \"Recall\": round(recall_score(y_test, y_pred), 4),\n",
        "            \"F1 Score\": round(f1_score(y_test, y_pred), 4)\n",
        "        })"
      ],
      "metadata": {
        "id": "SOFnhTUorFFW"
      },
      "execution_count": null,
      "outputs": []
    },
    {
      "cell_type": "code",
      "source": [
        "results_df = pd.DataFrame(results)\n",
        "results_df"
      ],
      "metadata": {
        "id": "q8fdu5aQrqcN"
      },
      "execution_count": null,
      "outputs": []
    }
  ]
}