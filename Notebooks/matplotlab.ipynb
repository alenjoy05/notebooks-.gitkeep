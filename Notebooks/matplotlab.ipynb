{
 "cells": [
  {
   "cell_type": "code",
   "execution_count": 3,
   "metadata": {
    "id": "-mGk-9aTGTDR"
   },
   "outputs": [
    {
     "ename": "ModuleNotFoundError",
     "evalue": "No module named 'matplotlib'",
     "output_type": "error",
     "traceback": [
      "\u001b[31m---------------------------------------------------------------------------\u001b[39m",
      "\u001b[31mModuleNotFoundError\u001b[39m                       Traceback (most recent call last)",
      "\u001b[36mCell\u001b[39m\u001b[36m \u001b[39m\u001b[32mIn[3]\u001b[39m\u001b[32m, line 1\u001b[39m\n\u001b[32m----> \u001b[39m\u001b[32m1\u001b[39m \u001b[38;5;28;01mimport\u001b[39;00m\u001b[38;5;250m \u001b[39m\u001b[34;01mmatplotlib\u001b[39;00m\u001b[34;01m.\u001b[39;00m\u001b[34;01mpyplot\u001b[39;00m\u001b[38;5;250m \u001b[39m\u001b[38;5;28;01mas\u001b[39;00m\u001b[38;5;250m \u001b[39m\u001b[34;01mplt\u001b[39;00m\n",
      "\u001b[31mModuleNotFoundError\u001b[39m: No module named 'matplotlib'"
     ]
    }
   ],
   "source": [
    "import matplotlib.pyplot as plt"
   ]
  },
  {
   "cell_type": "code",
   "execution_count": null,
   "metadata": {
    "id": "SwXLyHytIP09"
   },
   "outputs": [],
   "source": [
    "x = [1,2,3,4,5]\n",
    "y = [0,3,2,22,22]\n",
    "plt.plot(x,y)\n",
    "plt.xlim(1,5)\n",
    "#plt.ylim(-0.5,0.5)\n",
    "plt.xlabel(\"days\")\n",
    "plt.ylabel(\"counts\")\n",
    "plt.show()"
   ]
  },
  {
   "cell_type": "code",
   "execution_count": null,
   "metadata": {
    "id": "VOxvxbzVLAN9"
   },
   "outputs": [],
   "source": [
    "import numpy as np\n",
    "f = 50\n",
    "x = np.arange(0,400)\n",
    "y = np.cos(2*np.pi*f*x/200)\n",
    "plt.plot(x,y)\n",
    "plt.xlim(300,400)\n",
    "# plt.ylim(-0.5,0.5)\n",
    "plt.xlabel(\"time\")\n",
    "plt.ylabel(\"amplitude\")\n",
    "plt.show()"
   ]
  },
  {
   "cell_type": "code",
   "execution_count": null,
   "metadata": {
    "id": "7O6RUvQHMLx4"
   },
   "outputs": [],
   "source": [
    "x = [0,1,2,3,4,5]\n",
    "y1 = [0,3,2,22,10, 0] # Added an element\n",
    "y2 = [1,7,5,4,3,8] # y2 already has 6 elements, so no change needed\n",
    "plt.plot(x,y1, c=\"g\",label=\"location\")\n",
    "plt.plot(x,y2,c=\"r\",label=\"location\")\n",
    "plt.xlabel(\"days\")\n",
    "plt.ylabel(\"counts\")\n",
    "plt.legend()\n",
    "plt.show()"
   ]
  },
  {
   "cell_type": "code",
   "execution_count": null,
   "metadata": {
    "id": "TNmOCZdbODNH"
   },
   "outputs": [],
   "source": [
    "x = [\"Monday\",\"Tuesday\",\"Wednesday\",\"Thursday\",\"Friday\"]\n",
    "item_1_sales = [1,2,3,4,5]\n",
    "plt.bar(x,item_1_sales, label=\"item1\")\n",
    "plt.xlabel(\"Days\")\n",
    "plt.ylabel(\"Counts\")\n",
    "plt.savefig(\"bar_chart.png\",dpi=300)\n",
    "plt.show()"
   ]
  },
  {
   "cell_type": "code",
   "execution_count": null,
   "metadata": {
    "id": "wV_zZOwXPkOj"
   },
   "outputs": [],
   "source": [
    "x = [\"Monday\",\"Tuesday\",\"Wednesday\",\"Thursday\",\"Friday\"]\n",
    "item_1_sales = [1,2,3,4,5]\n",
    "item_2_sales = [3,4,5,6,5]\n",
    "plt.bar(x,item_1_sales,color=\"r\", label=\"item1\")\n",
    "plt.bar(x,item_2_sales,color=\"b\",alpha =0.2,label=\"item2\")\n",
    "plt.xlabel(\"Days\")\n",
    "plt.ylabel(\"Counts\")\n",
    "plt.legend()\n",
    "plt.savefig(\"bar_chart.png\",dpi=300)\n",
    "plt.show()"
   ]
  },
  {
   "cell_type": "code",
   "execution_count": null,
   "metadata": {
    "id": "tsLPm1nqQjoG"
   },
   "outputs": [],
   "source": [
    "countries = [\"India\",\"USA\",\"UK\",\"UAE\"]\n",
    "population = [123,20,30,40]\n",
    "plt.pie(population,labels=countries,autopct=\"%1.2f%%\")\n",
    "plt.show()"
   ]
  },
  {
   "cell_type": "code",
   "execution_count": null,
   "metadata": {
    "id": "oziGJk8CRZ52"
   },
   "outputs": [],
   "source": [
    "import pandas as pd\n",
    "data=pd.read_csv(\"auto-mpg.csv\")"
   ]
  },
  {
   "cell_type": "code",
   "execution_count": null,
   "metadata": {
    "id": "Fnwl5XJhRuCR"
   },
   "outputs": [],
   "source": [
    "plt.hist(data[\"mpg\"],color=\"green\",rwidth=0.9,density=True)\n",
    "plt.title(\"Histogram of mpg\")\n",
    "plt.xlabel(\"MPG\")\n",
    "plt.ylabel(\"Density\")\n",
    "plt.show()"
   ]
  },
  {
   "cell_type": "code",
   "execution_count": null,
   "metadata": {
    "id": "CImT34hiTy0e"
   },
   "outputs": [],
   "source": [
    "data[\"mpg\"].plot.kde()\n",
    "plt.show()"
   ]
  },
  {
   "cell_type": "code",
   "execution_count": null,
   "metadata": {
    "id": "RtLC2AxhU9zk"
   },
   "outputs": [],
   "source": [
    "import folium\n",
    "\n",
    "latitude = 8.5559403\n",
    "longitude = 76.876830\n",
    "my_map = folium.Map(location=[latitude,longitude],zoom_starts=50)\n",
    "folium.Marker([latitude,longitude],popup=\"Technopark trivadrum\").add_to(my_map)\n",
    "my_map.save(\"tvm.html\")"
   ]
  },
  {
   "cell_type": "code",
   "execution_count": null,
   "metadata": {
    "id": "QugStxZuWAXk"
   },
   "outputs": [],
   "source": [
    "my_map"
   ]
  },
  {
   "cell_type": "code",
   "execution_count": null,
   "metadata": {
    "id": "D1TRhYISXYZs"
   },
   "outputs": [],
   "source": [
    "import pandas as pd\n",
    "data = pd.read_csv(\"auto-mpg.csv\")\n",
    "plt.figure(figsize=[6,3.5])\n",
    "plt.scatter(data[\"weight\"],data[\"mpg\"],marker=\"o\")\n",
    "plt.title(\"MPG vs Weight\")\n",
    "plt.xlabel(\"Weight\")\n",
    "plt.ylabel(\"MPG\")\n",
    "plt.show()"
   ]
  },
  {
   "cell_type": "code",
   "execution_count": null,
   "metadata": {
    "id": "7Cy2av2QY-H4"
   },
   "outputs": [],
   "source": [
    "plt.figure(figsize=(5,12))\n",
    "plt.subplot(2,1,1)\n",
    "plt.scatter(data[\"weight\"],data[\"mpg\"],c=\"k\")\n",
    "plt.ylabel(\"MPG\")\n",
    "plt.xlabel(\"Weight\")\n",
    "plt.subplot(2,1,2)\n",
    "plt.hist(data[\"displacement\"])\n",
    "plt.xlabel(\"Displacement\")\n",
    "plt.ylabel(\"Displacement\")\n",
    "plt.show()"
   ]
  },
  {
   "cell_type": "code",
   "execution_count": null,
   "metadata": {
    "id": "OhlSLD2Vakx5"
   },
   "outputs": [],
   "source": [
    "import numpy as np\n",
    "import seaborn as sns\n",
    "heat_data = np.array([[0,0.4,1],[1,0.4,0]])\n",
    "sns.heatmap(heat_data)"
   ]
  },
  {
   "cell_type": "code",
   "execution_count": null,
   "metadata": {
    "id": "1X9CPrI7bhQv"
   },
   "outputs": [],
   "source": [
    "import seaborn as sns\n",
    "import matplotlib.pyplot as plt\n",
    "import pandas as pd\n",
    "import numpy as np\n",
    "\n",
    "data = pd.read_csv(\"auto-mpg.csv\")\n",
    "\n",
    "# Convert the 'horsepower' column to numeric, coercing errors to NaN\n",
    "data['horsepower'] = pd.to_numeric(data['horsepower'], errors='coerce')\n",
    "\n",
    "# Drop the 'car name' column and rows with NaN values\n",
    "data_new = data.drop([\"car name\"], axis=1).dropna()\n",
    "\n",
    "corr_mat = data_new.corr(numeric_only=True)\n",
    "mask = np.triu(np.ones_like(corr_mat,dtype=bool))\n",
    "\n",
    "sns.heatmap(corr_mat,mask=mask,annot=True,cmap='viridis')\n",
    "plt.xticks(rotation=45)\n",
    "plt.show()"
   ]
  },
  {
   "cell_type": "code",
   "execution_count": null,
   "metadata": {
    "id": "3FewgzPKpiG9"
   },
   "outputs": [],
   "source": [
    "x = np.arange(1,1000)\n",
    "q1 = np.percentile(x,25)\n",
    "q2 = np.percentile(x,50)\n",
    "q3 = np.percentile(x,75)\n",
    "iqr = q3-q1\n",
    "lower_bound = q1-(1.5*iqr)\n",
    "upper_bound = q3+(1.5*iqr)"
   ]
  },
  {
   "cell_type": "code",
   "execution_count": null,
   "metadata": {
    "id": "glkTYE97oA54"
   },
   "outputs": [],
   "source": [
    "data = pd.read_csv(\"auto-mpg.csv\")\n",
    "num_df = data.select_dtypes(include=np.number)\n",
    "plt.boxplot(num_df)\n",
    "plt.show()"
   ]
  },
  {
   "cell_type": "code",
   "execution_count": null,
   "metadata": {
    "id": "7mW0B39Mq7R_"
   },
   "outputs": [],
   "source": [
    "sns.boxplot(num_df)\n",
    "plt.xticks(rotation=45)\n",
    "plt.show()"
   ]
  },
  {
   "cell_type": "code",
   "execution_count": null,
   "metadata": {
    "id": "SSu-6-DjtCaE"
   },
   "outputs": [],
   "source": [
    "import numpy as np\n",
    "f = 10\n",
    "x = np.arange(0,400)\n",
    "y1 = np.cos(2*np.pi*f*x/2000)\n",
    "y2 = np.sin(2*np.pi*f*x/2000) # Define y2 with the same length as x\n",
    "plt.plot(x,y1,c=\"k\",label=\"y=cos(x)$\") # Corrected label typo\n",
    "plt.plot(x,y2,c=\"b\",alpha=0.8,label=\"y=sin(x)$\") # Corrected label typo\n",
    "plt.legend(loc='upper right') # Corrected typo\n",
    "plt.xlabel(\"time\")\n",
    "plt.ylabel(\"Amplitude\")\n",
    "plt.text(100,1,\"some waves\")\n",
    "plt.grid()\n",
    "plt.show()"
   ]
  },
  {
   "cell_type": "code",
   "execution_count": null,
   "metadata": {
    "id": "jkMV_X2ovwg-"
   },
   "outputs": [],
   "source": [
    "x = np.arange(0,400).reshape(20,20)\n",
    "plt.imshow(x)\n",
    "plt.yticks([])\n",
    "plt.xticks([])\n",
    "plt.show()"
   ]
  },
  {
   "cell_type": "code",
   "execution_count": null,
   "metadata": {
    "id": "mL177KgnxQr0"
   },
   "outputs": [],
   "source": [
    "fig1, ax1 =plt.subplots()\n",
    "f = 10 # Define f\n",
    "x = np.arange(0,400)\n",
    "y1 = 100*np.cos(2*np.pi*f*x/2000)\n",
    "y2 = np.sin(2*np.pi*f*x/2000)\n",
    "ax2 = ax1.twinx()\n",
    "ax1.plot(x,y1,label='Signal 1', c='k',linestyle='--')\n",
    "ax2.plot(x,y2,label='Signal 2',c='b')\n",
    "ax1.legend()\n",
    "ax2.legend()\n",
    "plt.show()"
   ]
  },
  {
   "cell_type": "code",
   "execution_count": 4,
   "metadata": {
    "id": "apHzD14y5cc8"
   },
   "outputs": [
    {
     "ename": "ModuleNotFoundError",
     "evalue": "No module named 'pandas'",
     "output_type": "error",
     "traceback": [
      "\u001b[31m---------------------------------------------------------------------------\u001b[39m",
      "\u001b[31mModuleNotFoundError\u001b[39m                       Traceback (most recent call last)",
      "\u001b[36mCell\u001b[39m\u001b[36m \u001b[39m\u001b[32mIn[4]\u001b[39m\u001b[32m, line 1\u001b[39m\n\u001b[32m----> \u001b[39m\u001b[32m1\u001b[39m \u001b[38;5;28;01mimport\u001b[39;00m\u001b[38;5;250m \u001b[39m\u001b[34;01mpandas\u001b[39;00m\u001b[38;5;250m \u001b[39m\u001b[38;5;28;01mas\u001b[39;00m\u001b[38;5;250m \u001b[39m\u001b[34;01mpd\u001b[39;00m\n\u001b[32m      2\u001b[39m \u001b[38;5;28;01mimport\u001b[39;00m\u001b[38;5;250m \u001b[39m\u001b[34;01mnumpy\u001b[39;00m\u001b[38;5;250m \u001b[39m\u001b[38;5;28;01mas\u001b[39;00m\u001b[38;5;250m \u001b[39m\u001b[34;01mnp\u001b[39;00m\n\u001b[32m      3\u001b[39m \u001b[38;5;28;01mimport\u001b[39;00m\u001b[38;5;250m \u001b[39m\u001b[34;01mmatplotlib\u001b[39;00m\u001b[34;01m.\u001b[39;00m\u001b[34;01mpyplot\u001b[39;00m\u001b[38;5;250m \u001b[39m\u001b[38;5;28;01mas\u001b[39;00m\u001b[38;5;250m \u001b[39m\u001b[34;01mplt\u001b[39;00m\n",
      "\u001b[31mModuleNotFoundError\u001b[39m: No module named 'pandas'"
     ]
    }
   ],
   "source": [
    "import pandas as pd\n",
    "import numpy as np\n",
    "import matplotlib.pyplot as plt\n",
    "import seaborn as sns\n",
    "\n",
    "data = pd.read_csv(\"auto-mpg.csv\")\n",
    "data['horsepower'] = pd.to_numeric(data['horsepower'], errors='coerce')\n",
    "data_cleaned = data.dropna().copy()\n",
    "data_cleaned['model year'] = data_cleaned['model year'].astype(str)\n",
    "cars_per_year = data_cleaned['model year'].value_counts().sort_index()\n",
    "numerical_cols = data_cleaned.select_dtypes(include=np.number)\n",
    "corr_matrix = numerical_cols.corr()\n",
    "\n",
    "fig, axes = plt.subplots(nrows=2, ncols=2, figsize=(12, 10))\n",
    "\n",
    "axes[0, 0].bar(cars_per_year.index, cars_per_year.values)\n",
    "axes[0, 0].set_title('Number of Cars per Year')\n",
    "axes[0, 0].set_xlabel('Model Year')\n",
    "axes[0, 0].set_ylabel('Number of Cars')\n",
    "axes[0, 0].tick_params(axis='x', rotation=45)\n",
    "\n",
    "axes[0, 1].scatter(data_cleaned['weight'], data_cleaned['acceleration'])\n",
    "axes[0, 1].set_title('Weight vs. Acceleration')\n",
    "axes[0, 1].set_xlabel('Weight')\n",
    "axes[0, 1].set_ylabel('Acceleration')\n",
    "\n",
    "sns.boxplot(data=numerical_cols, ax=axes[1, 0])\n",
    "axes[1, 0].set_title('Box Plot of Numerical Features')\n",
    "\n",
    "for label in axes[1, 0].get_xticklabels():\n",
    "    label.set_rotation(45)\n",
    "    label.set_ha('right')\n",
    "\n",
    "sns.heatmap(corr_matrix, annot=True, cmap='viridis', fmt=\".2f\", ax=axes[1, 1])\n",
    "axes[1, 1].set_title('Correlation Heatmap')\n",
    "axes[1, 1].tick_params(axis='x', rotation=45)\n",
    "axes[1, 1].tick_params(axis='y', rotation=45)\n",
    "\n",
    "plt.tight_layout()\n",
    "plt.show()\n"
   ]
  },
  {
   "cell_type": "code",
   "execution_count": null,
   "metadata": {},
   "outputs": [],
   "source": []
  }
 ],
 "metadata": {
  "colab": {
   "private_outputs": true,
   "provenance": []
  },
  "kernelspec": {
   "display_name": "Python 3 (ipykernel)",
   "language": "python",
   "name": "python3"
  },
  "language_info": {
   "codemirror_mode": {
    "name": "ipython",
    "version": 3
   },
   "file_extension": ".py",
   "mimetype": "text/x-python",
   "name": "python",
   "nbconvert_exporter": "python",
   "pygments_lexer": "ipython3",
   "version": "3.13.5"
  }
 },
 "nbformat": 4,
 "nbformat_minor": 4
}
