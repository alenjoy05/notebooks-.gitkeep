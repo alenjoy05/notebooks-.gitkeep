{
  "nbformat": 4,
  "nbformat_minor": 0,
  "metadata": {
    "colab": {
      "private_outputs": true,
      "provenance": []
    },
    "kernelspec": {
      "name": "python3",
      "display_name": "Python 3"
    },
    "language_info": {
      "name": "python"
    }
  },
  "cells": [
    {
      "cell_type": "code",
      "source": [
        "import pandas as pd\n",
        "import numpy as np\n",
        "import matplotlib.pyplot as plt\n",
        "import seaborn as sns\n",
        "from sklearn.preprocessing import StandardScaler\n",
        "from sklearn.model_selection import train_test_split\n",
        "from sklearn.linear_model import LinearRegression\n",
        "from sklearn.svm import SVR\n",
        "from sklearn.metrics import mean_squared_error, mean_absolute_error, r2_score, accuracy_score, precision_score, recall_score, f1_score\n",
        "from sklearn.linear_model import LogisticRegression\n",
        "from sklearn.neighbors import KNeighborsClassifier\n",
        "from sklearn.ensemble import RandomForestClassifier\n",
        "from sklearn.ensemble import RandomForestRegressor"
      ],
      "metadata": {
        "id": "u9LFekVMy_zd"
      },
      "execution_count": null,
      "outputs": []
    },
    {
      "cell_type": "markdown",
      "source": [
        "#Step 1: Load and Explore the Data\n",
        "\n",
        "Load the dataset into a Pandas DataFrame.\n",
        "\n",
        "### Perform exploratory data analysis (EDA):\n",
        "\n",
        "* Check for missing values, data types, and summary statistics.\n",
        "\n",
        "* Identify potential outliers in numerical columns.\n",
        "\n",
        "* Analyze the distribution of categorical variables."
      ],
      "metadata": {
        "id": "Np9MLHU7z2D1"
      }
    },
    {
      "cell_type": "code",
      "source": [
        "# Load the dataset\n",
        "df = pd.read_csv('heart_disease.csv')"
      ],
      "metadata": {
        "id": "QiYcveQP0c4O"
      },
      "execution_count": null,
      "outputs": []
    },
    {
      "cell_type": "code",
      "source": [
        "# Check for missing values\n",
        "missing = df.isnull().sum()\n",
        "print(\"Missing values per column:\\n\", missing)"
      ],
      "metadata": {
        "id": "bJ3KQtqh0onA"
      },
      "execution_count": null,
      "outputs": []
    },
    {
      "cell_type": "code",
      "execution_count": null,
      "metadata": {
        "id": "N1Y8KpNNqhxZ"
      },
      "outputs": [],
      "source": [
        "# Basic info\n",
        "print(\"Dataset Info:\")\n",
        "print(df.info())"
      ]
    },
    {
      "cell_type": "code",
      "source": [
        "# Summary statistics\n",
        "print(\"Summary Statistics:\")\n",
        "print(df.describe())"
      ],
      "metadata": {
        "id": "kynDB1m71NFI"
      },
      "execution_count": null,
      "outputs": []
    },
    {
      "cell_type": "code",
      "source": [
        "# List of numerical columns\n",
        "numerical_cols = ['age', 'trestbps', 'chol', 'thalach', 'oldpeak']\n",
        "\n",
        "# Detect outliers using IQR\n",
        "outliers_info = {}\n",
        "\n",
        "for col in numerical_cols:\n",
        "    Q1 = df[col].quantile(0.25)\n",
        "    Q3 = df[col].quantile(0.75)\n",
        "    IQR = Q3 - Q1\n",
        "    lower_bound = Q1 - 1.5 * IQR\n",
        "    upper_bound = Q3 + 1.5 * IQR\n",
        "    outliers = df[(df[col] < lower_bound) | (df[col] > upper_bound)]\n",
        "    outliers_info[col] = {\n",
        "        \"Lower Bound\": lower_bound,\n",
        "        \"Upper Bound\": upper_bound,\n",
        "        \"Outlier Count\": outliers.shape[0]\n",
        "    }\n",
        "# Display outlier summary\n",
        "for col, info in outliers_info.items():\n",
        "    print(f\"\\nColumn: {col}\")\n",
        "    print(f\"  Lower Bound: {info['Lower Bound']}\")\n",
        "    print(f\"  Upper Bound: {info['Upper Bound']}\")\n",
        "    print(f\"  Outliers Detected: {info['Outlier Count']}\")"
      ],
      "metadata": {
        "id": "GLnKZqXzr59i"
      },
      "execution_count": null,
      "outputs": []
    },
    {
      "cell_type": "code",
      "source": [
        "# List of categorical columns\n",
        "categorical_cols = ['sex', 'cp', 'fbs', 'restecg', 'exang', 'slope', 'ca', 'thal', 'target']\n",
        "\n",
        "# Print value counts\n",
        "for col in categorical_cols:\n",
        "    print(f\"\\nColumn: {col}\")\n",
        "    print(df[col].value_counts())\n",
        "\n",
        "# Optional: Visualize distributions\n",
        "plt.figure(figsize=(16, 12))\n",
        "for idx, col in enumerate(categorical_cols):\n",
        "    plt.subplot(3, 3, idx+1)\n",
        "    sns.countplot(x=col, data=df, hue=col, legend=False, palette='Set2')\n",
        "    plt.title(f'Distribution of {col}')\n",
        "    plt.xlabel(col)\n",
        "    plt.ylabel(\"Count\")\n",
        "    plt.tight_layout()\n",
        "\n",
        "plt.show()"
      ],
      "metadata": {
        "id": "7ERgLaO5sPhL"
      },
      "execution_count": null,
      "outputs": []
    },
    {
      "cell_type": "markdown",
      "source": [
        "# Step 2: Data Cleaning and Preprocessing\n",
        "\n",
        "### Handle Missing Values (if needed):\n",
        "\n",
        "* Replace missing numerical values with the mean/median.\n",
        "\n",
        "* Replace missing categorical values with the mode.\n",
        "\n",
        "### Handle Outliers (if needed):\n",
        "\n",
        "* Use appropriate methods (e.g., IQR or z-score) to detect and handle outliers.\n",
        "\n",
        "###Encode Categorical Variables:\n",
        "\n",
        "* Use one-hot encoding for multi-category variables (chest pain type, resting electrocardiographic results, thal).\n",
        "\n",
        "* Use binary encoding for sex and fasting blood sugar.\n",
        "\n",
        "###Scale Numerical Features:\n",
        "\n",
        "* Scale features such as resting blood pressure, serum cholesterol, maximum heart rate, and oldpeak using StandardScaler or MinMaxScaler."
      ],
      "metadata": {
        "id": "brxOF3rb1y6f"
      }
    },
    {
      "cell_type": "code",
      "source": [
        "# numerical columns to check\n",
        "numerical_cols = ['age', 'trestbps', 'chol', 'thalach', 'oldpeak']\n",
        "\n",
        "# Capping outliers using IQR method\n",
        "for col in numerical_cols:\n",
        "    Q1 = df[col].quantile(0.25)\n",
        "    Q3 = df[col].quantile(0.75)\n",
        "    IQR = Q3 - Q1\n",
        "    lower_bound = Q1 - 1.5 * IQR\n",
        "    upper_bound = Q3 + 1.5 * IQR\n",
        "\n",
        "    # Cap values outside the bounds\n",
        "    df[col] = df[col].apply(lambda x: lower_bound if x < lower_bound else upper_bound if x > upper_bound else x)\n",
        "\n",
        "print(\"Outliers handled using IQR capping.\")"
      ],
      "metadata": {
        "id": "svYSqtdptNG4"
      },
      "execution_count": null,
      "outputs": []
    },
    {
      "cell_type": "code",
      "source": [
        "df = pd.get_dummies(df, columns=['cp', 'restecg', 'thal'], drop_first=True)\n",
        "\n",
        "print(\"Unique values:\\n\")\n",
        "print(\"sex:\", df['sex'].unique())\n",
        "print(\"fbs:\", df['fbs'].unique())"
      ],
      "metadata": {
        "id": "bo7gouu5tmHu"
      },
      "execution_count": null,
      "outputs": []
    },
    {
      "cell_type": "code",
      "source": [
        "# Initialize scaler\n",
        "scaler = StandardScaler()\n",
        "\n",
        "# Columns to scale\n",
        "cols_to_scale = ['trestbps', 'chol', 'thalach', 'oldpeak']\n",
        "\n",
        "# Apply scaler and update dataframe\n",
        "df[cols_to_scale] = scaler.fit_transform(df[cols_to_scale])\n",
        "\n",
        "# Show scaled columns\n",
        "print(df[cols_to_scale].head())"
      ],
      "metadata": {
        "id": "cpOctQeMtrYk"
      },
      "execution_count": null,
      "outputs": []
    },
    {
      "cell_type": "markdown",
      "source": [
        "#Step 3: Train-Test Split\n",
        "\n",
        "Split the data into training and testing sets:\n",
        "\n",
        "###For Regression:\n",
        "Predict serum cholesterol as the target variable and remaining as features\n",
        "\n",
        "###For Classification:\n",
        "\n",
        "Predict target (presence of heart disease) as the target variable and remaining as features"
      ],
      "metadata": {
        "id": "f_g99naW3Vej"
      }
    },
    {
      "cell_type": "code",
      "source": [
        "# Features and target for regression\n",
        "X_reg = df.drop(columns=['chol'])  # Drop target column\n",
        "y_reg = df['chol']                 # Target column\n",
        "\n",
        "# Split into training and testing sets (80% train, 20% test)\n",
        "X_train_reg, X_test_reg, y_train_reg, y_test_reg = train_test_split(\n",
        "    X_reg, y_reg, test_size=0.2, random_state=42\n",
        ")\n",
        "\n",
        "# Check shapes\n",
        "print(\"X_train shape:\", X_train_reg.shape)\n",
        "print(\"X_test shape :\", X_test_reg.shape)\n",
        "print(\"y_train shape:\", y_train_reg.shape)\n",
        "print(\"y_test shape :\", y_test_reg.shape)"
      ],
      "metadata": {
        "id": "6dob-M-otwoK"
      },
      "execution_count": null,
      "outputs": []
    },
    {
      "cell_type": "code",
      "source": [
        "from sklearn.model_selection import train_test_split\n",
        "\n",
        "# Features and target for classification\n",
        "X_clf = df.drop(columns=['target'])  # Drop target column\n",
        "y_clf = df['target']                 # Target column\n",
        "\n",
        "# Split into training and testing sets (80% train, 20% test)\n",
        "X_train_clf, X_test_clf, y_train_clf, y_test_clf = train_test_split(\n",
        "    X_clf, y_clf, test_size=0.2, random_state=42, stratify=y_clf\n",
        ")\n",
        "\n",
        "# Check shapes\n",
        "print(\"X_train shape:\", X_train_clf.shape)\n",
        "print(\"X_test shape :\", X_test_clf.shape)\n",
        "print(\"y_train shape:\", y_train_clf.shape)\n",
        "print(\"y_test shape :\", y_test_clf.shape)"
      ],
      "metadata": {
        "id": "v248K_LM4Aej"
      },
      "execution_count": null,
      "outputs": []
    },
    {
      "cell_type": "markdown",
      "source": [
        "#Step 4: Build Machine Learning Models\n",
        "\n",
        "###Regression Task:\n",
        "\n",
        "Train the following models to predict serum cholesterol.\n",
        "\n",
        "* Linear regression\n",
        "* SVM\n",
        "* Random Forest\n",
        "\n",
        "###Classification Task:\n",
        "\n",
        "Train the following models to predict target:\n",
        "\n",
        "* Logistic Regression\n",
        "* K-Nearest Neighbors (KNN)\n",
        "* Random Forest"
      ],
      "metadata": {
        "id": "3qQ_EPPy4b7E"
      }
    },
    {
      "cell_type": "code",
      "source": [
        "# 1. Linear Regression\n",
        "lr_model = LinearRegression()\n",
        "lr_model.fit(X_train_reg, y_train_reg)\n",
        "y_pred_lr = lr_model.predict(X_test_reg)\n",
        "\n",
        "# 2. Support Vector Regression\n",
        "svr_model = SVR(kernel='rbf')\n",
        "svr_model.fit(X_train_reg, y_train_reg)\n",
        "y_pred_svr = svr_model.predict(X_test_reg)\n",
        "\n",
        "# 3. Random Forest Regressor\n",
        "rf_model = RandomForestRegressor(n_estimators=100, random_state=42)\n",
        "rf_model.fit(X_train_reg, y_train_reg)\n",
        "y_pred_rf = rf_model.predict(X_test_reg)"
      ],
      "metadata": {
        "id": "p7T4naQ9uko9"
      },
      "execution_count": null,
      "outputs": []
    },
    {
      "cell_type": "code",
      "source": [
        "# 1. Logistic Regression\n",
        "log_reg = LogisticRegression(max_iter=1000)\n",
        "log_reg.fit(X_train_clf, y_train_clf)\n",
        "y_pred_log = log_reg.predict(X_test_clf)\n",
        "\n",
        "# 2. K-Nearest Neighbors\n",
        "knn = KNeighborsClassifier(n_neighbors=5)\n",
        "knn.fit(X_train_clf, y_train_clf)\n",
        "y_pred_knn = knn.predict(X_test_clf)\n",
        "\n",
        "# 3. Random Forest Classifier\n",
        "rf_clf = RandomForestClassifier(n_estimators=100, random_state=42)\n",
        "rf_clf.fit(X_train_clf, y_train_clf)\n",
        "y_pred_rf = rf_clf.predict(X_test_clf)"
      ],
      "metadata": {
        "id": "1GRmPkewvJsI"
      },
      "execution_count": null,
      "outputs": []
    },
    {
      "cell_type": "markdown",
      "source": [
        "# Step 5: Evaluate Models on Test Data\n",
        "\n",
        "## For Regression:\n",
        "\n",
        "###Evaluate the Linear Regression model using:\n",
        "\n",
        "* Mean Absolute Error (MAE)\n",
        "\n",
        "* Mean Squared Error (MSE)\n",
        "\n",
        "* R-squared (R²) (Key performance metric)\n",
        "\n",
        "## For Classification:\n",
        "\n",
        "###Evaluate each classification model using:\n",
        "\n",
        "\n",
        "*   Accuracy\n",
        "*   Precision\n",
        "* Recall (Key performance metric)\n",
        "* F1-Score"
      ],
      "metadata": {
        "id": "JtHC-m0JyIwP"
      }
    },
    {
      "cell_type": "code",
      "source": [
        "def evaluate(y_true, y_pred, model_name):\n",
        "    mse = mean_squared_error(y_true, y_pred) # Calculate MSE first\n",
        "    print(f\"\\n {model_name} Performance:\")\n",
        "    print(f\"MAE:  {mean_absolute_error(y_true, y_pred):.2f}\")\n",
        "    print(f\"MSE:  {mse:.2f}\") # Print MSE\n",
        "    print(f\"RMSE: {np.sqrt(mse):.2f}\") # Calculate and print RMSE\n",
        "    print(f\"R²:   {r2_score(y_true, y_pred):.2f}\")\n",
        "\n",
        "evaluate(y_test_reg, y_pred_lr, \"Linear Regression\")\n",
        "evaluate(y_test_reg, y_pred_svr, \"SVR\")\n",
        "evaluate(y_test_reg, y_pred_rf, \"Random Forest\")"
      ],
      "metadata": {
        "id": "4oSl4ffB50x4"
      },
      "execution_count": null,
      "outputs": []
    },
    {
      "cell_type": "code",
      "source": [
        "def evaluate_clf(y_true, y_pred, model_name):\n",
        "    print(f\"\\n{model_name} Performance:\")\n",
        "    print(f\"Accuracy:  {accuracy_score(y_true, y_pred):.2f}\")\n",
        "    print(f\"Precision: {precision_score(y_true, y_pred):.2f}\")\n",
        "    print(f\"Recall:    {recall_score(y_true, y_pred):.2f}\")  # Key metric\n",
        "    print(f\"F1-Score:  {f1_score(y_true, y_pred):.2f}\")\n",
        "\n",
        "evaluate_clf(y_test_clf, y_pred_log, \"Logistic Regression\")\n",
        "evaluate_clf(y_test_clf, y_pred_knn, \"K-Nearest Neighbors\")\n",
        "evaluate_clf(y_test_clf, y_pred_rf, \"Random Forest\")"
      ],
      "metadata": {
        "id": "xNpbQ5Rt5WJt"
      },
      "execution_count": null,
      "outputs": []
    },
    {
      "cell_type": "markdown",
      "source": [
        "#Step 6:\n",
        "### Summarize the classification and regression result in a table form and declare the best performing model in each category based on the performance metric choosen."
      ],
      "metadata": {
        "id": "a2qcBBVi56Tx"
      }
    },
    {
      "cell_type": "code",
      "source": [
        "# Calculate regression metrics\n",
        "mae_lr = mean_absolute_error(y_test_reg, y_pred_lr)\n",
        "mse_lr = mean_squared_error(y_test_reg, y_pred_lr)\n",
        "r2_lr = r2_score(y_test_reg, y_pred_lr)\n",
        "\n",
        "mae_svr = mean_absolute_error(y_test_reg, y_pred_svr)\n",
        "mse_svr = mean_squared_error(y_test_reg, y_pred_svr)\n",
        "r2_svr = r2_score(y_test_reg, y_pred_svr)\n",
        "\n",
        "mae_rf = mean_absolute_error(y_test_reg, y_pred_rf)\n",
        "mse_rf = mean_squared_error(y_test_reg, y_pred_rf)\n",
        "r2_rf = r2_score(y_test_reg, y_pred_rf)\n",
        "\n",
        "# Regression metrics\n",
        "regression_summary = pd.DataFrame({\n",
        "    'Model': ['Linear Regression', 'Support Vector Regressor', 'Random Forest Regressor'],\n",
        "    'MAE': [mae_lr, mae_svr, mae_rf],\n",
        "    'MSE': [mse_lr, mse_svr, mse_rf],\n",
        "    'R²': [r2_lr, r2_svr, r2_rf]\n",
        "})\n",
        "\n",
        "# Calculate classification metrics\n",
        "acc_log = accuracy_score(y_test_clf, y_pred_log)\n",
        "prec_log = precision_score(y_test_clf, y_pred_log)\n",
        "recall_log = recall_score(y_test_clf, y_pred_log)\n",
        "f1_log = f1_score(y_test_clf, y_pred_log)\n",
        "\n",
        "acc_knn = accuracy_score(y_test_clf, y_pred_knn)\n",
        "prec_knn = precision_score(y_test_clf, y_pred_knn)\n",
        "recall_knn = recall_score(y_test_clf, y_pred_knn)\n",
        "f1_knn = f1_score(y_test_clf, y_pred_knn)\n",
        "\n",
        "acc_rf = accuracy_score(y_test_clf, y_pred_rf)\n",
        "prec_rf = precision_score(y_test_clf, y_pred_rf)\n",
        "recall_rf = recall_score(y_test_clf, y_pred_rf)\n",
        "f1_rf = f1_score(y_test_clf, y_pred_rf)\n",
        "\n",
        "\n",
        "# Classification metrics\n",
        "classification_summary = pd.DataFrame({\n",
        "    'Model': ['Logistic Regression', 'K-Nearest Neighbors', 'Random Forest Classifier'],\n",
        "    'Accuracy': [acc_log, acc_knn, acc_rf],\n",
        "    'Precision': [prec_log, prec_knn, prec_rf],\n",
        "    'Recall': [recall_log, recall_knn, recall_rf],\n",
        "    'F1-Score': [f1_log, f1_knn, f1_rf]\n",
        "})\n",
        "\n",
        "# Sort based on key metric\n",
        "regression_summary = regression_summary.sort_values(by='R²', ascending=False)\n",
        "classification_summary = classification_summary.sort_values(by='Recall', ascending=False)\n",
        "\n",
        "# Display summaries\n",
        "print(\"Regression Model Performance Summary:\")\n",
        "print(regression_summary)\n",
        "\n",
        "print(\"\\nClassification Model Performance Summary:\")\n",
        "print(classification_summary)\n",
        "\n",
        "# Identify best model for each task based on key metric\n",
        "best_regression = regression_summary.loc[regression_summary['R²'].astype(float).idxmax()]\n",
        "best_classification = classification_summary.loc[classification_summary['Recall'].astype(float).idxmax()]\n",
        "\n",
        "print(\"\\nBest Performing Models:\")\n",
        "print(f\"Regression: {best_regression['Model']} with R² = {best_regression['R²']:.2f}\")\n",
        "print(f\"Classification: {best_classification['Model']} with Recall = {best_classification['Recall']:.2f}\")"
      ],
      "metadata": {
        "id": "hgtPJnvBvoIU"
      },
      "execution_count": null,
      "outputs": []
    },
    {
      "cell_type": "markdown",
      "source": [
        "#Step 7: Bonus Task:\n",
        "Create a custom Linear Regression class using which regression task can be carried out on multi-dimentional data (unlike the class room example where the number of features was 1).\n",
        "\n",
        "Write the mathematical derivation for the gradient equations (add as screenshot to notebook).\n"
      ],
      "metadata": {
        "id": "Zhoxa-hx7q1j"
      }
    },
    {
      "cell_type": "code",
      "source": [
        "class CustomLinearRegression:\n",
        "    def __init__(self, learning_rate=0.0001, n_iterations=1000):\n",
        "        self.learning_rate = learning_rate\n",
        "        self.n_iterations = n_iterations\n",
        "        self.theta = None\n",
        "        self.loss_history = []\n",
        "\n",
        "    def fit(self, X, y):\n",
        "        m, n = X.shape\n",
        "        # Add bias term (intercept)\n",
        "        X_b = np.c_[np.ones((m, 1)), X]\n",
        "        self.theta = np.zeros((n + 1, 1))\n",
        "        y = y.reshape(-1, 1)\n",
        "\n",
        "        for _ in range(self.n_iterations):\n",
        "            # Ensure X_b is of a numeric type\n",
        "            X_b_numeric = X_b.astype(float)\n",
        "            gradients = (1/m) * X_b_numeric.T.dot(X_b_numeric.dot(self.theta) - y)\n",
        "            self.theta -= self.learning_rate * gradients\n",
        "            loss = np.mean((X_b_numeric.dot(self.theta) - y) ** 2) # Calculate loss using numeric X_b\n",
        "            self.loss_history.append(loss)\n",
        "\n",
        "    def predict(self, X):\n",
        "        m = X.shape[0]\n",
        "        X_b = np.c_[np.ones((m, 1)), X]\n",
        "        # Ensure X_b is of a numeric type for prediction\n",
        "        X_b_numeric = X_b.astype(float)\n",
        "        return X_b_numeric.dot(self.theta)\n",
        "\n",
        "    def get_params(self):\n",
        "        return self.theta\n",
        "\n",
        "# Example: Use features to predict serum cholesterol\n",
        "X = df.drop(columns=['chol', 'target']).values\n",
        "y = df['chol'].values\n",
        "\n",
        "# Split the data\n",
        "X_train, X_test, y_train, y_test = train_test_split(X, y, test_size=0.2, random_state=42)\n",
        "\n",
        "# Train custom model\n",
        "model = CustomLinearRegression(learning_rate=0.0001, n_iterations=1000) # Reduced learning rate\n",
        "model.fit(X_train, y_train)\n",
        "\n",
        "# Predict and evaluate\n",
        "y_pred = model.predict(X_test)\n",
        "mse = mean_squared_error(y_test, y_pred)\n",
        "r2 = r2_score(y_test, y_pred)\n",
        "\n",
        "print(\"Custom Linear Regression Evaluation:\")\n",
        "print(\"MSE:\", mse)\n",
        "print(\"R² Score:\", r2)"
      ],
      "metadata": {
        "id": "KlfwQmyo-zK1"
      },
      "execution_count": null,
      "outputs": []
    },
    {
      "cell_type": "markdown",
      "source": [
        "![Gradient_descent.jpg](data:image/jpeg;base64,/9j/4AAQSkZJRgABAQAAAQABAAD/2wCEAAYGBgYHBgcICAcKCwoLCg8ODAwODxYQERAREBYiFRkVFRkVIh4kHhweJB42KiYmKjY+NDI0PkxERExfWl98fKcBBgYGBgcGBwgIBwoLCgsKDw4MDA4PFhAREBEQFiIVGRUVGRUiHiQeHB4kHjYqJiYqNj40MjQ+TERETF9aX3x8p//CABEIAwAEfAMBIgACEQEDEQH/xAAvAAADAQEBAQAAAAAAAAAAAAAAAQMCBAUGAQEBAQEAAAAAAAAAAAAAAAAAAQID/9oADAMBAAIQAxAAAALrSeTrLdjAACgAAAAAAGgYgMbmrrKgxCAAAAAMQAMOTr5GusBliDXD2xWwmgmjKoLjNQiWCBcIq4nPSjXh306XjO0OOfoB5+u5nn9NspNtI0sFnELZmihIKqQUJBbOAaAytsmVCRVEnTRAoE3RknQJjZlvZk0yb2g0uY63yXKmZl2AZooxoqSLBIsVHW5m8YycPge94VnZohELw9Ec3mXOshpoKAz1EEu9LViYABQAAAAxDBDBDBYpJSsqgAg0xAAAJpjAFnQMABgkg00hgAJjEDBDQDBDeWMQNoGhGhA0IAQJgAAgEACEAAJoABACAAAWkCBj5+niOrSDNJVBjOHpzync+HpL894Fbc3ScvXy9ZjXCz0Di7ozTi2dcK+cek9cpPsjqtzpk8fxvc8Wzr4ejnOixmUYQGWa0ANB6SvmXGqOyRYIlipFQkVZEsiRYJFQi6BOfRNZ0dSJUSToEyiExGnhFHJFSLKuIVcQoSCxJlCQb3BlNQZZSZUlobTAbMjQ2mGdIGgABAhgACAAEwymgAAAQ0IaEAAAAA0zmXVynVx9IS6ufZVxRhaoTNocbMl1SY7w0OOplOzkrFac1CvD085289ArlhlTpXk+N7Ph2a1LoLZeZdZxuNhoaGCfMfRY1OWrTsGAAUAAAAADBNAwAlWSumNgAg0wAG+HB6DjY4uvzvRGY849QxsAAAB81jQAmANZNnF1GlmpJT6SJUIlmRLBIsEHYIq6I56EQdQkrogWRIqESqJFQkVRNVCRVElZEioSKow9gp2BDDFJ0G0AmgYAAaedDedGmnANBSdABk82COehEdkK4fC93w7Dr5rg04YOVgwEzPLWNn0mdSzq+8OzQmAFAwTARpAACGAATpNXSdBAIMAaDj318pqu5nF3cfYcvZydZ593ynpKbCnl9Z1cnXyHVjfEdpz9AuY6h5cSXVzhz+jxdoAA0xhxHacXYRv53oinXjOoAQAZaGmCBAmgBiTQAhoATBACYAAAA0At42MSNGNA0wBjaYwwWeNRrO8j3jRoAAATQY1k8rwvc8PUfRzs6XOkGkSsTHnUSWWrPolWedbetWTVQkrFRKsiWRIsESwRLBEsEcdM1lR0JlRIuoSV8mCjJFg8/p1Q5a1yDyijiHRw3kdM0irkFNR0Q6+Gx0cqY+nmBdPB0FyTKPl6DeNYOHqXUeb6E7CxtHL08vSJphnSEDEmhAxMBLWQTyMTASNLKNkwoTChMKOYb3z7KZyGngKkwo5Bdw0WI6iz5NHZiSOjUGXIhcgyqGZzvB4/jex5GpSXVmOe85V3Pi3HS+Zl4ZwaMZr6nG8Y1bSdgAAFAAJoYmAAAAAE6TUpOommgwEmhgDEDQDAAEMAGgEANA2g5evk6xvHEd5BHQc3QABHemRn18Q9FCe8dJIqHDbPQRKhIqElZESoSKhF0ZJVRIqEXpmTQI0CaAAGAABlsDREsznOhgYj1cZvrlUafND7Mo3Lm6S2uXqGDCOshjpRzl5Hj+V6Xm6l3ly7wwlPqE5F1hxqyJvYfSYznOunUNWVJIsRKsRCxIKk0VJsossYAY3hSk6AAjEDQADEMEMEwEAMAEwxsAABoHzdIPg74ktdAef6ACAAAfN0M4LdIcHfw9o+e4CAQgGgBoQ8jSYmmBlggMtMEwBI0JgAMTGJgmQcvVmpTvzj7oXHyVkdFeTqjfL0wOnU9nFekyfbKpqFw4PQjs8zfZyVWnPg4/L7+Cy4KUARiRrJMQgaA+kTznVdY1Y0ADVNAAwS0GVsMKjJKrIz6ZrPeqESwkiwRV0SLBEsiRVkSwRXQiLsEjaDWEUcUXUQuRRciFiLKkQqSCpIKuIWUQsRCxIKLAaMIoYRUmimMg3Nm3INuQUJhrUWVJoosBoyijmRvUgs4sqphRZYzOzL0zD1omU0Te2Zeg5L1RvUguQZaIFsyC3NdV4Pnel5dnQBKJoBCE9ZBNAAfS4pjOtazqxgABQmwAAAAAaYgYpVkuqTqIYgACAABoAaYAAAAAAA0DTQAjQmAACYgABDAAAAAABNCGGDQZGCWgyaQhoAAEAmoM6BNMQmAANMABgAAMTFvOhMAaY2mNpjaY2ges6BpgAJNEc9GTwPM9TytTqM6gQgSwMAEAAj6fM1nVtRdlnBlSRVXFlXEKkgspBVxCxEKzMLSkKFDImk0NaQAGWADQNMAAWkIYIGCaBaQwBAjQIHljzrIxMHljAENACAQMAQ0AgaaBNAAICBAAAhoAYhoGmAtAAAAwAYDEwa0GkwBjaDQA2mNpgmCTQZ1k8PyfV83Ue41HhYg3PRoQAAAL9NnWM3es6sAAAoYDTQADEAADAU6zXNM1JKySJQMFgiXRF0Rlc3eQdgg7BEsES2DJdECwRdUZ0smnILKWS2ubZVTCimFHJlSSKkgqpoqphtzyXUgoSCpNFCQVJBVTUUUwq4hUkFCbN5TEaZN1CRUJlGSdAmVCZUJOrJOrJOjJlQm6sk6MnraDU8lSKLZlo8Pg7eHUxvGjOKYECN6kFieoYB9POk86pvOrEDEwoBgAIaAAABgBOmFVY2ENJimNgn5R6MuSh6HJ18hW5yD6iJYmir5rmuY2XULiAHwWDpFEq/OsdfMYOneNAGTQmBjRoOU6Tm6AMgyNgxrJtAIEMAQIYiAQAAmAgyaYAAIMFHjQPOhvCKAAAMAbTGAMAedAbTG50G8sZlGk8hKuD53i7eHUBItN0sgt4lSYJpFNwcfWweM669c7ssRRci6sRCxELEQspBYii5ELYxld25KFyIm6c+iqwznrtk+T0eQ6ebt5Dr8X2snk9fZM53SpvLgZLaI3MHP0xuLedHPGXUZfN2j3jRk0GWaOfl7InVwdvGd2WBrOji7Oew86wbBAmhgCMgwIQAAAALOkNPJo0jLWgxtGsgNPQs6B6xsGmDGJjE1oAYwAYzNMbELRkTDGsnzfH18eoJoe5h0yV7nkz1wWYEqHo+rjaWNW1jdgAMCgAAQxAxANMAAzrKzvC4AJnWNiGCWgxzdgSVgi6hIsEXVkp9OTCuiMurJCmOk5cdqOQ7UcFeoOYtohnoiN7kPCR1c+A6jisdBALc1OY7p4ydCiFVJllMKZwRvKAWmTVQkVRMqib0zBsJvYYKBN0RhtmTTMFQmU0SdQk6MkVZIqyTqyTqyTqElYI6pM3mSPnuTp5tQAEALWUdFeLVnRLVbILrI96VJc+ltLViaBgUDQJoYmIYIGAAlrJO/P0KJiY3jQxMMPJt50AAAAGDbyG8PJQEDyzk6+XqGGTj6uYOl+P1HTfh7QBA0GiXGejnmDpTBCCdM7DGsGh5ga1RlqBAAAACBDTQxI0AIMFHPYayGgmUEwAG0A0zQmDTAAbTGJjaYxMYgABZ1k+X5ujn1AEAIBszpsyacYVEfSStjOtaW7E8hvUnVHFFyCLkGWIhYiFiIWUgXRxXWxETe4aKkkVUwsSCxEKkgqS0beGanRGs6RljFnaGmjm60GWwhfGxDRnFEPm6gnmwZBEqaAzvIY3OKZ0AmgQCNIyNDBizrIJg86BZ0xZ0zK0DGjUL4FrLNk2UJMpqIXIhZxCriFtQ0Vc2UeGaBgmgAEmj5WF4agmgGxaNQCYJ5GCPplpZ0bnSwQG2nSAAABAwAAAAEw5+nl6lJUEQwEwyaBDAAGAC0hLUxreyObBF0CZQJqzIlggWCGq5MKgTe9EijJKwQV8mFZElZRHHSEigTVUTKBIqiasiRRklbJMqEioSdGRKBN0Cb2zKojOmCGAwDSYNA2gaAGmA2ZVAkVCTqESrI63g+XjTGoAw0tQjWQeWCBUAfTiebisbWJpmwKQAJgACGAAAAmmc3Vy9SiaQBiBiBiHEtjWTZnYAhgxDQJhjSYjQJgAIAABAmgYAmGTQYW0I1mEaDD0EntAAJpggBMEAPOsjAAAABAA0waY0ANMAAaYNMYANMBA2g0JjEGhAxA0AID5Wds2Y00aFk0AIEpnWRoZ9Cb3m89Vaoum0krqolgi6owbQhobwG3IKkQz1cHQt1ESxEKuIWIhZSCxELOLKqYUcgsQZUkFCIWIhciypJlMoHKgJ6COtsytoM0yZW8QY0x42ibegTBMZkAQwQACB5eRvCKOQUcg2SZRyCxIKkwo5BVxCxFlSQXIhYiypJF3ALuDLEQsRZUiFiexgj5hJ2aQ1wqJMNI3kFMtAkH0tJVzY3janrOkAKAAAAAAAAAAADn6ObpViaAAAhsgXOXrMnJ1DaYNA0AAjQmZAGINIZhaZlPZPDyMqESrIlgirBAuiLqRJVCJUJKwSVgirBF60TN6JOgYVEZNAh4NvIClUYmDTAAGmAAADExpoNZ0IAYmMTGIGIGIDFAiVR8ymqYI0IHlsxiuTDMgmz6Skq5srwvTYIA6Q0AAAAAAADBDDmvGy6AQAAAPK9bnMUxkx3cHoAABy9BoAACdOboB42IcC7hcMTiT7IMpdaMnJk7CFhgxAh8lUWXJo6TmmdhMjZOoiGzZPJ0cnXymenn6QI3OWk2XzgNb8j0C2pVOXojUYgbTAaATBoGADQMyx6ywQDABoG0DQDEDEAnk+aB0JgIAEDeWCaMreT3qK+by2z01IsJAuVEsESyJFQiWCJYJFWRVw5KFFwrZRFEZNATho30cuiPVhHQ+ZjvALOAXIMqscRXt5cHbAAvBk8WCOtzOt8lDXF2cwu7ksV5qIzeIT6uShzLrZKV3EjeTpUghvYY6JI6OZyNdPNQpqDMXmiuMoQwrqDHqYbcguSCpIKkWWIhZwZYiFSQWcUWcUXIos4B0EAuQZYiFiDKqQfPg6TASaBNAPIxI0ZZ9B0c982PXy9VAFgAAAJggAAGAIaGIJbxtdY3lKIRp5Afm6PRfnyPS15noDHk0AA5lDKJX0HjdVdF08jEDEADAQHN1AgQ0EIAAQNA0IAQAAAAmAMyDEANCGgAQMQAmAIessZlg0wAAAYACY0AGdACGJjEDEDeWDyDy8nzmsaoABayCYLOsjQh5aPo7Qtm46uTroGWIYIYIaEAAAwAEA0yOlpdZ3hNphOmWcPRcIFwwaBiAaZPTAANmWY3PYwBJoYgGg0JiGoQkMAEwQAgABAACaE0DAGZYADQAtIEwSYIATyxpgPLAaGZ0DAEAPIaeWPIhvLB5DRljeQYgYg0hAJHzrCgEaEACEmgBAgPoKKubGivUnVpF2KiWCKuEC6JFgiWCBdEXUObW2uVfCZKsiWCJYJKwRV0RdWRV2QLhznQiGrBza1uJvYZGhiKGlGyYVUUWUgspBUiyimG3IKk0VJIoTCjiFlJmnMKrAaeGaEDTQloMrbIlGSKhIqEyjJFGTKomrImqsiVCaqE1RkigSdQkVRJ1CRVGTWRpYPFB1laRk1kBIaAE0JgfRay812ns286sYFNNA0AAAAJoaABMm0LVPKbEwEjTzxnaQ6TD870QAGAAIBaEAY3OogAGACNLzu0pz6RrbIyZYyVRAAmgJIsZ5jrQzJqJQAEAAAAAAPOgBAAAgQ0AMQANME0MAAABDABNAIAAYgYgYgYgaEPLyeFqW60JhPYTVMmWgMtAAfR7jvNtqGqtqGks4lWIhUmFVgNmGaSYxAmMkNLXOspoAhvYHP0bOLfJ2nL6HN2GQBiZnm6YFN4oJgYBk6DN8HdxB3cnYcfRxdRHq5eoObonHL08fYS6OTqG5wOl83QQWoHbzdHOU5uyBLoiHUkwGhACYDc9BrDNIYJ5EPIwABACNADQDEwEDTQAhiABAAAIYAAAACaDOsnz7TsbyloYZpIFnSMjQmg+la1mlZVHrOrGDpLSEtoyaZM2yaqiRYIlWcpUXJZJIsEV0BwWtkytBC4zGtaMFgiWREsEioc+qaJZ6Ecx18BXTuQLEcy6Qgro5NU2c1aMkVCJUJc3cEMdISdAnLpRIsiRaRkQaDBpvZIqEnQJlAkrIkVCasiSsiToE1UJPbJFQkVCSsiZQJFUSKombZMoEyiMGwwqBNVweCwsQhXkRp4DZjQ0MytB9ImZuqZ3RpaQaKYAACGgaYJgAAASGlomkGsm3lj4+zkOnfFg9F+Uj1U0AIABiAEwEwGB5/oBydYgEQACTQDQgAEDEACGgGJGjl0VlOglSxznQjOkDQAAAAJggBiBpoEwTQNAJgAAhoAATQCQxAAhiBiBiAADOsHhA6QwwNCTQAjWsBsQfRvDzeinNSquIliJVnBliIWUgspBUkFdQZZRDSmL0qWUqpsoTRfiuhpsbyFNRCykFHIKuIUJKLa59VZw0VJBXOCNGEVU2aSRRZRpLJoyGjDNGQYg0ZBTqGjKNGA05s2YDZMKkkVJhVTCmcIqsIpqQUJBQkyhIKqYUWEVJMopoqphTOA2TDZMKOTKLCKEwoTCmFk8Z5dPLQJoeWgTBLSBNH07TzaVjamIRgUxMBMAAAAAAAaZIaWmNzTY0AZNJoNT2aExAwAAWShjQLLEamVaYlrIhglojBpCGGVtGDQYNowaZg0zCoEzYYegwbDBoMmgy2zJoEMEADAQAJhlgAA0AAgaYk0AAIATyNAIABAAgaAaBiB41g8NoppggQACBDQCTD6bWd5rtG1AmjaKYANAwAAAAAAAMpi6nSaUAMYtkybRKmdjYAAAwU6IRoMa1keNI2AAAKOiiFDS0ZYhoQAgAEACeTQgYgYmCaGmCBDEGhAwBAwABMECAAAAAAAQAACBAJiTQJoQAIAEDQAAAAY3M8RjoEAmCBDywQAgR9NuNM3XTyVqxBpdRKuc4dD5mdBzsuQDoOcOg52XIBsg16c4wnQTRVSCpEKuQWIhcgFyLKE0VIhYiiyizoIkXUQqpBXM2UcQvjCNGEUU2bc0UJooTCiwFDCN6kFc4ChMNmA25s2YRRyCymipIKkgqpooTRUkyhIKkmbJoqTDRhFCQUWEUUw2so2sBswGyYUWA25MpHUq8jSBoYCQ0AAgQAAfS7xTNXRzdNDzpACgAAYmg0gAAYAAEmhbT3NKgCExNc50kbgvO7zFc6GIGmGWgGATrM2xiAEMENRljEc3SIhA63nQPnydAAhoGgGpFGADBAAANDFnnsUJWAlUQ4lBMaAE0DTBAAAhoAQACTQgQgQ0AgQAAIAAABxrGvIeWAMy0AJggEACaPp9zrm56eXrrLBAHSGCGhgxAAAMAEwkwWk6YSmdIxrOyfD6OCHTwXDr83vG1oM6yR00aNIYwMbyG+LpKnL1B5/oeedVJUgnXiKU5+sfnPpKqYR6ZVMcjR16lYRBhuPUcpLNdkackdPTx9pjMcFdR6zfJfBNgSp0By9nNQldggAABNDQAAPOkJJgAJNCTQk0AIEAgAQAADQOF4V5AANAJoAAEAAJNH0tM3zebqj2VzuwkVcqJYIq4RLoi7BAuESrIlg5iqVT60kHYIuTKrDFtByde9kXUJFgi6aOc6MkiwQLMhzW0afL0jVggVIi6hLFWc50o5tWycfTtmOTqRjdAmqhBdASVsk9aRGtUTnfRDVUcduhHMdSOStQkVRNWCJUJOjIlkSVAwVCSsiJZESoSVUTVUSVEYW8mVsMG0YNoyaDJoMx6YV4+shoQNAIEMTBACA+m6eXqzYd3D31gZYgAGgBiaYAhiBiYCDCYtASGdIxphG8+Y6jm6DbQEqBsTGJgkDeWNNkI9qOcuDQoAQBkVJUELBrOkIciqQMWCogYIalUc94KCYPLATGJgAZaYgABA0AwAAWN4KIYgQACBBjeANZEmjK1kMsJ7AEBnaBiYQvCvJAENAJggAAE0AB9N1cvVm8/fwd9ZGWIaAAAAABaQlpA0wWgkNLRNICZloJ11o5q6QCYgA1nQMZhrQgBaQNaDKagW0ZGGTQS2MythjO0ZxVGc0yE6oWgBrRN6yPOkDaBaCewEtYKghAACAAM6ROiZg2wxSZRAPLCVM6ECDOkE95MjBZ0jIAk0IYCaG8Ipz0jXltMEAJoAQNAAAIPpa5tm83Zz9lTViyJYIlgi6sgWZEsEC4QLhEuHIWFyriczsESrJOoSdQiujBEsEXYJFWQLMg7BFWCRYIF0RVyOd2REszm1TnKCoTz0ZIlkRLIkrIkVCWlUxjowTVUZKhJ0CaqEioTKhEqElYIlQkVCRUJFQlm+DJVElZEigTKBJWRFVRPNckzaMLaMLYYWwwbKWk4Ofo5q8sTAEAAACAEAAB9TeF82PXy9VMBACgAYmJpgJgIG86AAkPK1ARDRPS0DQNpGkAgQ3nQPINpgIGDENCBiOXoNc2+U7jLhbnU5KYwdSGZ45dpRa4jo1y9IJRNveR056Gubq5jqEzOkxGGaeGaM6AQMQAIZPYxZNiB41k2mhJoAAEDQhJoWdIytZMgKk0ggAAYmPm6OavLaBoAABAAAgAAPp+mFs2XZw91AOxDDLYIAYIABAjTwFFjI3JrdTSWUdGnJFiQVU0WJBRYRUkyjkyjiyriyvk+igpMihNFSUy8JyO847lOWujnttDeAh0S0V4epHJ189jeANblo5uvj6inLTB0aiFnHBTUw0kG9SZRTCqmFVMNGQpMRQmFcLJYkzec5KGEbcwosI0so3nIPJkZlLpZSMyjZhm3MKcnRz15jQMABAAACAAAR9RXHRm895dlQLFkVcIlgiWCLqEnUJOgZegyNkmC0TSLWdCTBMBDQmAAgaBtMy0xgAACaAAAI5NS7q5OiHRGG0DQDQIAMbCNWhZ0gaZpaiaUsFcjFndzltRAJgANNDQxNMQAAAAGXgqgEmgQAmgTQgDKaFnWRJpUhIJIYg0ZY+bo5q8xpgAAAACAAAEB9ZWes2fdwd1ICwAAGIAABiBgDExAGAa7TSLWNiGgQhiRoENCGIHrLAyzSAYgABNOAASMGzINCG1oytYGkDEGkIMaQwCOOnRzuuSqWDWsaGkwAGhDQA0DAAQMyxpoMaDSaBGRggBACBNCTQs6yJCFloyCARTaDXN0cx5rTAAEAAAAAgAD65x3m57/ADO2qESyzgjoIMqSRVxCxJF3ALODKkQ1qDXpUklHFllIKE0VJosRZVTCqkFHJjaDS0yRRklYIlnHO7BzrpRzl8kS6JOmiKsHOrhzu6JKwRV0Seww9BnOgEwWso25osSRZSZUkFSQVIsqphswFVMNrIVJIrnAaJhQmG1gNGEbWA1nKGklMtGM0VkzQI0Ch0855rAABAAAAIAAAPrdp5sO7h7qTCwAGAAAAAADTAAEBgBaJpM6zoYAkwTTEADQA0CYIA00zIAJoBOAaAQGdZAQN50IAQAJoAATQAAAIEaAENAANaBAAAAgYgYIGgYAAAAJNAmgTQk0CECaMrWTK1kU68xRazWQQ2sm4X5DiEwAENAACaAAAD69p5se3j7KAdiGCYACGLQmgYmJoGhGGmtE0iaYwBACAGJiAGCAAywNNMyMEmgTUMGZGGRhlbRlgCaGjRhjMjAzoMsQACTRoEAAADeWAAJghghoAAaYABjaFrGxJoQwSYZWkZGhTpg59UyalVC5OrnMqka1g0LOtks0mcLTAAEwQAhoAAAPrtx1m57PP7Ko5JLqSqxFFyAXcAuRCxzh0KLK5yGUaVqokSwSLIiWCJZEioSLBEsyKvkirom6hFWCJYI56MxEqySsESyIlkSVkRLBF0Rh0CY9E1ZEyjIOqJKyJlQkqomVCZQJugSe2SKomUCToyToEygSKBJ60TVsk1VEygSVUSVUTVETVMk1TJPNck80yTzTNCeQnWJwtMEwEAACAAAE0f/EAAL/2gAMAwEAAgADAAAAIVp8wQWdfbTbNDfcdTeafXVWdcAKMOfLJGCQaRXReaTSZSQRURZTQXUYdfUdZ/x3XdeUT5htAPm4zSfWcccZKBSaffRTRcTRdcQZXRSXYXQRfcWfeXeZSaWbcXVRbccbTbcYe330+edZBEihPKp0/TSVcQbWIAbdTQZebYbaQSRaTbeaRfRXRRbeUXaQYYaVTWdYYecfSSWaY+ww4wfXKDkmIJl43XffcbQRFOaRQabbZTRYScXZQaXefRYVUbcZRbTRUZVcVbQQXRfYdSXQ8/7135YZHXkHLXp+9cbdQWRRALYbeRXbeVbYXVcbS/4YRRf5baVUbceXRWUQYdeXXVaQeTVS0zx/129dDbnllznw0SRZSVfePBccUQeadWZZYaYXUXfbVfUXbbUeRWYdTUfUaUdYXXZUfWUy27/z89/Y3EeRxPswwQVWfffZOKYfVTXdRQYTRdWecbYaTYdSfWQVXacTaSXcRfSTVdVZUWf5/wAsNONcHQws9PM6PeU0EUl3Uih00nHHHH1VHW01kW2n23nE1l023XUnklH011H0l1tX3Xmd8f8AzHjhN9Eh19NdiNf1dlZBZZY81NVR159xhNss019xp99pddl9BllZAp5p9Vh1nvTTDb7r7HHnn/jrNF8ItJV5WdX95tNdp584xhd9dpxV5x1xtJhJ1FxVJhlhhF9lVhNHbLLvTeS3brjT/jDnrrrv3NLV1hd1e1rxplxRhNwcFFVJl8oBxVZFxsUpEVZ9J1l9BhFVRBiSmy626KTPPzL7jbPTzrbXDRRLHN5AG9391VxN1h0o1hN1pEog09hFgUssIoQQl1FAFB1hoAGqGj/fijzfv3fz7vTjPXznL5KS8FP96h7hZBV99BQM1htYcI0g0sgc8QYQMkc8YMo0oIU4sPvqiqHC2uzHDXXXX/3jLLD33FqlKZNvWF3xRRhBBNY4llw8AwUs48ZoYk5cIkwQk0808EA0Ma2THrmy+PP7ffLz7b7X3r/HfpUOORpleffBBFNNphgwRJhAM0swwMw84EkIQ0AU88I9IA4QSOaTX3TDvXnfPfbnvLbXDDbHrJAouu0SK7vV1dJx5B1cRtJYccwwkYkc4M0o8kwkkQ8oMm4eey/vXfn/AD5xyz59y+95382w88yRJABf9zsf6ZReYXfSfPaTYEBDKPFCPHFJEJAKBCGHBCkkhot43v06+748/wBtMd+O+vcdNeNOFTgfkWX418nEEwEHX111kyhgzBCjByQxhDSxCghDBxbLJY6dfu9vPueP9+d8eM8cMN//APD7DZdLDlIwCp/BBRBxBB5tV4w4wgQEw08kwAEAE08s88Kuu2uqf7/3n/8Aw47y+/6068z733w922834RfHDMoO1edUVSSfSTTYDBDGMIDNDPPCFLFJNMJmiisqjmuy09w4+51857y072x748+/8x23IWVOCPlA/edaUdfUWWdRJBPPLHDHPDGGHFLCAHJIinmklqo92+371yw/4w/z15620z+7wxxhMGPONEpF+dfbTXccfTSANeCHPPKNLNAEEWDaABGFJApgspvnny534x+5w/8AOvs9vOeds+/fLAgyiRxZAPEGU3H0lE1k0gzyygCjiCAiFmiw3kRwgwL8+9seOsNc8uvu+NOetPeOefcNuMttKDxTQTjaR2EFH3UHU1nlQxiRAzTRRDUQwxjwQQLKaIabfPvvP888/duf+8tfuMutvcs++u8d6hRhxxQJzHHEHUmmm3HVhxwzyyBThjyhjiAC47pKL6q5O/s/t/Nst8dMudsNu8NO+8ufPte/TgwCAzwLw+013UGH2W2mhDwAThBDSBroZypL7pLpr4aJOcvtvfcc8tO8Mts1Vn1ll2Me9NdMAjQxgiAYL9VW20VV1220gSDDxwwDDjgTQiCVJrr5bbIrcN+PNeu8O+fuesPUEWFU/sMM89/8hhiijACETuE3VVlEGHV2xwQyQBzyygwhwiWG8ef4q8tr9uf+M/8A7H3zXF1dFBXBt1z3zzz/AN/RMIDKCEevyVVaedcSabVNDDGBHBPDPFQaKiungkvrjrj5/wDsO8+csd9Ne0l3n3EOfcvPf/8AjHIMM4Y4xU7tBA0oQFBp9gAwkI0g0MoYg1si6uCKOO2aLjTDHPXPPbzPXTtNxh15TPL3/rP7HwQI0UgAY03xptwQxhd5F40QFdgYssms4gGOayG+qqCy+On7/HPHzLPXrHLPR1ZNbbL/AK13332HPHCEAMEJ9SScPFOPfbdMMPCEIDBOJPNPOrlrjpmukuw8zy6w1z4z3/8A9uWnUF1UvMue+sMOSCACxTggB+3W0FBCx0H0zDQwAygwwRxzhwK4Y6Lr7Z4ddNMd8898NM//AP8A6faRSd062z38048AMBHCLIeG0XaGOACDXZcPPIIDEIINPHnlmplpupv485827+4w917wx9y/aVYcTdSc28w063ZOLPDHDFfC0febEPFedWaHJHAPHOAIJKDNAivnhqrppq653/26+z8931wXfdRYQZbW78y88zZOLONONFRJyedQDPBWYaWIKIBGBDKLEOBGTo3/ANuvPfffm/8ALzfHPnjHfXd9RJFN99HL7fzvRUk8gAAUVAjdNVFgAZxFxkAUsw00o0As5hYOiG/nizbff3L3rj3XbHTTrBZJBB5dB5X/AJ5z34bjmNCCGNYMfNCKAECKUZdAHHKPEGELEMKBtpvrutkml922x26zwy+985zz2zYTZVYdz2/4w8QgunMFIDVORQHHFEAAdTSLCQaNDMCALMDsmihpnp324627/wDve+eO+P8AFfnbRplZF5R7vTXPZieWAkwMlEd1po4E95x5h8ME0EwwcQgYEkKmy6SeG2eGtf8A+533wx+0wUedbUfTeXXaR+28a9WhugCOJCNA3ACKAPKeZedOLIAPKDILBOODDDmrom1w28by65x68/75ySSWdfcbRaURal282zRnonIPPCKEdYPBGNEXUcWBDFPNHMKCEHollnvrhs3xyr+0/wAuOPF0lVUWUXn2XlX1lWy/fsPWYI6oTyQCQF0kXzDQHkWHjiCSATSTzzjRDLl77aKKYZJtavPf9/8AXbpNNJNJtdVFp1VgPP8Ay7assgvOHArAXeVPDFAMVQaNBJBCDIFPIKKilrvipmvji9v078/wwWYUTfceXXddbcYUSf7/AGUWoJ77wzhgwWUnXSQSk2l0xyCShhyiAShgKoYZZoq7N/M/Nss9fdvPNl1nXEUE03mHkmILE0VWIL76zziBCV0EwgAAB3EHQBgzySRjQDzx6I6YrrpZatO98cPftNHE0+W3nMHkX3022XeeG2GVq7bpTwB5hnGBTggww3UUgCBwhwTyCjAjbLq4IZZrvvsc/wDP/jttZzRVNtBBNx5xh9nbfVBhtqCSo0sA24jV1lBBdZpYNAE4Ec0wE8k88OeemiOyHrP7PvzLXx9vp1hxtJpdVVJR9d1nTPRVhqSeA8oU/8QAAv/aAAwDAQACAAMAAAAQClnxt1pFpNAFJpdxR7MznovDiumqzow04gi3fz/SyT35RlAoE5pBtxdoIlFzrvVlF++iQ0W8W1r1tBhh9xE95tdJtLz/ANz689z33874x53w5+9y6z915fdfdcfDHSXqKhYyS/8AdPlFLnzAybirW9EEmFUn0lE1EQVUY76v9O8K5s+tMcMO/etPcNOecNGUGnVEYCQxbLqCX1Nvc9e2Zow4xqIr3fWl21G0FV0UEWIaJJmE2/f/AK2umiyOCCXjSGW6G4ocMUI0QMY1lVhZpRj3LrLX9SJNuOKROVD98txNdZIlR1BG6+qao2Csw+i0saO6Gw+7TauedxlFMYtsc0cFFFpBRJbfHbH7Hm3xEoMVW1f88xJFpRlFFt0MwyUoQGswsuaG+GWyuKmyiK6yYloEwQI0oMkNJJotBPnDPXPvv+6EGt8xSFDtJlNBJNc49gs4MMoc8MQIQGq6qIqC6qWSEgIo4A8cME4MAEwgloBqFPPDrfXzXqCABcKQGZHJ1FFpBF0cFIIc80oo88wYgU2mmgQ+uOuKmks048McM0Y04kICMCgcHvD7/DXllcGb3rPLCzXlV5FJZ58Qcw0gU8wsw8F1ZMgIckggYMWy08EY5okAIEMw6uOeaGnrf7b7zT73pOiOfrHHa7r1ZRxhJ50xQQc8coMoAAAAUYUIo8kgkQ4gYocY0Y8yyiSy+DvSeynvXrDfL/DnX+BPvjbPK7D8whxJ9Vkt0QwE8t18Uo4YMV1094QEkAIMs8M8Ew/PbvbznLGyGi+rn7HX3vzvTOwSGLnqCPLFxQsE8w098UUYYVhhZkI4dt91hhFJUwYBkUw41VvbPuCObyeKKHn/AEyz4yQZ6y45Ee1Ac3twwUQZAGAFGZJLN56SUaeRfWzQyxfTQQaXfWSQVVXnq098o446hjjv+112167w032hMJahBvA3+QYTGBPIIXLORX7z37SWFRaYs5YfX03WdRZVUTUx/sno1x5ujlj/AOvNtcOuNut+ach/UhAoXcA0QxThwg0nRA21n0W3k022G11XHHHnkVRnlmG8e9Y45bLIoo6o8s8vtuvsdd8OqeuTjif7mc0VQjDhzUXjxw2n3XnnWml3WcsU0EHlG0FUPlPOcq7aJ5aYqoZLd9uNstsvs8OfbcMOgg74suFSCRyDS0kiCgEGkEmWFXUH0FFWH1V2XVXc/dvPpqPr5Jp6NZJYqqc//wDrrbDbvWfnqXT/ALi34CCDUMHAePDMZUdRVVWeVaSZedWYRQTUT/xwwxgnhjoskhlgstgo5w3+wwz8+72qJnS7vpg7yDPCMAAJXCOeadbQVceQYcbTeZecXcdd+46y/wC5p55Y5r4pqq77r9sMNdu98Nf9MefPL6b8xLCxgTzigHhjCEHk0V3mlFFU2111VkEWcfe8cMP+ZaoqKbK77rcd+tPP8cW3H/vMlIsdp4rvwvSyhSwhD1yjg0VGEkVlW3lEnFl1mm33k8eMNM/9oKaLIrYpr4ocMftvcvtMf9MPjp6pIqiVy/jQxjSTTljDEESvOHE003mnFVAmAkEVXE3vcMNuuv6rYaY6PNuc8dvPste9d9+dCopKJQTXxfgQACxRh3ySBHWHmU0mmXX2Ag1XyzGVVmv5p7YrK4Y467IYLpvfvfv8e+/+fus+iLL7TiQ24EyxgQgzQzTh2H0M8EGEGUC1WlnFmV/vt+tPopqqppZr5a44JrvPdMckmPENsv8A3gCSWwgc1GtMEgIk0AoQkNlBx5JRZNltplFVpjnvjTzjz+mGyKWWGyeMKl5JhZNJBRFJRB/PviuKugkQ5UvAcocEMAc88ZhRdRlZ19t/zTBHTfL/AE859x+pittimnrDAAcTQV1yzx34zRbXbfxrsnHBCNXz+EKCEFGGLLKWYfZccbcfWeRVURKz3+w43x6tsmvvlvmnlCWeUc/928/dTbcY84xoGAMABNhQ5DGELGBMJNFYSa8bfdcZcZSeaGHokp79om8jlitromhlLKSww2zyW/z/AEW/v/OoN7pzRgQqeNATSjwjizQyXHEmGHXl00nxQHPPNuvdvM/sYarIYZI75zwWXc8efNc3HH3313uYVpp6gARKHcyQ20lHRzQQmWF/smHE1mV1jn+OctPvc/d6p5KbJ75bZ5Y8EtcPvceUGUW88OeoqIppaTAORuzzhlmSg1xznEXgxWnGWcXkFvPPved9M+99v6YppwThzzQUk3FOev8ANZdtBHjniuauGGQUDATIY4NBpVo4ENFNV9R55NdNBF5DjLLrD7jjWS6aWq6CIs+46XVvzfrDnZ7lvjnHX2qquicQPkf0IkUttRwwghJthBZ1B1V5R9RXrzrfPzLXGiWD2uOGieeulNBL3rv75FxF/TjjauCqmCcEa8fQstd9NNookxBB5BthlVtt/PrLTrPLvW6e2OmueeCO+CQYl5/7HTvPDPRRBvfrgG6CyG8geA7k849VVY0cExhpdlNBdpthBZJnnnLbnPzLq+ameOiKKy6AFnbnvDTbP3lDDP7XoK6qKK2MuYDY00JVBQ4gIZdNHvBV5hVhV50vuemKiieKqMieuS6ebay8tdvTLfT/AC1wW4+759Anlmnqu2tDkPGFLfWLLEGZaVTXSQdbTUJCf+8xhv5pjtnsvttomkFJPaZ2x348981xefXw66LEBrik37sEPdUfZaeVEIBTYffXVSbVYafX85y7+x47xmutirjugIKhKfeSeZ353939Xd149/DpiOnt68hMJDbaddfcAALbVKOWbcRVbcdww0+065ugpgFhtkirGGNHDP8A1R2MM/MudMHPsM9zpoS6Ks8bxjwQm0kBRkxwnGW3U2G0n3nE0MNM8dtf+3G4hDggDADxk2+8cueN89/8edVsdWugqby6KdNcjKHEn1kkQRQhVnUW0GnWlVWHn1ms8duJLaD47o6oygBww3rP8t/+sduevPzvcv8AcmacaerbHspA1NFxxQQk4JNFthpJNVpF7v7vjPDHuyiDIGMsoYA6ffLrbrTfjXnH3b36Dnb7c0wM0m7v/wADEDMBXeYCNHDbYRRSYeeQRWZTxM3z4w4/3ysznrqmOFGa86472923246/2i2w08svqsLhy8SLIOKVbaSTAEEcWXdfTTbUSZR567+x32/46lykjDFPElppkwy256559zyx7+wyUXugmMKrz26GDCJNcbeJILJVbXTQXeeWUYb5wz6z115olonICNGBKNKO/wDNtMOsMu88t/C5HlXaYLqBbsevCjSSEU2mlgzC02mn33X1kl1mtc8MMsv8tZZaIrCgRA9M4WM/dn9dd/ddevXeVUUYZKYxYPv0SRjW0WWWEwjhUF3EWW3XFXHFvvOdP8t+bJY77ACQgrNeGfOsNOfOs/Of/wBhLlXCqKSw22bj5s2YIcUQMUI1MpF9F9p5FVt99TbDPvf/AFpjopstJDNh4f8Ae++Mf8/d/OufO+39PVn6pJirtdf/xAAlEQABAwMFAAIDAQAAAAAAAAABAAIRMDFQEBIgQGAyQgMhIiP/2gAIAQIBAT8AQ6JuNY4woGkKFChbUBHfbZRLk8wI5DMnmPimiAiZPIZSag+ITrcQJ0HRAx7bJ3FttBWnh+sc2ycEdRqO2cKPig5EArYVsKDYUaDwH013Fb1uU6DKCp9aAt4D60B4AWoDwARChHiPADgRwFaKIxcSERrGg8EDC/lwRYRwHhB+Qi6/ycj+Fps7QdqMVKlbjoPBk8R4I8h4CUTzCGfNAIZ4UWoYCFGGb3p1lT3RRbavGQFFviG+ICGeF0aAQwQR7YuKIQzwuKLUM8Lii3Pi9FufF6Lc+L0W58Xotz4vRb0Djxei3Pi9FufF6Lc+KLcHPcFFva/VEdwXotz4otz4otz4otz4otz4ot8Q3Pi9D//EACsRAAEDAwIGAgICAwAAAAAAAAEAAjARMVBBgQMQMkBCcRLBIFETITNhkf/aAAgBAwEBPwCJt07T1+fC/wAfG9Dm1wHDe3U051P7VSvk79lfI0pXl8incU1qP0E3jPYQRohxnV3qjxydP6T3/N1e/ddWCaKztunaevzqaUx7upFCdt07JD8H3Qv2Dbp1x6yz7pvYNunaess66CE7bp2nrLHqRCsvkFUImRt07T1lj1c6BfFUVI23Cdp6yx6uxb1BO09ZY9XYt6gnaess6/Yt6gnaZZyHYN6gnaZY8hO3qCdpljflWhQNZm3CdpljfkRVVcwprwZRcJ2mWN+dAncOtiq8Vv8AtfzkXbGLhO0zVFRUHIwi4Tssb9iE77OWMBid9nPGJ/3njE/7zxidbfPGJ1s8YnW3GeMTrZ4xGx2zxidY7Z4xOt/zOm6MRtsM8Yj07DPGI22GeMRtsEc6Yj07I50xeO2VMJi8dsqYTF47ZUwmLx2yphMXjtlTCYvHbPGLx2yphMXjtlTCYvHbKmExeO2VMJi8dsqYTF47ZUwmLx2yphMQttlTCYhbbKmD/8QATBAAAAQDAwUOBAQGAAYBBAMAAAECAxESE1JTkQQQITFRICIwMjNAQUJhYnFykqEUI2OBJEOCogU0UHOxwURUYIPR8MIVk6PDstLh/9oACAEBAAE/Aj43pH5mIR/ouZr6nmBcqfhw7HLv+O5LWMk4i/NuZEmUIECabIoSkKbdghRbsEKDVgfDM2QrJ0GUN9iCYIigS14ikq9WKa75QSysjMyc0nr0AkvXicA1Vqvwl42kUXYmcS0nEyjoDyH1olplr6DD7bzpp3mrtBkomTQhk9W0OqMsmkkUWgglZLdbVKqRBb3QEuyOuGRRJR6wy4glvGZwmVoFZq2QqNW0idFosREoayBQ27gy3XRmiW0RLaJk7SBqRaFRG0VUbRVT2ip3VYCc7ChMqwYi5YHzNhD5vYIO2iErlv2EirwxT76hSK0YpI7RSRsFJuyKaLJCmjYQkTsECEBDdwBl2AkIPqkKLdkUU9opH0OGJXS65CLpdUVYayMgS0n05jH8R5JPjmaLehRwCjiYYR0gzgDPPEEefrYAuVxCdf2LmbmtHiC5U/DhiDHLvnum2ybjDpPmJJIjUZdY4nwMC2EJEWSwFJuwnAUmrBCi1ZFFqyKDVn3FFvZ7iijtxFBG1WIop72Ioo2qxFFHbiKLez3FFvYKSNgpN2RTbsim3YISIskIFs4VfFGmATN05olGEdO41FqCX3XOIlJeINOVw5QvsGSWSCnOJhxZNoNRhhbqo1Ew2blGs91oMG0g+gSOJ4q/sYqaYKKA/ifIl5syNQdUElEwkpSCjzxzEWfrYAuUxCf9czc6niC5VXhwxlEjIIQlBQSX9eecUSpUayKJhCpkJVtLMrVuE/zbgW4SEl26iEc7rRkqq3xuktoacJxMS++Z3fvtI6C3x5p0zmktZBK0qmh0HnR05tRRCMpYUcCWFrJtBqPUQSolERkegUyTlaZTOKomrwzqIj1j+IxJpJd4J4xAzgkKOJhhPSFHwLfR4kE8f7GE9P25m51PEFyqvD/o1car5FrMiIJKBEWwRTtIGZbdwTcri1x1mHHFGdaG9I4J/wDIWtTxnJqT0hlRrbSZ5lumo6bWvpVsDTCWjiR9GZP8475SBBtwkKygz2mMhPQ54g1GnLIWizKfWhyUkRiDfeSUTY9wSoom2pBq/ApVomP/AMjoDZU3zR1VFMQcydtaptJH2GN8WrTn/inJI8Q3xg6oEUTGouC+YS+jWCSZmcbJhNTTAy6B8+0nAfPtJHz9qR8/uj5/dEX+6IvbEiZ6ykTPWCEz1ghO7YLETuXfuJ3Lr3FRd0YqKujFVV0oVTulCr9NQW5xd6esVCqGcp6hWTsVgKyO3AV0duArN7RWatCs1bIVW7ZCo3aITotEIptFuIc9P+gECXlUx/LIwiPxLkSgcpZt4ajOgowj+3Lp3Dpm6qknUXHMZQg/h5UlsDbRNsw7NIyUoMpD5uyQbTpPp2BDWUtlAjQFLyuGhtMQg1SlNr6Q42qZLiOMXvmNltS4mkZKXK+cOfzjPlPMjPlDCCZcUXRq7AniJ8AZxypBWUHH75toSolFEGP4rySPMEHAws4hrWDEQZgsxbg1A+P9wXG+xhPTzNzWjxBcqrw3UC2EJU2SEiLJCm3ZIUWrBCg1YFBvYKDfbiKCNqsRRK0vEUu+vEUlXqxTcvjwEj197CV62WAg/aQPxHcEX7KBM/dliJ3br3E7lyeIqndLFX6a8BXRsVgK7e08BWatCszeEKjdshMm0Q0CH9HiW0TJtEJk/FKOPUIVG7Qqo2g3E9oqlZVgKvcUFLUaTIkqI9ob+WmBNqFRd2Yncu/cTO2CEz1lIi9sSPnd0fO7o+f3R8/uhTzrcJkl9hk1UiWZJ1q6QaXTcSs0lvRO7d+4QtRFyZit3FCs32jKH2zbWgo6SCTOkmUymlINNU+mKj1mFRhozJRBYMfxTk2/HO2WjMZZiBblR6R+Z9wnWflMJ6eZr1o8QXKq8OEVlrKThpMEolJIy1HmiRaz5hASp2EKaLBYCk3YIUGrAoNWfcUEbVYigm0vEUvqLFNd8oSO33sJXr0sBB+2nAfP7g+fZRiIv3acRM7de4ncuTxFRdyoVFXShV+ksVfprwFXuLwFYrKsBW7qsBWKyrAVisqwFUrKsBV7i8BV+mrAVDu1Coq7UJ13ZiZy79xF2wWIi7ZSPnd0fN2kJXLYlXbEh2zFPvGKae0Um9gpIsiRFkgTXzFL0CBbMx8yRqzyp2Ci1ZFHYtRCDxalEfiKjhcZGAJxCtR5v4nybfieZJaQRaM5Zi3C9WaMXI97/QTrPyhHW8eZr1t+YFyp+G7IOZclCoEmILLHlnBDRBlS1Jio0xj0ZsmZqNcbRHYCIkkREHHCbTMYoP5Qc6jgQbbpoSmOrdHlGuRs1EWswhaVpJSdW6W4ltMTBry1ZRQ2SSE0GyU5o0aQh5pfFWR5jypJOSy6Iwj/AE5XMkauAUhKtZCVaOKcS2GMvOZCAYSI8C4eZPGLxCNavKG+t48zXrR5h+afl4B/J4HVbTE+snaFPIJgqZcbUQyZqk3DpM4mFONo4yiIZK8yhqCllGYwlSVFFJxIPlO+0g9WsaiB/wAQKOhszIfFIN1KS1H0gzJJGZ6gpREk1dEIgnUG0TnQCMjIjLpzJ+XlSkdCymLNUb1TpxzqUSUmo+gMoNZ1V6z1FszOtk42aTDmSoS2amygpOkg2udtK9pDJ0KcSZme9nj47s9GvOp9snJI6cx6CCHULjDWXQf9BVwsdwYTqLgv4loJGYgXAGYPMmE4Sst95QhaIL09YTItEJk2iES2kIlt4detHmH5p+XgCDTPzVrNMNO9LNRZNUxtlExkiESub0uOYQSUlAigF/zrfkzG2lph0kx1HoCGjQnJ9puRMZT/AC7vgEJiwlO1A35spZJJzFGIyQ45OjDNxssLuJzOMwWcjBLjtPUGCWklEpEuzTEEMp3y2mtpxPPlD9FHePUIU2zcWtRql/yE1G8mQlKInLgMiqUi0FLE/Hd5WytxTcNKekgtv4f5jZ6C4yTBHEiMvEZM3UUpxVs9HbnyjeLbe2aFeH9BVqHRmiD6OBPjECCNWZWoFq4L+KcVr75yVAEYLdLPOltMcQgt6vwIIQmCtHSKaLJCk3ZIUW7Iot2RRb2Ci3sFBAoI7RRTtViKJWlYil31Yil9ReIpHeKFNV6oU3L4xI5engJXb32Er157BZO73fFrHzamsowHz9qB8/ue4i/ZTiJnrssRO7d+4ncujxFRV0oVTulit9NeArJsrwFdHbgMmcQlK4n1zFZq0HTbclNLpEpJ6DCXChvlIj2GJ0WiEydpDQZQOALNkXJrLYsHGBw1htsm0w17T3BBO+yxZ2U58qZU4SDTrSeoE244slOlAi1JB6j8BkX8snxPduOJbQalCMWTec4yokhIpKoNtkqBkRDJWSVUmM9CzKEQRERQLMtBLSpJ9JDJFGbUD1pOH9AVq4WAgCzL1cH/ABXU19wnWDLQDIEYSshHcRCjz7f1BGpfgkI1K83M3Op5h+cfl4RDaUEZFtzQLYQkRYLAU27CcBSasEKLVghQas+4oo2qL7hGTEmO/OJ7NApfUXiKa71QkcvTwErt57CD1tOA+f3AzUqPmRJ42kLcyhJRokf3HxS+nJlj4r6DuA+KK5dwB5UmHFcL9IZebZblMl+kJyloyjpwFdm2KzN4QdelNs0rIymgohMi0QmTaIPNk62aDDbBkZGtUxlq7MzTNM3IGe+VHcNaMpylPgYPmB5oiJbRMnaKiLQqo2iqjaKqe0VCsqE52DE6rAmXYEXbJD5uxIOp2D5tohB22WAlcvPYSrvBIu8MU1XihTO2oUu8rEUStKxFEtqsRRTtViKCdqsRQTaViHZWy4yzUeoohtt2G/Wf2MU1XqgaFl+aYldvPYQf2pEX7KRO70s+4rbUKIV2rQJST1GW4/i35P3CNYgDKINsaSExiqYqiqKgmEwiNv6gnUrwSEaj8x8zc6nmH536eeMaHspLvRz6c+nPAtgW0SjRqgRxMU27BBeTMr6sPAfBM7V4j4Nq05iPg2rTnqHwjPf9QJhKSgS14il9VeIpHerCUmeUvwcPQRaRTXfHgJHL08BI5e+wlcvfYSOXnsJXL32Ejl77CVy99hKu99hIu99hIu9MU1Xhimd4oU/qKFPvqFLvKFJPaKaBTRsFNuyQkRZISp2EIFwJgzPYExhpKG6dcS0mJxFdyEUsHDxGTvrcUojTCGdaiQk1HqIMIMzqr4yvbO5NolTHSCOPiWvcpW2ta0FpNOsGy0fVFEy4riiEXk60zeAJxKvHYP4t+T9wjXmLNIQNsUzEhiQxKYlEogNvgoFqPwQEaleY+ZudTzD879PPHflPJe6p6F5laUqItgRkZU4qOC9sdQyd03EnNxknAwrKkJVCBwjA1dA+JKvTho29u7Nx91xSUb1KT1hDqkrNt0yj0HtCnFE+hBapYmHlqJ/JyJWg88SIonqIZMRwW4fXVHmJ8yecNBtbDPTmYdU5OZlvY73OZEooGWgG2vJ9KNKOlOwNqSpJGnVnf37zLfRxjzL4i/KYyU1IyZazPaZDJ1qcZSpWsfDInNUyiVHoPcOrptLVsIMN02kl2afHcKSlWsh/E4lSI+0I4Awe4Pp8FAtR+CAjUrzHzNzUnzD839PNlHAt0cDKB6gmZnRpNvoPZmeUa8oJrUgtKhk2lTzhFoUrR9hlCSTkzpEnWG2jSvJUnr3yj3eUrpIigoTK1jJ2yU4a9JkRcY+kw6h2sTiCI97DSHUmTuTGo4qNWnO5F05C4vWP/XMj1cyypBnKvZDQHYrUTJeK/ALyim44giLQRSBs3G3SQs4zFnMzyg4Fob//AJBppLaYFnT/ADjvkLOvJ3CaUiYpCifaMk/l2wwX4nKT7c7mTpcVNMovAw81TyVwpjOJlrzQceefROe8iZBrKHTNDij3qptHgG8qmWhBoMjMERNoUcdETPEfxbW14GEbmOdR7mpr3p6lAp4H4JCFrgfy46TFRV0Yq/TUKxWFYCujYoV0d7AV2+3AV29ortWhWatCs1bIVWrZCo3bITotEJ0WiEU7SES253eKnzEPzi8nP3GWnFEak6S4LWWnO4pLmUMEk4ymceanzJaybQajDCDSRmrjK1hTU2WxMtBaQ4hSnGVF0HpzPNm6iUlQFLKYEVYiLsIfDqOEzqjzutqNaXEcYvcIUoy3yJTzOckvymMk/l2whuRTio8Y9xlCZmHC7A2qZCFbSBNSG8qPH0hlMqcjLtUYpKN+Y+so8CILWpOSNQTGJaR/EnKhtmWqAb4A9z0n4LCdSvKgI1K8x8BoECEpbBKnYQkRZIU0WSFJuwQotWCFFqyKDVkUG9nuHGkkWiOsUk1IRPUKPfXiKR3qxTXeqEjl6eAldvfYQetlgIP2kj5/cHz9iBF+wnETPXZYid259xUXcniKqrlYq/TcwFZNhfpFdHewFdrtwHxDNsVmbZCq3bITotliIltL+rluIltIGaDhEyE6LRCoi0Qqt2iFZq0QrN2hWbtCs1aFZq0KzVoVmrQrNWxWatkHFOFPKtK0q6Okhk5klpBRLQQinaW5aQpszT1OjNAokcNJZiQZZOSOmUfxTlU+ARr3Z7pOv9KgnUrypCNSvMfM3eL9x+cXl5pBOwhIiyQpt2E4CgzYIUGbBCg1Z9xQRtViKJXi8RSO9WKbl8oSPX3sJX70vSIP204D8R9P3EX7KBM/dpxE7t1+4TuXJ4kKirlQqndLFX6a8BWKwvAV02V+kV2+3AV2tvsPiGbXsK7NshWatkKzN4QqtWyBut2yFVu2QqtWyFVu2QrNWyFVq2QqtWyFVu2QqtWyFZq2K7VoV2torN/+kKydisBVTZVgKvcVgJzu1CdV2Yncu/cRdse4i7sSPm90Qc2pErlv2Eq7z2Ei7wxIdtQp95WIpJ2niKSO0UkbBSbsik3ZFNFkgSE7CEidhCVOwhAhDcQIQEC2CVOwhIiyQpN2CFFqwQoNWRQT0GrEUj6HVCV7ocL7kIv7EGKjha2j+wrt9OjxESPUeb+K8q35QnXuz3Ra/UE9PlII63juy4R7ifcHyqfKf9P0bBAthCVOwhKmyQlTsISpskJU2SEqbJCVNkhKnYQlTsIQLZzouamRGDYb6Ch4AidT3i9x/EjmcQfdBawW5ju+n1AtR+UgnrePM3uJ9wfKo8D/AOrP4kXzi8uZO4M+ALjF+odX9IT1/NzN3iBXKo8D4Mv+of4jy36QYQecz4EqsejpEhy8bqhNbfQMtY+f3R8/uCL/AHBF+ygRfsJxEz9hOInduvcTu3XuKi7o8RVVcqFU7pQrfTWKxWF4CsmyvAV0bFYCu324Cu1aFdm2HHW1IOCyBrRUQcxCdFshMm0QiW3gC5oWYwXPy/oRcD/EOX/SQUQLNEGeaO76fUOp+gg31/NzN0ipqCklUb0Cm3YTgKLVghQasEDZasii1/6YoN9uIop2qxFHvrxFI7xYprvVCRy+PASPX3sJXrwsBB+0nAfP7g/EbECL9hGInfuixE7tz+4VF3J4kKp3SxV+m5gKybK8BXb7cBXatCuzbIVWrZCdu2nETJtENG0gXM9I6eaaBEtpCZNohURaIVW7Qqt7RVQKye3AVSsqwFTuKwFQ7tQqKulCdV0YnXde4mcu/cTOXfuJnbssRM7YLETPWCxEz1gsRM9YLETPXZYiZ279xO7de4ncuvcVF3Riqd0sVe4vAVkbFYCu1tFVu0QmTaLdfxD+Y/SQPOe4iI7kuN6h+X+j/Yb1L8/M3eTUFcdr77heoSkZFulrJts1n0BGWOTJna3hnr4HrpzH0biVOwhTbsJwFJq7TgKDNghQZsEPh2bIoN9uIJlEetiKJW1+oUvqLxFM71YprvlCRy+PASO3vsJXr0vSIP204CD9pGA/EbUD5/0/cfP+n7j5+xGI+fZRiPn2UYj51lGIi7MW9TiIv2E4iL9hOIi9ZTiIvWU4j59lGI+fsQPn9wfO7g+dtSIPWk4CDtssBK7eewkcvPYSKvDEh3ihT768RSTtViKKO3EUm7IpN2RTbskJEWSEqdhCHNIkRRPdSp2EKTdghQb6IkKR9DihB8ulJiqsuM2f20gnEq1GP4j/ADJ+BZyCi3MRERzlx8QfE/QG+v5uZu8moK4zW4XxQWosyltp4yyIfEMF+akfGZPaPAFAyIyGXH8tBbVgmzVA3OjUggZkRRMwnKZnCImzktbsn2/iKcdOrMfRuF5ehK4EmJdJ55kRhOmPjmMJyltaySRK06j6DHW5j+YXh/TF6UmQQRJSki4NSEq1kMv/AJlXgWchrBluoiIiPzMQrk/0BH5nm5m5yagetncL1Z8tRqc+xhjJErROa8AtBO5Q22XFQWkRGV/kf3MznznqfVTpUC2D4hjfb/VrC3kITNEMvE6kzhAyOBkIumqJHoBqJJRPUGspqLhIZEfFPaHGkO71WIydajJSF8ZBwMGNOZ9Z6GkcZXsQTkzJJIpY7R0jKSWbC5NYayFBoI1K1hBKYdS2ZxQvi+Iy04ZOrtMiBF+KJPQ23oHWzxLOtxtuE6oBKkqKKTiWbKDUbjbSVyxiZmMmUo0r3xqKbenmmKMA4skINRhBuT6dKT1Hn65cy7BAtyZBJQzGUQWkghMAro5qrUEl25unP/EP5pfgW4SY1gy3cQXKeoLUUmvqhPX83M3OIrwB/k7hWeUg6ihF1vRtTtDDdNGnjHpMPZOTxoiegtYyhhpFKUta9OkIabQe9SRDI9JPK6TcBBDFTKlp6pKOIYaNT0DPeNmGeWyo+8QydSp3kmepQymBqYSZ72bfDUOsGd9lGUK6NBDKW2lEg1rhAME2RHTUoy7c2T79Tjx9JwLwEVbAYIOvQUTaNLh+weSZIZTMalVSMZdyP6yDDUiYnxlaVA+OWZWoQKGaJh7JycdbXs1hxVJxSmC1Fvy6AhRqQhUNZDLJ6yCSWk0CBJgRaiCugQ1A4GUDINzMuk11T4ufrFzIteaIKO5PXmTrMJ4xhZRMgQ6RHgD3RA9QTmPNMD158v8A5pf23KVDWDQD3VPfQmPWYNJU/wBH+wTRb7SesUStKxFLvqxFI7xQpqvFCmu9UJHL0xK7e+wlevPYQftlgIP2k4D8RtQPn9wfP2JEX7CcRO/dFiJ3rr3FR259xUcuTCnFSn8pQNzkt4rQFOnA5ULI/AVi6UrwFdHewBvIPbgK7VoVmrZCq1bITtHrWkVG7acRMm0WIyyEiD2LLNKplxRkk1IXp0dB5pSIzMk6T1iBR1BtskTdqohpqSYzOJqOJiRBlA0lAElKUwIoEH1qTAk8ZWgg02TaCSQUhJyxSRwzOnK2s+wZKmVhvwGnMQL5WVOqWlRn1IdobQtS6rmvqp2DKGlElMzqlGpZeAQ3J11n4mOsW6ypw22FqLXqBElnJNOtSf8AIaJRMILUcoNn8UhJuLPeGcQkpShE/uDKOfKyOnMXUOITpIj7M3WLdmXYCzHwUNOfpzw05k9IR1s0BAQ5gRZoZukHny/+ac3SVAjIwpsGjcQH5n6jB8n+j/YT1/Hma+IrwB6mPHcK6M8qdhCVFksBTbsJwFJqwQyllMpJQ3pM+gUGrIoNWfcUG+3EUU7VYij314ikd65iKa75QkcvjwEr19+0E05OaqhTeA/EWkYA/iPp+4jlGxv3D5vUHIpTCXoMNqdpog2R70ukTvXH7gvKqcJ2zIfHs9o/+oMd4fHZP3sAvKMlWaDNSt6cdQTlbKrWArNRLT7CuzbFdm2QPKWyUkoxj0iq1eJBvMFrdSDWw4mU1pMj7QhlhJkc8xlqmVERLaQMj+LScNBNwjuTTMlRbSGSRPJ0dmgQB6yEN1EtoiW0hMm0QNSLRCo3bIVW7RCq3aFZq0Kze0Vk9uAqlZVgKncXgKirtQnXdGJ3Lr3Ezl2WIi9ZTiPnbED53cEHtqRK7bLASu3hYAicvPYSuXvsJF3p4Cmq9UKZ3ihT+ooUvqLxFH6i8RSK2vEUitrxFLvrxFLvrxFH6jmIpfUXiKR3ixTVeqFNy+MSO33sJXr0sBB+0nAfiO4Jn7CcRUdufcVtraxXa7S8SBONq1KLPl380747sjgEuDQYNsG0JDIaR1/1CG8/SYRrV9uZr4ivAHqZ8S3CtZcxLjZjzOFM2stqTGSnHJ2vDdRPMfGSDzONzLaPRBJxMSpskF5Mws4ywPs0D4NF44PhPqqwIfCfV/aQ+EO+/aQPJXOh1PpBMNwKKSiKLNgUGbPuKDWz3MZM02pkjNPSYoNWfcGy0UN77ig1Z9xQas+4oNWRQasCgzYIUWrBCi1YIUm7BCm3YIU27CcBKiyQlTZIQLZujiNIjn0jTn059IKPNjbbPWkhQSXFMyHzk94vcZYccpd8eBIzBOGCdITJMb0df9R/4BcnH6Z/5CdavtzNfFV4DqNeJbg+Mncke+MEfAlmLjZj1Z8l3hutWVaPA85D8dVXDSRdG0IcS42Si+/YFONpliotOoOOJbTFQQ4l2RRbd2RkeoyPMtaG0xUcCBKJSSUWo9w8o5ZU8ZegglJJSSS1FmVrT/Wcs/mnvNwMM0M2kFyn6lD8r/tf7Cet9uZq4qvAflteJbjrFuDBCG7PjECLWE9PiDMJ6dy78vKG3OhRSqzmokpNR9BBlSsoI1rMyR0EWgMJSpGUaN4pRyhltTjDqz1JRBIyad9dVfFLQkMaH8oLv7mOkOJNxlaS1mHGGWUogR1D1QMMTrmqOKmSqEIwIH8zKzI9SE6vEaCKBbhKdJqPWefpLmR7NwoatIiUMxZkntB6ueZX/MvebgIbonET6+uf+BPvdXUMJdbLWrYKzVshUbtkJ0WyxEybRCKbRY8Meo/AflNeJbjrfbhYZzCOt47kyJSTIyiRgi0ECHYYLJUQhMo0l1egaIBKEEmQklLsCSJJERFAiCUJQvR1lRPclxlAoxDzbldt1KZoFCGwMtyEcTipRxMLaVUqIVA4QOOkjGnpzQiZeIPWW46yd0fCdObSZ5j1bjpzSnE9ILVzzKf5h7znw0pVdXWENH6FBsknHypMSp2EJEWSFNuyQot2CFFqwQoNWBQasig3sFBHbiKCNqsRRK0rEUvqLxFI71eIpqvlCm5fKEjl6eAkdvfYSvXv7QZPQ45YD5lJGkoRIfP7g+fsQJn7KBF6wnETPXZYid279xO5de4qLuVCod0sVfpLFX6a8BWTZXgK7fe9Jiu1tPAxXZtCuzbIVmbxIqtXicROi2nERTaIEQgIGCLgj4ydyRa93Atz1y4E+BPMRbrRtEydpCKbRCZFohOi0QqN2iFVu2Qqt2hWatCs1aFdq0K7VoV2rQrtWhXatCu1aFdq0KzVoVmrZCq3aIVG7ZCdFosREtpcDlP8w95z4ZXH+5AuMXgoNcZHY1uC4c9Q/IR453CUZb04CJwERERPYInsERERERMIiI0CCdhCRFlOApt2E4CkyfUSKDNgh8OzY9x8O1sPEUG9qsRQTbX6hR+o5iKR3zmIpLv1im5fqEjt/wCxCV+//aJX70vSIZReJwEuUR4zeA/EfT9x+J+l7j8Rsb9xF+y3iIv2EYiZ+7TiJ3rn9wnduP3EKjtx+4hO5cniQnXdHiQqLuTxFRdyeJCqu5UKi7lQqLulCc5i+WoVF3KhUXcq9hUXcqxE67k8ROu6PETuXXuJ3br3Ezt37iL12nEResJxEXtiBF/ue4+f3B87akQdtlgJXLz2Erl57CRd6eAkO8UKf1Fin31YiknarEUUduIotbBRbsii1YIUm7BCm3YISIskJEWSEqdhCVOwhAthCBcDoEC2EJU7CFNFksBSbsEKLVghQasiijtxFEuhS8RTXemIPXhYCL9lJiqZcZswlxCtRjKOXd8x7qHAK5T9RDreoNf/AALmn/Dp8eYQEBAKZbVrIJSlOouHMz6BHsE3YIkIiJcHoEU7SBGW3+lFwhpSrWQe5ZzzHwyuU/UQ6fuoN9HkLmn/AA5f+9PCkpRrMoaNvBHuIcEe4gICBCUhAhKQlISkJRKQlIG0jYEpIudHz13lF+Y+CPPAHxy8UjrfqMI6vkzlzH/hv/dvBrjMWwJ1A9BgjMz5tEoRBGRlwRqTt/rq+UX4iAhnjuoZzcOJRQfVEVmegob49YQuEN6fFFX6axV+msE8VheArosrwFdvYrAV2+3AV2rXsK7NoVmrQrM2yFZq2QqtWyFRu2nETotpxEybRYiKbRD75/8Ahz8f98GZAhAEXNS45jqgtRA9YVogeYuMeaYsxnARMGlKtZZkzGqPQCialkeoJMi0f1lXHV47iAhmjuz6PBI6/wCr/Qa1p/t/74GBbBKnYJE2SEiLJCmiyQpN2CFFqwQoNWCFBqwKDVkUGtgppomYoI72IoJtLxFH6i8RSO9cxFNV8sU13yhI7fHgJHr72Er16XpEMovE4CD9pOA/EbUD8R9P3EX9jfuIv2EYiZ+7LETu3P7hO7c+4qOXJ4iqq5WKv0lit9NzAVisOekV0bFekV2+9gK7Vr2MfEM2/YV2bYrs3hCszeJFVq8TiKjdtOImRbTiJk2ixG9PpIaM0ogIAiOJiAgIBRRIQPQIGDBFAQ1iAIobqG4iW0hFNohMm0WInRaITotkKrdshVbtkKzVoVmtorN9uAqp7cBVKyrAVe4vAVPpqFRV0oTrujE67o8RO5de4mduvcTO3ZYiZ2wWIi9YTiIvWU4iL1lI+dsSIvbEiL/cHz+4PnbED5+xA+fsQIvbEiL9lImfsJxEz1hOIneuyxFR269xUXcmKqrpQrfTXgKyNisBXb2iq3aIRSfSWdXGV47oyzxznm6qfKkdf9YbPfeCD/zzT/h1ePPYEIJ2EJU2SwFNFhOApNXacAbLV2nAUGbshQZsEKDNghQZsCgzZ9xQa2e5ig3sPExRb73qMUEd7EUU7VYiinarEUitLxFLvrxFIra8RSK2vEUitLxFIra8RRK0vEUU2lYiijvYii33sRRb7cRQb2e4oNWfcUGrIotWRRasEKLVghSbsEKbdghIiyQlTsIQLYIcGfOZU7CFJuyKKeg1F9xBxPWm8QrWfjwcQebql5CB8f8AWEccvKf+eaFyLniYLUXAOZSy3rPTsIIyxpRkRkpMdRnmfyumuUkxhrBGSiIy1GXM1KQgorURZnn0taITKskGXqyJpYaYc3dcQ0RGrpClElJq6IBC0rSSk6j4FxaW0THqCTJREZdJBRwSZwiG3pzlUmVWz+iHrPcx3ENz1S/thXG/UQRx0+CuaFyTviYTxU+G76D8Axk3zVk6WkvcLNhZUSTHy9AyVZqZTHWWjAE2S8rfjqIEREREXAvLNtlay1kEHMlJ7S3ZkFonSaT6Qxk7KyUS0b9BwPSHXCabNWAYalKZXHVrPg3cpkOCUzGWvs4E4FrOGeJRhEo7AZEZQMokG/ku0uqrif8AgNlSeNvqq0p3GVOqQgiRxlBqemmfjQ05lLQjjKIgpxCUkZq0HqBkRkZGWgISSEkktRZspLeEvpQf9EPWfBwz9RP9sGe+/UkN8oXgr/PNC5N3xMJ4qfDgMqdpMGfSeggk0ZPk6T7MTDTWUJbSRLJPSejSG0ufFulV0wKJw17ik5/zZ+wTNKUxxPbucrI/hlnHo1BHER5SClpRpUcNOfKHFNNzpIj06QwtayNRlojvc2UMG8SCjoI9IyUpVvISZmgoQ8QopstKBmUEb6AynfOZOjaqOGfK1PTMoaVAzGWxmyYiPTOMpRUSSZ5TjEhp0R15oDRtzPO02jV06iDLUiIdJ6x8SpGUrQ7AkdALLGjStUDKHRtDb6zqEtG+JMxEWwIys9FVEpGWgw28h2MsdAdWRESZpVK4p9oarQg4RR2lmyqU2HSmKMNoa5JHlIPOU0RLWeggywTe+1rMtJ5srL5RLLWhRGMp4jbmxRe+ZLyVOqbIjiWYt9lazsJgQfrSFTOGnSGydLjrJX2DjSVrQtWpJHEgko5O4o9RHBH3GUF+Hc8A1ySPKWbKN8km+lR+3Mi5j0cPv5E6fywpCjUcx9YtQbJU8En0GIP204D8RaRgPxHcEco2IEcosoEz9hGImfu04id26LEVHbr3FRy69xUXcniKq7lWIqquVCqdysVvpLFcrteArJsrwFdGxWArt97AE6mV3tiEvNylp6NgrtWvYE83bFZq2QrNWyFVq8SKjd4nEEpB6lpxD7aXm5Ji1hDBEqZS51A4F0htxB5S8uYoQIE42ZwJacc0AWSsFqaLdKSSkmk9RhSkNNxPUkg20bh1XS8qdmd5o3ZU9TTEMEomWyUWkizOpytcUpNCU/5CWspRLBxEE9UukNNZQUyjcIjVrKEQ5/N5N5VZ3WzWbakqgpB6Ih1taX8nUtcxmv7EMrR87Jld6GdzJkuLipajKyEZM0hcyShmynSrJi+pmyxFR9hHZpDrJLyxCSLQSC9gjTlTythEkOoU/lEmptAY3zjyy4p6C+wyzkkq6UrLNoMjIx8Ky205oicp6Qyy3I2qQoykH9DuTmeqJ458q0tkjpWYyjiob2qL2zdMcxbzKVx1LLQedxE6DTGEQ838okILUotAynkjK0ZECKBQzEmBmesz4WG4gC5ieo/Dh/y0/wBr/YVxz8yAzyv2V/nmhFoe8TCOTR4Zk9IgQgWwhKmyQpt2E4D/AOnsdo+BybYrEfA5LYPEFkeS3fuPhMmuiHwuT3RD4drYeI+Hb72IoItL9QoFbXiKP1HMRSO9cxFNV8sU3L9XsJHL88CBGb7mlw5U8WJawbkpwPKSj5Q2+pxUpO6eiKdYhlF4n0iGUW0YD8RaRgPxG1v3H4n6XuPxOxr3Ecost+4dRlC5FElEyDiWkIfcWcCQklWT0GJn7pPqE710XqGUKWa8niiBz6NIcrLNo6XFVHWJ3Lk8SE7lyeJCqu5V7Cqq5UKqrlXsHTUtJQbUSiOJGCdX0sqiKp3KxVO5WEqljBlek4hS5iMjaXAEuBERMKgHDqJlNpesVFXKhUVdKE6rkxOu5PEGpRlA2NHiQTFOhLEC8QbyyOFHT4gjcSqdbcVHo16vAETs5rNvfeOohM7dliJnrCcRM9YTiDqmWlDZj52xA+f3B8/uD521Ig9bTgIPXhYCV289hK5eewlcvPYSLvDEirxQkO9WKf1F4il9ReIpFaViKRWlYiinarEUUd7EUUduIot9uIot7PcUW9nuKDewUW9got7BQasii3sFFvZ7ii2KLfbiKKO3EUUduIop2qxFIrSsRS768RS+ooU1XqhI5engJXrz2Hz7SRF/YkxO50tA3UwOMS0dPDlyaf7R/wCQrjn4oDPLH4K/zzRP5wb5NHhmRrVuTWhPGWkvvuFuNohMoijq4J+or5aEnp1q7AhJJSSS1EMqSfxZknrQGVIJtDC060LIuDUSjLeqIj8Iik8pxCnFJ3mqH9HLn6uKrw4cuTT/AGT/AMhfHV4oDPK/pV/nmidbwb5NPhmRrPcHqHw7aVrW6rR0doyedDim0lvTKYpugZS9TfbPYg8QTruTmlSzNRLTGHaFNxyZ15elaiiXYG40m/KW6XHe+IMFnW1+Iqx1FCAyhBuNkkrZA/8ApFXFPw4f8pP9kK5Q/MgMcr+lX+eaJ4zwb5NHhmT051FpBA0vJylZ05j6lkgy0aTUtZxWYeycnVtqjxfcZQxWU0cSgk9IdbqNmiMIhtBITCJmOncSxLtB9AMFnXuY/wDRyuKfhwJ7mIPkkeQws0ks49wMH80vBWaHMk8Z4NcmnwzJ6c5kC3fTuCKAPMRZ1bot2fAx4SILmxcKYLhFcRXhw8hSI8qvYSEX7QTaTdge1QoN9uIoI72IoI2qxFBNpWIo99eIo/UcxFI71zEUlXyxScvlim5fKEjl8eAkdvvYSO33sJXr32Er94WAlftlgIP204CD9tGA+faRgCqzO8XtDdaQoSfcfP2N+4I3tiBM/YTiJn7tOImeui9Qmdui9Qnduf3Cd25/cQncuTxITruVYkKirlYqKuVir9JYq/TcwFUrDnpFZNlfpFZGxXpMV2u96TFdraeArs2vYx8QxeCuxeEDeZvCFdm8SK7N4kVWrxOIqNXicRUbtpxEzdtOImRbTiIptEIlaLcGICAgNIgICGaAgICAgIGNIgICAgIbj7iJbREtpCKbRCKbRYidFtOIqN2yxE7dshUbtkKrVshVatkKrdohWatCs3aFZvaKrfbgKyO3AVkd7AVU7FYCqmyrAVSsLwFUrC8BV+mvAVfprwFT6a8BU+msVPpqFTuKFT6ahU+moVPpqFT6ahU+moVO4oVO4oVO4rAVe4rAVSsqwFTsPAVU9oqp7RVRtFVvaKrdoTotEIltC+IvwPhy5MvBYVrL9ALli8y+aJ5R37Brk05kdPjzVYIi2CCdhCRFksBIiyWApt2E4Ck1dpwFJq7TgKLN2nAfDs3ZD4dm7IfDs3ZD4di7IUGbA+HZsD4dmz7ig1sPEx8O1sPExQa2HiYoNbDxMUG+3ExRb7cTFFvtxMUEduIot9uIoN9uIoo7cRRb7cRRb2HiKDew8RQasig1ZFBmwKDVkUGrIJpqwQotWCFFqwQpNWCFJuwkU27CcBTbsJwFNuwnASIslgJU2SEqdhCUthCBbBo/oEC2CVNkhTbshbZElUI6txDg+r9zHQXgQ/NT5j5onlXPsGeTLMngeyPCK4CBiJRhEo7Mz2Uoa0QNSthdAacqtpXCEejhNX9bc4ivA+H6v3MdBeBBXKF5z/xmLmSeVX4EGeTLMnVuI6Qrin4BOUIZbIlRNR9AbylClSqI0K6CPNk8yspW50aS3cSjAR0w3Cujx3MMykzJMiUae0g0yRuLbeNSlFpLTrINstN8RBEH3DbRveMo4EGmibTDWfSec1JSUxno2gzIkx6IRDTqXUTJ1bpx9LZkRpWcdhBL5K/Kd9IcQlxBoPUYRFhwmjOKFcQ/9biomrT0xh/VnOIrwMEC3MAeaO5LSn7qHVLyp/yD5QvOf+MxcyTyy/AgzyZffMnVnMz6UaDCeLAa0hxg50OIliRaSPpDqpkG0tG/2J6A3lTaWWjcXvoDJX2kIUSldc+gJUlZRScS3Jnp1BScrnMyW3Do0BM+ieWPYDm6AUYacx9AW603x1kQ+Jya+SErQrirI/DMrIzdeWbijNPV0hpKCyo6XFJO+8c2Vwg2ZcpHeBE8pTwj0wD2nKsnLsM8+Wfyy/sHkU8hNEdQb5NHkIZPRkOlqmzwHZmJxz4lSOqSQpbnxaUzb2TVmyzkZulKiMPO02zXAJLLVINZuknRGWAZyhbzpdCSTpLtEzanDKO+TwfT/S3eTX5TzxEeDJe9h2qCnI6tO8TEG5v98UN+K7Vr2Fdm17D4hm2K7NsV2bZCuzeEK7N4QrM3iRVavEiq1eJxFRu8TiKjd4nETt204iZFtOImRaTiIptEIptFiNG0syeWV4Bnk/ueZOrNAxKJQRAghLyHHikOos9CuiATkjO8imJkUBkPJK857pQNk1KjWcLsIw2RpiRrUrx3CtaQpCF8ZBH4gm2y1ITgIF0EEhw8peilCZEbT1mG05QgoElmHZEsyVOKdW5QUroTphAghSzPS0afuQe3uU5Os9WlOdxBONqQfSMpadNlRuLLeFol/wBhviN9qBkX8uXieZaEuJNKtQ+Dyax7mE5OyhUyUwPxzKaM1mtLhpMy0hCEoyuBXWbKdKEt9K1AyIygZRIZUTqmyQguMenwGTtk044jwh4Bv+Zyk/Dcn0ZocEf9Fd5NflMFuIiIjwBFvf1qB8Qv7ZBXGLz5izwECEpbCEqdhCVNkhImyQposkKbdghSbsJwFJqwnAUWrBCgzYIUGbBCgzYIUGrBAmm6plL0Btls06U9IoNWRQasig1sPEUGth4j4dvvYigjavEJXkh/nH9zMgSWeh//APIJEXyvWFMpUgyrK9QyZlRN79RpOboUJUl/xCvUQ3v/ADR+ohIZ6n1eximu/V7Cm5fq9hI5fngQkdvjwISO337SEj19+0SvXpekSv3qfSDJ7R8xOAhlF4j0iGUW0YBXxXQpvARy+7axE+XXTWImy67axCVZWcYttl9x+I2N4mPxFlvEw4h1xBpUhuHiYR8UkoHIrtjpE2UXaMRM/dpxD6nKDpGhPF2hCniS3BsuKXSG0utplJstceMJnrovUJnbovUJnbovUIu3ReoTO3JeoTvXP7gS1qymNIyOSEDBre6GffQEJdScxomXtiJnbr9wmdui9Qmeuv3AiWS1rp8bvCLt2WIi9YTiIvWE4iL1hOIi9ZTiPnWUCL1lGI+dsQPnbED52xA+d3B8/ue4+dtQPnbUD521Ag9tRgDJ60nAQdtJwEHbZYCV28LAQdvPYSuXnsJXLz2Erl57CVy89hK5e+wkXemJF3hiRV4oSKvVCRV4oSKvFCRV4oSKvFCmd4oSHbUJDvFCQ7xQkO2YkO2oSHbMSHbMSHbMSHbMSKtmJDtmJVWzEqrYlXbEF2xBdsQctD5m0g5Upr0FxT3ceAbKDZFsUYPk0+QH/wDIuaFyx+UNcU/Me7ptXacB8Pk9yjAfC5NcpHwuTXKR8Jk10Q+Fya5SPh8nuUYBCEIKCUw4GUo7gh8bvS3pG4Z6CDD1UlRTBSTgZcAtppzjpiNREXMlvNI0GrTsLSJ3lcVuXtV/4CGnZpluGfYFPMp1uF/kV1HxGVn46A3Ul38I9n9Nd5JzynwMd0jV+tQVyafKD/8AmXNPzv0hrUrzHwBZaR6aS5doQ4hxMyTiQ+/MsiyaX5iy33QWwFURlTvyzMlw09HOFuNo4yiIVXFcm191aApGiL72jZxSCHWy0MtmrwKHuIZUrpQj3MfDIPjqWvxMJQhHFSRf093knPKfBx3CNcPqGD4hf2wfT5y5p+d+kN6l+Y9xpjuFZQSHKTSYqjp2BslIyoyOXfIicA+7SyolndhD7zcjjpxQstWwKN05MpMzLf6C7OZx5mpaEJmUcCBZWS9DTS1ewMnTKLrpILYn/wAhKmE8i2az2/8A+iXKF8ZZILYnWE5OynTLE9p6f6m7yTnlPdw4BHG+5/4CuIX9kK4x/wBwv8c0/OLyhvr+c+AJt5p1xTaUnPt6Ay2aTNSlRWfSHsnJ1bao6vcPMk8lJGcIHEOtk4gkxMoHEoBJSlCJn482Pd9PAQI9ZEYcJ04Ehwkl4AsnbjFUVntVnj/U3eSc8p8OU5aj66gZLMtOiCChAQcSrQcfmdPgPxFlvExF+ygRyiwjETZRdoxE790nETvXRYid66LETvXJeoTvXP7hUeuP3Cd64/cKjtx+4VHbj3FR249xUcuDxFVdwrEVF3KsSFRdyoVF3ChUVVI6SuLqCHFb/wCUo98KqrpYN04cksVDu14Cr9JzAVfpuYCr9NzAVfprwFYrDmArFYc9IrFYc9IrFYX6RWTsX6RXRsX6RXRsV6RXb73pMV2u9gK7W08DFdraeBiu1a9jHxDNr2MV2LfsYrs2xXYtj4hi8IFlDF4Q+IYvCFdi8IV2bxIrs3iRWZvE4iq1eJxFVq8TiKzV4nEVWrxOIqtXicRUavE4io3eJxFRu8TiKjd4nETt204glN204iZFtOInRbTiJ0W04idFtOInRbTiJkW04iZFtOImRbTiJ0W04idFtOInRbTiJ0W04idFtOInRbTiJ0W04idu2nEVEW04idu2nEVG7acRUbtpxFRu2kVWrxIqtXhCs1bIVmbwhWatkKrNshVatkKrVshVatkKrdoVWrYrNWhWatCs1aFVq0KzVoVmrQrN7fYVW9vsKre32FVH/pCqjb7Cqj/0hVR24CqjtwFVHbgKqO3AVU9uAqJ7cBUT2iontFRPaKie0VE9oqJ7cBUT2iontFRPaKie0VE9oqJ7RUT2iokOLTSX5T4f/wDuv/A6C/tEFccv7n+uafnF5Q31/OeZWrmpzCOktzAthCBbCEqdhCVNksBKmyWAlTZLASoslgJEWSwEiLBYCRFhOApt2E4Cm3YTgKbdhOApt2E4Cm3YTgKbdhOApt2E4Cm3YTgKbdhOApt2E4CmiwnAU27CcBTbsJwFNuwnAU0WCwFNFhOApt2E4CmiwnASIslgJEWSwEiLJYCVNkhKmyQlTZISp2EIFsIQLYIFsEC2CBbBAs0CEP6E7yS/KfDn1/7hjqp/shXG/wC4XNPzk+UN9fzZl6txpzzEQLcFuNII9MMy1yJNR9AScySPMfHT/wBJPck55T4fWavN/odVH9kL1l5080/OT5QjW55sy9WdRaB0RIIGkdeARo0DTu4AiMLQS0ymFp3hEC1Zuv8Ab/pJ/kXPLw5cYy+p/oFxE/2jC/8AaeaHyqPKYRrc82ZfR47iBZugSgi4br/bcrS50LgGp5d8qJ5yzGXBn/XH+Rc8OHLSqPfIRIm0RuzClErUfSjmh8sjymEa3fNmV0c10bQXHPw3JlEQhujB/wDQuUcg54cPIUT8xEEoKVJx6qg4gtB9O9FErS8RRK2vEUStrxFH6jmIo/UcxFE7xeIo/UXiKP1XMRR+q5iKJ3rmIonerxFH6rmIoneuYikd65iKR3rmIpHfOYikq+cxFI71zEUjvnMQbZ1UlUXqCGzi58xfGFI75zEG2ej5rmIpKvnBSO+cFI71wU1XqxTVerFNd8sU1XyxTVfLFNd8sU13y/YU136xTcv1+wprv1imu/X7Cm5fK9hTXDllewkcvjwIU3L9WBCR2+PAhI7fHgQNlStbvsQJDkT+ceBCR2+PAhI5fngQkdvz9JCR2/P0kJXr8/SQkevz9JCR6/8A2kJHr/8AaQlev/2kJHr/APaQkev/ANpCR6+/aQkevv2kJHr79okevv2iR69/aJXr0vSJXr0vSJXr0vSJXr0vSJXrwvSJXrwvSJXbwvSJXrwvSJXr0vSJXbwvSJXrwvSIPXhYCD14XpErt4XpEr14WAlevC9IlevC9IlevC9IlevC9IlevC9IlevC9IlevC9IlevC9IlevC9Ig9el6RK9eF6RK9el6RK7e/tErt7+0Su3v7RK7e/tErt7+0Su3vsJXb32Ert77CV299hK7e+wldvfYSu3nsJXL32Erl77CVy89hK5eewlcvPYSuXnsJXLz2Eq7z2Eq7z2Eq7wSrtiVVsxKq2YlVbMSqtmJVWxKq2JTtGJTtGJTtmJTtGJTtGJe8Yk7xiQtp4iQu3EZQlJML4fpV+kwnip8FBfFT4JB6+Zq5VvwMN8Z3xzHrTwMMyasxzSw6Ibk91KSlnr0cLEppYlHYD0a9AJaFRlURw2c1NRJIzM4ECMlFEjIyFRNSn0wj/TMp5BfDlpm/SC4pfqDnET5Ug+Zq5Vv7hHHd8cy+jMYjmMwvK2G9Z4Bp9p3inp2HrzPTOO5Qc8KZaAmMqY64acxAzgI5j1bpPGXwfxbMT4xQOEYaMz+TJeTsWWoww3k60nFkiWnQojCUITxUwzOuKmJtvjn07AwwbSlnOZx4D4hqoSInH2HTmhm0RIolHZuTSRpgookHGqHzWi1cZO0g4gnmyhr1oMMuVER6dR+OZDrazMkqiZZtBkRkHVuo0pbmTDTtCVEtJKLUf9FynkF8PqNf6R0J/WHOInyJB6+Znyrf3COO745l6sx6gWZyMDl1mWgZNksCOq2c0enUMqS3KXQ51IBhZutIXDWMmKK8qiX5mcgYiDedmNKcmUqHTGAqORKZky+8QrQQLQeYo5kcZYW4hBoI+scC3KXFsOOJeXEoTIMNKcUiKyIo9HZncfbaMiUenYQceZPJ1GRkZHoh2hojS02R6yTmcWa3krYI9GhS9ufJdJKcPWsws5UKVsKIbWa2iXCES1DfvZISjXKojjEIVMhKj6S3D6zQ0cNZ6C+4Q2lCEphqDmVE26tJp1FoHxaaJOQ02Qt2DJOJTNGAVlcqVzNwWXViFU1PsKmgcmgszsaThlHimGYmw0fdDziiNKEcZXsQZbU2Rka5tIhEjLaQyQ/kJ7IkC3uVrLoWmb7h/TTbta/AgvKWmXZKWotYqpeydwyIy0GMhOOTp7DPNkpQZLtMz/AKLlPIL4dHW8EhJaG/FYXyafIn/IPXzM+Vb+4RyjviWZXRmMQ05jKIcVTaUrXAglW8jxn3PYh8KcrSKhykWkiDGTtG6+SijKoJQhHFSRZiBiAW24csj0n2BNOF/xCj+xAyiQge4b1qGXlvGlbHA86TSDVh4jJW1oSo1HpUcc+Vkp4zJMPlFMZ9uwMupebJZffxzrYc+JN0kJXEtET1D4ZSVk7ElL6S6PsFGlJGoz0EDcS/xnUobsx0n4gncnJJETiIeIqtGqUnCMw9yLnlMMci35QspkLLakwhS1sttNkZHCCjhqDCY5G8jZMMn5Bry5o5WfUaLxMwn4ibfyQ7BlXEQexws2UNT5Y1sMtP2CGo5U+fVRHR4jJP5dvwEqjRlD6ukoJIOpgWR7SURZn8lJalOTmW90l4DJ2EGwhU6yM9hjQjKt+rqFKZhJkookcSDq5Glq7Bk6JGUEONlZ9xEA5/M5OfQcSGuEQaYpNO0oDJUG2yST16Q6RqKXbrMFogX9FyrkF8OlehWiyCcTImGk4q0BSjl0lDeJgDyhmPHFdm2K7NofEM2x8Qzb9h8Qza9h8Qza9h8Qza9h8Qza9h8Qza9h8Qza9jHxDNr2HxDNr2MfEM7TwMfENbTwMV2tp4Cu1tPAV2tp4Cu1tPAG83Og9OjsCXkTuHp09grt970hTyDhCbAFlKdisB8Q33vSKybK/SKybK/SKybDnpCnEKSZGhyB90Nmy0UEtqL7Cu32hp9tL2UKM9ZiumyvAVk2V+kVk2V+kV02HPSKxWHPSKxWHPSK2xC/SK303PSKxWHPSKxXbnpFb6bvpFb6TnpCXdKvluekG6ky3zLkPKCXVdqGhZoLiQIVvpO+kV/pO4Ct9J3AVvpO+kVvpOekVvpO+kVvpOYCt9J3AVvpO4BakLKC2HDLwEWf+VP0EIs/8sf/ANsTNRIyycyPyA3U6SNtzT3Qy7TKmolRLVo1kKxWHPSCeKw56QwopHygrSpXQGlpQ2lMq9BWRWTZXgK6Ni8AbyLK8ApxtSTSaVwPsCHZSgZrP9Iro2LwButmSigrTr3oQ42lCUlPoKyK7Z6yV6QtSFOIUZnBPRKesV2+3AxXa1acA2tpttKJjOHdMG6yZQPT4pFZrtwC3EPLTGNNOnVxjC8pSRb2Jq6NAbWy2UJjM+k4HpDi2XEwmMukjgegwT6y1yH26SHxDe08BWa2ngYrN7TwFZraeBis1t9hXatewrNWvYV2rXsK7Vr2MV2rXsKzVoVmrQrNWvYVmrXsKzVoV2rQrtWvYVmrQrNWhWb2is3tFVvaKqNoqI2iogVEiokVEicu0Tl2icu0T9hifsPAT90xP3TEx2TEyrBiZVgRXsIfM7oymagrTw7XFc/SE6kn3lBziF/bSD5mrlG/uE8q79ty5kylOTJfWnsHw6unKHcQWTIvHT/UPhGLJn+ox8Jk10Q+Gya6SKLJflIwEC1FwhB8zcXQTq1rMPuGw23Igj0yhwlZStZJOCUavMMncNxlCj1w07uJxMFN0g90tBmZGlZpUXSGm6aTKMYnE92YVN1VQCZ+kxFVROnR05lHAjExwiCPMZEZQPNAoxhw+kR0kXMC4TKuQX9uHQehXgkI4hedYXyZf20/5B6+Zq47f3CeVc+24WqBRIoiYwRmPimIwqkJtANcNPQEuJWUUnEhEREewVjulAuBMzJJmkonDQQyds0JM1cdRxUMv/lj7FEMkaJtlPbpP7jJUKQySVFAyM92XH+2Y+GPP1wWsK1GE8UuG6d2fGTwSjBR3a4ynDWEqPp3Gnc5VyC/tw7ZRm7EkEaUfrP3CuIX9tPsYPmauO14hPKu/bdpQyy1A4S9JmMlcPfIQk1JJWg9WgPfMfQ10EUyghtCIyphHNAQGrcx3Z8CXH+2ZWoImNBTa9wlUdxPvyTDcGcCMw07URGENOc+OQLMnikIkIlzM9aeCPhyPPlXIK+3Dt6leQv8hGj/AO6YXyZf2/8AYPma+O14guVc8C3b7KnUolMopPpDTZNohiYcaVUJxCiJUIaQUYFGEeznPXLMYTqLcJLXuOv9tygiJGfrAgeoI4hAxERCgWg+CMHAugI1QE5LnKBkGUytkWbpLcz9m7VtBA90e5LPlXIK+3Do63YlJAv/ANphfJf9r/fNF8drxCeVc+27Lh4CGaBiAgYgYIjgICAgYgIGIHP9hAQEBAxAQMSiBiAgJdIhngIaM5cb7CAMJ4pCAhmPSQ0whn6d2eYsxZusW5Mt2fCzJ2kKiNonLtGUmdE97w7c++09BBE6iItW/VpCyUTZaep/sTP2EYiOUWEYiOUWUYiOUWW8RHKNjfuPxP0/cfiPp+4/E/T9x+I2tj8RtbH4i0jAfiLSMBDKLaMBDKLaMBK/eJwEr94WAlevS9Ikevv2iR6+/aQWl2Zv5nTsBJcqL+bs6BI7fHgQpuXyhI5fKFNy+V7Cmu+UKa75Qprvlimq+WKR3zmIpHeuYiid65iKX1HMRR+o5iKX1HPUKPfc9Qolbc9QolbX6hQTaX6hQRtX6hQRtX6hQRtV6jFBvveoxQb73qMUG9h4mPh2th4mPh2bPuY+HZs+5j4dmz7mPh2LHuY+GYse5j4diwPh2LA+HZsD4diwKDU5FJogPh2bA+HZsD4dmwPh2bAoM2RQZsig1s9xQa2e4ot7DxFFHbiKLfbiKKO3EUUd7EUUd7EUUbVYignarEUk7VYikVpeIplNxl4ikVteINrvrxBNxIt+vEUvqOYil9RzEU/qLxFP6i8RSO9XiKZ3q8RTO9XiKZ3ixTVerFM71YpnerFNV6sU1XqhIu9UJF3qhIu9MSrvTwEjl6eBCRy9PAhI5engILiXzDwEjl6eAkcvTwErl6eAlcvDwEq7z2Eq7z2Ei7w8BIu8MSKvDEqrZiVVsxKdsxKdsxKdsxKdsxKdoxL3jEveMS9piQtpiQu0SJFNGwSIsiVOws+VcgfiXDs8R39IRxS86w5yRf2y5ovjN+YFyq/AtwfP+v8AYLfeQ7IdMi6pnHSDVlhakM4mEKWot+3KfjHg1qUWogWrOZkWsFxjzGE8Uuanxk88yvkfuXDt9fwQOqXmUF8iXkLmjnGa8wLll+Bbg+dnoKJj4rJz6/sedPHUDSlRQURGQoutciqJWFf6DbyV91Ra0nniREZn0BiqtyocYHHR0Z3HENkRqPWcM+mPYJ/mmgOvJZJMyTOOwNukvUhZeJDpC0pWmVRaA1Ftw2ladG9PaQLMji81PjFzzK+R+5cOjreCB0F51BfIfoLmjmtvzD85XhuD5yrLGiWaCSszLYQI4kR7Q+g3GFpTrMLQgm/h0J35lp7AkoEXhmT05socPkkcdXsQJnfpj1EwIEeZ1bji0snDXA4ahLpLTAHqM+wZO+pxhZnxkhs62TFV6cxiZubS4XgNGsjIZQs0MqNJ6egPOLSvJkx42sHyv2zZRoNlexf+QWZHFLMevPEEqPARz7QWrOetPPMr5H78Oj/SR0frUF8j+guaOa2/MC5VfgW4PmjlB52NVZ92AZbpkZRPw3TrbqkwSuQJyJKes5iEtSdK/uccyNX3DuWoLetqKNroINOZIj86Kj1npHxOTXqQhZOJJRajCyOU5dcBKRZQ0mHFaiIA9KTLaRkEksmDSTcpyb9XgFJj/D/tEI5NHlLNRaUcTbKIS22WkkERhxBOINJhxs0v5OalzGagrjFme37rbew5jBDoCeKWZRHm6QrUC18BAS72GbSSuwdAhm6S55laipffh0dfyJHRHvBSiNrX1f8Ae6gIbmJbSEU2iEyLScRMi2nEVG7xOIqtXicRVavEiszeEFutxRvy4wJ5qoo5+gV2bYrtWvYxXa2+xiu124CsjvYCsjYr0iqVleAq/TcwFX6bmAq/ScwFX6TgqncrFQ7lYqLuVCddyoTuXJ4kJ3bg8SE7tx+4Tu3P7hO9c/uEz1yXqEz10XqEz92n1Ajf6G0YiL9lvEx8+y37j8Rsb9x+I+n7j8R9L3C2nHCIlk2eI+C7iMVB1lpuEUpM9hTBGTlvVok7D3w+f9P3Ca8NFP3Hzy0FSwHz/pe4OsfQzgCJ4tVL3Hz/AKfuFIfNaV/LiRQ6dIL4jY37j5/0/cKrSKiSISntDSXFZISSl0pBViSRQRoLaIu2E4iLthOImdsFiJnbssQp2o8xvd8RnoBqdui9Qme6GyxCCUn8vSes46xM5de4ncuvcJU5DkTxCspJOtP2miKi7o8RUXdHiJ1XSvYTqulCdV0oVDuliod0sVDuliod0sVPprFT6a8BU+mvAVe4vAVSsLwFUrC8BUKyvAVU7FYCqnYrAVkbFYCqmJaFYCqjYrAVkbFYCqjvYCqnvYCqntwFVPbgKqe3AVU9uAqp2HgKhbDwE5bFYCbuqwE3dUJu6Ym7piY7JiY7JiY7BiKrHuIqs+4iuyQ3+wh8zsEF2hBVsSd4xInYMr5H9XDpQk9d2Rgm9Wk+MFpKhq6pij314iiVpfqFBNpeIoI2qxFBvtxHw7Ww8RQa2e4+HZs+4+HZsj4dmwKDNghQZsEKLV2nAUm7CRSbsJwFNuwWAlRZISpskIFsIL1t+YFyy/DmZ8JlapUtK06HBk6IxdXpNf8AgZLvUuIsuGQMEUOBeNVNUEGqJHqDBGTDZHs3WjYD1ZusQN9otE0x7E6RM+rU2SfNpBMTFFxxSuzUQmyZB72Ee6UQs3nEwSg094zgEEoklMqJ8y6xc8yzkf1cOguV8hDp/wC4F/y/6OaOa2/MC5ZXlLmZ8JlyZksp2rCSIiSnYMn1vn9U+ZreaTom07C0iZ9XFbJPaoKbQUKzkfHQQS6mEGWjP7QIQyg+slHhpMJYQelUV+JgiItRQ5p1k88yzkv1cOjr+RILo85hfIf9v/fNHPy/MPzleXmRDp4UhHcFwfWLO7k5OqIzWfgFrJg5G2PuCJ5zjLl7EkEstJUW9+56c6NXNeuXPMr5L9XDp1q8iR0frML5Iv7Zf5B8zX+X5h+cfl4IuB6eEPdFw8dGaO+LOjVzUuN9ueZXyX34cta/7aQX/wCwwvkf+1/sHzNzqeYfnH5dwW5gIZoZoZ9G0RLaQM0x1kJkWixE7dtOIqN3icRVavE4iuzeEK7N4Q+IZvCHxDFsfEMW/Yx8Qxb9jHxDNr2MG+1aPAxWa2ngYrN7TwMV2u3AV29p4Cu3tPAwT7W08DFdraeBiu1tPAxWa2ngYrN7TwMVm9vsKzVoVmrQrNWhWatkKrVshVbtkKrVshVatkKjdtIqN204io3bTiJm7acROi2nERTaIEZEXGIRLaQiW0t1AQEBDgijGPM4ltEydpCdO0Tp2ichP3TEyrI3+whBVoZSXyvvw5OQNcShvUwE5dXXOYUo5IGX5YN9m2Qrs2xXatewrtbTwHxDfewFdFleArlYcwFb6TmAqndLFVdyoVHLk8RUcuTxITu3P7hO9c/uEz90XqE2UXaMRHKLKMR+I2N+4/EfT9wuvvIqRxtgg9VPfJjDYJX70vSJXr79okdvvYhTcvjwFNd8oUlXzgpHeuYil9RzEUStr9QoI2r9QoI72Jig1sPEUGrPuPh2bAoM2CFBmwQoM3ZCizdpFJq7TgKTdhOAJDdhOAlRZLASp2EIFsLPHgi4OAgIFsISlsISpskJU2SEqbJYCRFgsBTRYLAU27BYCk3YIUm7BCi1YIUW7BCi1YFFqwKDVkUGrIot7PcUW9nuKKO3EUUduIop72IpFtViKRWl4ikVpeIpd9eIpd9eIp99eIp/UXiKf1F4imd4sUzvF4iQ7xYkO8UJDtqEh3ihId4oSHbUJDtqEnfUJO8oSd5Qk7ysRIXaJEiROwSI2CRFkSp2CUthDRu8q5L78PDj+RIgUU+cwvky/tF/kaOZudTzEPzz8nNS5gX9dSqYo8BlXJffh+lfkSOgvOYc5JPk/wB80c6nmH55+TmpcwLmB/01rW4Xf3SJob4aIjKlRRDvcOWtfkSNn9ww7yKPIXNHOp5gXLH5eZn/AFs1wMEoj4VxUqe3UQWa2oKNc20glCpp1H9sxOJPVHDMyqJun2iJuOFKe9ILWqCjI4EXTtBuFAvAG73deoEo5FRPSQmXE07Q0cXPBIyot5+rhy6/lQFdXzqDnIJ/tl/nmjnU8w/OPy/0OAh/S+uXCrTMX3iKSdM2kz6QiYkwPo3CUElayhoMggjSUIAmj0TdGohROSWOs9IUkjUg9ggnfRPWJk7BpqaEw0DKeIXjw6eKvyoCuj+4r/Ac5BPkLmUS2kJk2iDi0bzfFxtoqN1T36eKKzN4Qrs2xXZtexiu124GK6NisBWKwvAVfpuYCqd0sVF3KvYVF3KsSE7tz7id65/cJnrovUJn7tOIi/ZRiPxH0/cfiNreBiD9tGAg/eJ9IlfvC9Ilevv2iR6+/aQkdvjwIU13yvYU1XyxSO9cxFH6jmIo/Uc9Qolbc9Qolbc9QoptL9QoptL9QoI2qxFBG1WIoI72IoN97EUEbVYiijarEUUbVYiinarEUitLxBNFbXiKXfXiKX1HMRS+o5iKX1HMRTO9XiKar1YpqvVikq9UJF3piVd6eAlcvfYSuXvsJXb32Ert57CDtssB822WAg7aTgPnbUj53cHzu4PndwRe2JEXrKcRM9YTiIu2E4iZ27LETOXfuJnLr9wmXde4nXdHiJ13R4idV0oVFXShUO6UKh3ahU+msT77k1Cp9NeAqfTWKncWKncUKncWKncXgKncUJ+4oT9xQnOwYmOwYmVYMRVYEV2RFewhv+wb/sG/2kIKtCCrQl7xiUhKnYIFsClSpiEkc2k+gZVxC8eHKciXCwgGazgUIfMPSHI0U6daBM7c/uEz90n1COUWEYiOUbG/cfiPp+4/EWk4CGUXicBK/e/tEj19+0U3L5Qprvlikd65iKPfcxFFO1WI+Hb7cR8OzZ9x8OzYIUGbshRasEHG0b3elxiEqax70uKIFs/ohcAUZlAs5bgwXOennKyMy0BEdJmQyriJ8eH/AP/EACoQAAIBAgQFBAMBAQAAAAAAAAABERAhMUFRYSBxkfDxMIGh4UCx0cFQ/9oACAEBAAE/IWmW47fYfEp/Ce/KPh/RXChbPa/DgFqNHFWFoNg0TygiSPkjxI2hthsx+TG9nBhWQDQR8nhEQf8AFZ4EQpPeUbk8SBZFgMmZEWHaBwRVydrxE7MxmGZgEkO1txsN+FxUcu5yoI0yWWlOm/sSW+MXWlqNCYdROjoQRRqlmMjZG2PJD8SlnOJt6DtIhkwaXSJyWSnuydP7i3HYvapLLPrizW+5znvR7A8MeCGjKJWQk0EIIIIEQQ0QmcI4c9AkGi19yH7Jkmc0ZxXyIDMJQZiLAsgQhsaErkiBSRBZQVHNujGB2wMb/hx2vSwmPnhTuIld4lxcS9BUXpfiCXRwN+PSPBhtJa/zFpTb9Wd5jfdR23ojfDzA7rG46jst162h4E0OgQZOJY0VIqssjDjQtXzS+ihihOsyOThYLMm7ZZywHLJdEERvpkx5avQ6PTgfG8RSm1ij+SNYIFYk6Fmi034INCEomZkXRIyLgiBQ2jN/oZ+xS75Pw8R/C+st7MNQWPFxr8h+nPqTwKiIoTNzIKiwVESb8lYdjUtoRmPBq6JmXEbozaMRt1f+IiZlKlPuO0ebT51S5Q2mNglJioaOxNHsbiKzbMknIX0VSwkiy2VgFmhMgzN0caWIQhEkmJWGOePl/DYj+HrFXwLgvxNTVvgRPFImTWeFUkQ6MX4rqhIR8JFyYlfgkGN+4eVkfIVESTK89hWXOYTnhXuZjjNXEPuA5fIPLbmDn9iOoiMhjAze+SMUd2v6El5a6VIL8q9yc+BBoouR7C05dWcXYxTdIg/JOjWJI7ixMGBk2FGNHjS0lS0kQyFbMaSORCXBhMWcnbm+4k4rciAI+gdhHMJ0HY+Z27PJM8iea4GNn0DPOKoLL6yV2sTFpJWi9CbXWonfTF4lQxfdCb/c0OoKNVSCRBHCiCK50eJFHiQPheFE+AuBi9F/g4hZLSnkM8Gx0TJKSnQbnvbmWhk1PJVSJzZn+BfC4sSI0xm9zaGIvESR529gVWy0ZJ8wTktVhDkZgtPIIhzbeYudpSG6q/dIQ+dHYR05SUm0neCXsf0MWZz9Ix2lsICZmKhTT2JQuIawoCRpY8BCawOBPjMQsXIvw0P1y8MLRDb/AAPCHgzxZJ/E2R22bfUNDqxHOWGh8R4MdhRl/CMs8zzDNxLzOlTwA8eiM3FDin3m2e476Z5kT/6kuHULs1RA1YawEiBjXC0Ki42R6D9CDJ1POEELDuEWUeufsNx/ihOwjJxIO5IzbebNHrURfYHkjbjvuc6C3fMXbI7ZpPOTIE4c8ha+jSSetKxYXyLMV+xrQ5onoO21hJHopF8JggOXdl+bEZ00PUiwp8YKYo+frCJpKWJBdwNwi/HeHeEN3GZ/j+JfwvExUisJLcQ7exKo0pQubj1r60hoeCG3FvsG/wDmPRG+6jZeTkGB5rDrmh8Jot7qITvocWrv1Qmn9FIx6+Snjx3ap88+hSmb5OQ+5wrNbJUWdsjQ6iO8lIeULvMjSmw6G/6I1z7rNb5HcdEjLscGoS0RtiEhcOfE+BUQhVeBgCIJMVfsN17OViC/dH6iB4ljW4cZmjsOspEpLpjuIqsxiGgN3EnMIHzX7O3y/Ez4f0DhZ85P34WTNOhHg+Q2RqnZNYuosKElYZcnIxh2EikrOGJHC6/Zu6DcJaj4J88lmy3ALTE/IrZPD3jlp5pR0maK28fovLgfC3xTR/mlwIVHgYPGxFYJ/ZWQnLXcpmIxiaKRRIVHSWnzX6Oz3/Ba4OXxONFjqHLMEHKpO1SzzLoAZ8k4kKoCGozNCMnGw2mPBJfCELU4siLNvneQ6GExZifTA0J4w6ke1KSUJixWVNGi5I8RpCiMDxBIv8iSmBu/2YkPXIXuT7mOEIZsjHiZJLJLV2FDummqJzNdExaXRpHDtoOVksREP/g4BYL0VWAnXA6JejctWx4jQyEcCrBEh5dNcolw+SFMLdi+RWRUfNnkTzxsOpZ5qkMghkej8ULh0cCGOLP9KTLFl2y8mQjDIhGTRFm6x7E5ZODFiTmrLYpO2KuqJVW3ByVzlyeh0d4sGp82SJcxa3jBeRJlFBQ15/UIwVsBES1om5oNMu05Eibic3ojuNB15PEQykabIy3Gqms4YrYXeyagOwonVLZze8OX/BEFTfIWC4VWxhnP2UWBYnIXE6MfrCJY1SSlw0IYlwjWEowPOX4rvPEUrZV17jNl9WbnUeccAuiHDr0TwJH/ACUzahC91sWzEpum5HYk5a1t7E63tId+hfWG8TzupFOv9i09OULTiqQ479DyxOZQsjrnkhzJCdmiCSSwRd2LdSGNYhZ7kQOTvrOsUexnqOl1uduQhNcJv1Ll7v0dJ+2sCrhJLLVltG/cDRE7jfX+CaTtBkrZiEiyVqYBTkJePn9h+i+F4+k6PiFgRYSiRpkuElRkUVIIMVgsCoQIXG8T59LOGjVTRfAxcqrNuc71mfIfh/qegJrNFYuGz60b8Xew/pR4BWM5DkwsrkHFuJJbYSyNofEQfyC0Z0yqEY+o81HbJtdCArvKQoLH2mkojJXkWbCSwctzKLiHblZhaboyQZzrAXxPNisftQ/CJumtSB4othIQ9BDDF7OQ067cfy+uZBGCSBtBrd1NgNJXjGy3seIpOi/U7bPNnck1DH1aQ2XST5ugqSHmq8hcHKEAi0YB8Q9bXoGkMVqaC0/uUjP9mQ5vJkWJ7IQX6oWw5qDFl71ZgouCicNMErMVQchhiZ/j8Wvn6AsXfH8RUbJJJJEz2u6iSWcxcvqTqrJkLepgTE8aJEnibCOnygG91BQQozFBh1ULpGG7ZY55+EeKG56DedBueg7inaU7ym+6DfdB4hUPu0THf1ztMcWPWbT6sR4i8QeCNhCquFW0LK0mMyXGnEkrZNxYlkDZtBDtM61ojB/CHektGgkQW7wEySayCeHDycAsYwvtY+LDujLKa4h9GGpZ1HIg4G00x1JaCVVxS+WPwozP1BdvP8ZkEEUSFeTHK0ZazWDwEeKGyXMWkY8OIIKGAM9xllrAYGJkeclrTiRhRw85EOFOGkIzpMLuCa5WpNGyZYl+w4qh9JkPifpNaszwLjiqEclgxa7bhK7Za0s7lVlSbYomnPPMdyH5KQhHaTAhmnJ3UHQmpLE7GOMkb12EpgMhEG8LHMVB3u3Nw4LNJhQdCJJFwQSMXCC+t2p4viDL3xqqv8BkiU3XEjSJZQ0K2d1qPa9qPW4M+qxMICntHKhFq2YWBe44kxkYaB6ZzMArV1IzurlEGPxllbSq4SV87YKEkkoWQ/wP31wLifqoVS26JN3iO38VJpoGKWlE3ZHoTJ70sk23CzZfil3ef0IB2mRCM1sfAhCJW51ZwfvfsZfZFWSnojAGX+jqRoThC/MyWGknt/tkebNtPLTqOwzutDMdWJ0SSWeH9EcyZ84WNVkIwMmNMU2dEWor2NuhW66M7CZtKhE/9Tz55M80JmTqW1Q1SD+Z+/x1wLglHIjGJW4kkkkoWhPoOIETWjFRcNmI5cTFxSTw5Ua1WQPimi4cgDBavQeFLpf/AAbOolLdYCwMf2CFzFr6MwyBZR7nYVGwpKhp4IewwmRDdtkfHf7F3Q53tsKrluP+biVmQLRSbPksNh4cyeQ3qcKtoqEe9IX0SEJ2JBi4pGx54VgejctBGg2kbLoeOPEj+kPA0DbnYbN11C68hmxxLW/EgiaHVO3R44d5SLP5nwpzt1J++yKm/wBhTV6Y7BD1qO0+47Tm91DZe80pSf7k/wDEJv8AQtqqQ9CL+m+KFpxMXE1SCOGDPgavVTSKoQ6W1R5QuAw5V1iJT/0H99Xi2Z2kzuJnfTNibUWko7RFk7niaDLzXLnmhRqiKwDmUvOG1G5hLkPSSR8MEHGo9mqfFfDKb/AbwXDh8o/k/v8AEbv5Hh0N/wDISfzpW46jTTyc0B6fXRpdJGh1LSG7nmYR5vuz6g9lKRd6jV6ar22nFHuO65v+o7LHfOn+ZJv7kH/cQ/kTyp5M8yeZHTI2BsTspm4+qmN5G0zMX3yJPqNoJcr3O25P/I2FUTrdavS7jZ3mzaG0F9MS/wDI8EeCNhENEQtBJaELQ2kQ0NoeCPFkv8TwByHJshwXIQ/s3IsQEP8AYj/Zkinhm+yBIyhkXO539CbiQkFg4+Wfqfpf81E1abIeEPBD+oF9EeNPGo8IeMPHHgjYdCFpwTwRVCoxeihONVVFVcWIJMccydbDM10gtIXsMHCw+Jfiyv8Aof8AVVefwkKuforHiXCvWyjIYMwVmjM8fzP0P8Udzl+GvyRYJPoqqePOsofFInRiqxUn/jL00LhXqMvXlFh0JG6DcsXHDG95x3rbA49yRMjnlHN0E6/kbPyNw93WVNkO6p4YeUVP7SNasxnfT3HeTNh0YqGHKsPoQQ5Z5086habqW1IIIIpAlIEuKCCCBi4WYqsVXwLidG6vgXC+BuFcOQuGPQVFwqi9Qk8EjoFj6BfqH3NzBz/0P8G2iMJLIwYvOWw/qA/o6Imp/dmzHuNL5jTJAGh1qWvqRodS0fGbnf2ZPknnBB/ie8g1Y9UFOl+osx+abL7zkfedpM7KCb+4vqB5VDf3DFiiBpiVyBoZA6L0idi2HR0XDkJDMhUQxqkpmjzxHj1CP+w9ILxzffRmzWByoML71G66Kdt6sMVDOUVMrbnYdJv+g8mqIlzJrI94tjzTEwk/BnvwMY94XozMhqyIriJ/oHzX6H+F8c7bbgxRSJZC0qyRQmDAfYhQoZT6DR/pw0bE38h/UDxihryQ/PZF9xZU8GsiyfdT/PoX0qPGDtqKiP8AlpH02KITpCftifuifsCfvDVuGLn+qsnL7UJ/ZDf2Wdtzn+RH13XntgNz7Dv0TY9US50GNnqHebNkeKPFkH8iGiFhwL12wZCWLE00msHwQNv8hvx6JoOQ2R4b5Mnztj9hhrZpgxjpGPxCCKqwi3dozt8vw/hny3+uDGPiU+VJjS/0GlxJyYbBJqUJUSYLchnESuwi5jAgksWyfazizPjxYSvFg3WVbeu4l/RKd1Rr9iQkiGMkm24SV2XAg51gCsvL8H9ofC+CfRTUx6Fqr1kTbBoQRZITJSFxs1g1zJJDcsJGNBgHJ8SCMBP5fFGZ2uYu3D8O/kHe5cKsFRs9zqXsL2/oQBmhZkXrkDxd0S/px6CJJIoWSFkKnGIkBIy35C8PMDIvJuwyG18JixNnxy6BQ0bpMU9TPcxqsmI2kQmVOXH/AKD2rqajYVUsFljGY5fKJxGHMchxR5aBgwXpj7mZOVXrCcqlmMsO0Qe6yo2RCktZEgIYNzQ3CE7WHYQl/pPJ0pK1hRn6X6T9BtthIwXDNFy4u2SY7McILUzcdpw19RUYqJS5FVA5ZnSbkMZ3nSjpARAevQ5G4g17HuXvvwIZBBFI9OK5i75cGAWFGybY4moKFlyzW4/UvVHG1Sw1FqtsK4zoHC4MRPsYkbth2kcnm0oY9sDMiwm9GYkD6pIhCULKBfqMkf8AQi5i3F8UPJr1O3Wi5wbsoQNKEGIwD4h0O5jkOUG/82Hc42DnZDPgukxcNGSFIrHhcrAuIEXMg1trmKzQ2VC53EglCIR+whLEgg08UyVXM7d5bV/U+NtJ4mIsR1XDijYrbli+NGrzsNYUkgoSo7qKbCWFKONDNYIXA6VeBjS6YBYELFiMYx+9pwwEJaSRxLDJs46IQnF7g+5yrHMZVXWj1xV573nuhs/erzOY9mTp+ZP32edETSl5DYHsKeZQ8lotiNiVx15DasgtlQK6i51UnNxcr9Q7adA8yNa5vN2jwQTf5h4Zp6om4m+FLE/5EMSyFiEsRIZpL42xLPbczvmNW8KEy4bFNC0sjBIgv8Zue709WTZw1pQkbDuQPm6jDTsZC7p5EyIapRjILxRc1/hEhx72H+8Yhqw8hGxyPSR4txO7Eq4VywY641iUPkoEpRnNLIAk7TSHxkL/AKMk2DRogYofAibUWrCBYmT0GqTc4wq04aEUdxmBjYS/MNS0SNQr5msEVgi/EkMgoml0g5R0/T4oRGIY5DUcFYOyxchY+3DgXr/OHxH64J9VIWiPBHix4ATfxMD/AN0tC1G14erNJuo7rkWHXkDwYfMO5QvpR3EFZqyxeUjV++jL7IOJzw8At1LDtyF4gtE/hef0a6O6nsb4YN3Eswys05ludPe4ufwxeWFXRMt4Mna/YJf2J/Q7ohdWfs2agIch/bDMtMbI2W1VIIZMKxV8D83dDJaCPDzJDTIpbVFtUbDqP748ij7WiD+tG2x2Ezc9GbPW4FYXm0dhapJPmHdck/m6yDCeG+kkzdA/pB2iPLk/tqAKkIxDGnWZvJU/wKNJukVMulNXUjzuQixb2QtwXtJrPmCLI170foI0apJrY3IiYEaDJzfKLlSWV0Y0t1l8fh/McPPk8K9Nn6KYBGy6+CfcvR0aUFtEJjbNwd4bxWAzV8xEDY5GNzY8CiU21HGj1k/8IZe84lqpuSV1ziXIoX5m0+TusLVhdHPMatJvuoeXLvUd9jtMdps2XzUs8PTPGngB4s8AQZOnFcUEiRLLk0JZehSi5Jd3dcCYvQXo/wCSx/Cdm4ukFNeiSwFsWM4muoy9sBrhE+F8fh/Kj9BExnsEja9BNPBjJztTG5cAnc9z3ADi10/Z1CTYtpYweZCWGztTpeWbYlkLA08U1kOjqjI00c0eFwdrKJT4FP8ANCzZgKkKnyDOqq36kcTaWPBHGvRXqfI+hAhFEQScHusLJu+A1/c+PSXo/Oj4FfxVVOJiWZ4Jq7OJ7hUmTh7tRu1EXDnLR5OiwMIRjfsJ+J3EIWpC14dA0mfdCuKpfTBuJC4Ka91V0SSQ+KEWyIqz0puJGmZVP0BIrK8bgkghJLJUlakw0iFxOdotFV3546JUfoPhm4QVVcChZCZLIaTg00dDlmNkFhxrgfAvU+V44EIEiCCB6eGUNLU7sz7k5CrfoS4Gnf1PGjyqPEhNao6EEMhkcbPnh8CrhkofoOQkJcCMVIowhoWkXhYTcsY4aaLNQ0Jo71ZmEkgkkkogb0zTOS4ntgETqdxjcvhW4RCLKbI4lqZvg9ywN8FLAVikm4u1RSDxQS+OS83o6EVz4Dx9BUJmCbsWSLhkNZZCwUCwjUnuAx0JQJyRwLhYqKq9fECRAoq2IkiwMfyi1Vs/JGIWE6Hgib+J4ITQZ2yO4zfdTfpQhw4fANDww7amw6CWuqGcblixz/InW9TyDLs/KED2Ju4+kf8AGaO+RL6URFrF2KSrup05fcHgBPh0BN/QxMMSQ4sB0EbDVERSLMQy73h0ggie98LpckawHV8GxDyo+AuJJQkXCCCGReS2qJldOpY/2HP/AKlqPnQ4/wDcX3x5025tTZnZTO8md9M76Z30yXKbM2tIR3kRfRhffetiKQRR8DYywApOze8jxpP4DE5M/V/Y6YlElhKuS0JaVEbaC2HLR7iOpAvxSPDol/kH9cMFKd8x+cNm9x5meREC6QND4Tx6N8W06TewyagOSNxz9AnQE/aHlh57/KH2L9lMboHSKzwqinkEeZR5tH6+lHmUeQHiB40eGG56TsKbOvOPLM2CfZJH13TW36Te9Bc/wHfon9hEXmJqrqC8lmzEB408CL688GeCPBHjjYRHF7ItoRoRP/IUd3ex4ceFpHYbOX9wl4LkIMPdhkeZzEP6THgjyuai6YOpoIIEjEMXG6kWj34Feu8HyF8D98McFuOGhHQhBmOLYipLLimvuIzouBSISJxzBbxA3iVqTvRxWKWJIx2kasesNzCP3pPFNF6qqxeo6s6L0JGRkHPPhAlwswEMmg5ey3Ai/B/avTWEiEeNUifGRBAkxgjgeNYIEEqNKiFJ6BtGybBtkBlYwGcVG7aXoP08+PELjXC+KfQYsUJJkUSIUcDVUxYyJGOPJ22Fv3Y/h0L9g/SsegwhpnqPCa9Jeg6ytUZhYSmsGKtquqFmqrbP02L0nxvIXpofCvSWR8zUaJMQiB8B0sIXzST72gvMDXmyI25neR3FwOQnrx9xvuo7iYvHdaOT+9GeEHhR5hEp5OtEaQZIgj0EsSByEJ4evlXEiiwt4NWM4sFJxm0jtsrMzPgUsZic4ERECTHuMOyGZZ4bIyAMBIvTZ+qqoeXqvhXpaDzz4qNDoTApD4ZZ2+5/qPlhHFYhaI2xsDwh4sbcemeNqKbY77YvNZuVPXcWp1DYjso4d4jx6F9VOwp4wfdUu7aZO8PLVdvsug3vSeDCz/gZP60QP5QeVHec3wLyht+jpq+6pBfXB/UDw4dr9hgxUczIxDmogTiToJaHIWZDYCRJDsPQEcDshe23L8SFF2QyHoQ9BpkPQloQdCVqup5Y8yjx48medqGd1M3vRm51Db61dpP6TuUJ39UeEHYU7q8PXQ55lk/fZ2rFofMnT8ifuMn7DG/sM8uxfY8AGC7KGv1Ua3skBayBu17MTiWEd7kU+cETVrhDdhDXJOy3MvfAiSQJ/CWRind+xYLlwv8AFmmwjxR48S49AeIUQ8LUq23VndY3tZKG51Tz887POSH2TzPhn2afMze6p3HNrrGq/Ud9jttm1+awPhTxJ4s8cbfoQ0RBcuPHgXGXGqOi45q349Ib8hD8aLaItEufLCpJNWhodIUQdpuWez+q5IX4Cyoj4a40OYn5gwCARs6SaMeeOg86wa9xeiuN4iRGw7sxiMCEmbhie4liPF4TP4yGgtJoG1dspV7DHrHotE8NBt1pEXYQWCxZMsxzLNcKo/QVVR+hPofIfDYTVhqio/h/sze6DvWtF+Gn4DjabQnDbJMc3d3dg4MtomPmMd5kdjOyJtaiUISwXoZigU0KJwxNkV9RcWAxMvSTFEka9WvoyBmChd8hmPXv8iFoQyCONTt/MLhRwMhtCLN2r+3i4zrMxTEc1yptmND3lvNDFSbaSFGMEKWoFCal4SI2SJNrIlo2xRKdBCmkSuFaexMpPVcT9BOqo/XeD5HyGLgdJJo0MNUlv2nRinzE07dIvwkyR+N9B6L+gZhWr3YJDz1EmJy13AqhtNJtNrEhcv8AW6EaE5iKJ4HsMytrkwxFiPD/AAFahnBTrW3SLB6EHp+bG4hT3UldUKvm477oMM7Ns2zOYVhIiahlvGMDAAxhDWnFoThZsvGtExMohMYTekVf0MQttR9Wx2rCXHEsMNjLAbJVqgDzivmt2sKpNRNQIRhcUoPgqzMRKRtq7CbF91MLKS6HdjKTdAtKADqFi+uQi5ryDlSTrK5jFaTbIxgnVpjsZDa5gLtnAtJFq0X4JqXsQi08F7JizAQuB1XHJdR+u8XJmb50mrrBJPA4YlNXhgjI4Tksy1lNRtqc6LgB832ZuXKTzDPKOGCT/wAePAGd6qZu6PAO/wDuOQSXLQtqLJbTDMdpi7/y6d5c8geEGKDkg3sixpzhAmRjBuIXJDSNphqRbnWm7CYybwUCHoXJpqzLv7qX+yHpwo1lENGQ2Ja8i+83yEIIGT3FznyIikBrkIczDxlyhZEuJcLmkev3mDD3FvZfJRC4TRskpyRjnVrIWh3WxHi6c14rIRpZJ5686Joru9jMhzN5bSRzHzFm4e+EuyjLyuRToYt1CxTEEMaQFmoY3KKmJkKQqZO5FnhZW8NFXhcKkts2LK2MTlipClBS8XrRlhaTypWVbmkxNDHbLPIi9fFB7sQhMEoXtRbNvNPTRVXA6QQQRRBBFCRWCPUZ84PF8/QVZJor8/8AAb3SwVouhenHH3ZkfEjMa7mwjxx41E0pu9hdbftTiBayfIRLXzY7dj84eeC2XvPMBJw6uq0XjzwI5KWMgXYr2HbtlGwyrKE5FtUzY+6O4hIG/tBfciABYrX2uMCAxY0U0h0UqJpfItmb+1zXr5o/uPKo8uFcnds7oh22xpov/wADwKMirWwd2NlWWy/0atqYJQYC8HaMjvUeeQ3pp3d0W8vkG5htkwdcmSYSCxI2wUX1GJ62RgaIRXNlCy6XB0rrEk0csn7zJ0fM5uhnfTqiez6Ttob3oPFo7ZCf/QnTE6GV5Wb3VO2xtdQ3nUb7qH5bO+2d9s7DZ3Wx6/qFpPqbXUO+xvViagCWXVomiTYmEzfZkH6jIsT2cjKEZLBHpNjqnajny4v/AA5I/Y/0fAjPkVRMFuYaNEKGk0008GiGXGqvc4aGLjs1C5daBOsIhGe5fkIwxBsPF8TWaJJoqc9BO3TNwu/A+JejPBPE/VP0HRVn1my+bUJmVJGRRDqxk0Y+Pethcfy/8rXyRiokiZZvfWzygfAmDEnsPmXDULNhqs+0H2COwkdmPG90Gp4cg4D2Ecq9qIlXLEC/ZuvkYnxxSSfw54V6U8SpJPpKj9aafJUVIo36ED+V+x/W8Sx4/kf5TGY+cYhjS+RhUkg2deAZ2AvRaDIRzKNQ24Ag81sKydXjQjRx4tiYZJkY6WhOJ4kFdkMnav8AongarFic0bJrFJJpPqrhQsPRYqLgVXxzwSN1niZPF8mLCjpPA1Yqyea/knbaWENieP7SHoyWhDIehD0I9VYHY5VbHz0SJCSzHWaIQZFqTsbGExEKkmZcLSzUjKLFzPiN+imaPEmrMCaSWUOk1VIo6rhkyHS9xxr0BsRJIxEid6Ojw3f+iOCCSRjq6QJ7ovf9w8K28d9yJFng2wNrqC1+oeZnkZH7tV55U7JHcI8eN10G66TurwlfVCX3BhjnsemRp9zEkX8Y97s8nqP3jh2kNzUu475HcITfSqL5geVEVEB5zSi0HRi8yPTA+WPLHhx4meCE38xo9AXv9UaPVRbVdSCGIxvoS0JaEaBNoSJaMhktBNoSnAlochsDUsCehOMCZIYRZZolarqONHU2HU88jzJ48eEHgQ/vR/enmSCi2x+TvJnbTN7qGx1ja6tOaEpSHwmxBEvoJfSTX8yX0kvpO6iX0k/pO2jvoxVxAj942ug7SO8mIuwJP6C0B2rQRFZ42QQYHRXU+F+5b2ViRfgowu36H71MXp0Xmty5LJrbQVLJGidBu/keDHgx4YeBHgQ2Abf41VO4Y9L1Z2mzc9XDU0ME9GmttG7bm11zY6533NrqHnA/tAvPZ32zuNmz6sehM1UQPEi+kPGBfTDwA8GPCHgjwQtN0IlgsRUvrVVTuP0ppNJJpJJJJmbLoN/8DaDrZL8xOkDEDMhMYrkVkzA291N6HZ6qi/BR8Yfs/ui2fPjilpsTpN/Uvj0LGDPdJdejRqqx/YYuQ6wfoxRwktpLV2rHqsXG1f0c0T+U5PATqxoYsRiQ2TwNrs8WJ62GfCqM+U/3TE51laklsGhu4QY6bgJzk5nkyLoR5nPcfOYkjh5ejMAoeDT5ORzdGrYyMWPQ8ayG8tdcX8iz/qbzFzcMzdGOKaXHINjuy5sKk9zV8bE8MSsWvDRR7kDDNBXAxFk6IIHIhituOeC4vwM/yu3aDDcRONY90DQBSkfgnWXyP2Mj91JhNjrUDzlkL7QmovYbSNGwYXML3TJ55I4zXrFuLSOuKWYnZnPsKrCjUquRGuniujcS+mJecNe5rF7llKXTHzkRc8JPInz5pESHpMfgLRYj32dEUxHCx3nYxA3KI2Cqt2oHmj5Ni79glOt5LdFfoHeU77c5OnuSasYYlOmdGk8M3a8sQmrreUkwVwcY3rKFuyCsQwXgd3y4xF6Nd7YJ1fFKouAh0nhZIvw16XYNBFyQhJJIxoao6ogyaaltqhSLKRkwZDfOmbzyO0wvNC8Jm36M8czvGduzyB5w8CPGDwo8UPEDwQ8yjxIlv6Huj4USzsuQxHkIZsGjIswGJuwl0ShYGQfORTX2EvRDhZcaoqmiOblQEjFELcH5BHbXCReksuQiwFyRoNCidn6BO22JYmPUO0RHMszNW79GsFMe7NqPUhLiMacGmLwmRdtH6Ej3+iCJcS1jJYbRuePMQsnpRScwXV5m3dtt4uk1mE6LMckNBjTWCyy3FxeZ9R1ZDOkEcGyosBib4HWhIao6Ij8ztGhgQ+JTVqsinzfpOt/cYjY/gtVC0IG0jwx4o8YeFR4c8SeEUp4M8GeDHS0abSIsn8lx32y1f5MX3AX3E7DjWm8BTjIOF7NBnFo5jblbHcd1LlkX3NB8yg2lJfWqYeNHiQ6bVXydtTx2gZOpphDm+8SOP3YizfdRq+7mDLepz0JGSAZENpInqhF0R4My9x5DQbqEzRNxyJiKUD5SZgp3auFWPc8YNh0iaqx2tZ6iUKVvBx6h0nmmoWiRt+inNoE+SYytntw7r/rsfvCf3meUE/aZ2myY/wCrOX5ECj6jO6mR9ZnlnC9zQdodv0nfU7qm96DedB4VHZo7ZHeI7pHdL8CqYoz693QErd9Dc9Ed5HeRsOhBXSfZGKkkkjYhJNWQQK05/Bb7Euor1Vw/C1o+CS1FnkJsaBe0Z5d0yIDckrcwqSPixEXpNMSFbplpMx7j0eGtTRDFQwwctP4EkgVkklwTwTSeNJja5558FvCvu9A1HywWy94Pjarvg+TtkfC3ejjf/HwqQRRkVJ8OB3WJB7vKi/CWPvjwqkVZa3OI3FBP9HMlTEJiYzgRDpZpP1bw40ZElqTm+QrNW9wJqPikQ/VSIOg5n0M2xy3Qn9gOxiPoydQ8Srsixbz2OiPhnQ/QfqP8OfT06yTROia4nYgf5wt9n6RoQvwcvfGksq9DSipdhuQYqhLbOJWYrCqeFqxq1ZcxaF1ARHePDkL0ZJpi4Gy3rOCYXIOrs6nsYs+Q8jRNf6H7JBPUNPk1SSar0GT+NNV6E8ElwMfEkTJHblH9h8D+6LNCF+D3edEy4UyYYnVtMtDGauuzRDsRzqJ1EcRgv0PxBGbCP5u0smtzIyoyROi4mhcBcDYmMSTVk0acLJzUlnN3i72Fk3CSYJJYEjEjYx4GQqzSRiY8KsXqKrJdHwL1NKkkjfBFVSRJYHqLNIgdjdCbzHErtRvQbAeVZF/VxRCmvNqO0h3EO0huuk3HSeEnhFOPNo8yh4iLMApZIfCLCzOmhxv1osLTDAiWIY0bUMQzzoa8esPOBfajYJudWozW+Lt/wH3T/Db9GbXoxeYPIDs3S/LHliTCkRf/AM1EI8/px4EeNnhR4UP6OfSw5/8AMeEHhB4eeEFr/CL6weMHhJ4AP6QeGHhh4QeEHgB4AP6oWf8AJTnnjyB508meRo83B9UbcWm+TY9GdlM7CZe/hnYTOwmdtjedRvOo331G66jdfUb/AFDuNwgDZ3EdpHYRsdB2Edhja6DsI7CNjoOwjuI7iOb0MevkVYkRV0gijonFyd3ozGbfkT+Eh/P/AGKR01guLPgvqKS+pcuSy+pL1q0rJFq3nWFoiFojxx44f0aPGjw48ePFjwYf0If1g8APBC5/kPEDwQ8IPADxQ8YPEDxg8APACx/gPCjwg8APCDxYX048GF9ejxh4A8EeOHpugtB0Nt0Nh0NhELQ2ENNCEQlwy6L8iTumgqPAnibJ4GhbPnQ/ifseztt+Gh/JMfPHRVGTtE5GPEDJpNegwK5jE4EClhxoxEoZhrOifJ6c+nP/AA1R/jKiFWB8SHVRomoV+c/ZEl4/hIfyT5+mBzq5tBEo2GO4c6iSJy5uYyaCQ0LAehidr8VzcsUavgP8sPSwnSqF0LEW1Mm3EdZTQ6L0m4E/+38gIj1Y8uiiiqwuiF66oD5umTs4M6jxFzTeJBwqsValVWLhO3naYCJFU2KJG7CEUESN0mjHXAIkzGTWRUfEqR67MfyflRcT4XSR7J+IUhJSkTJqaU3UauQJEcMcEEEVjhLqS+b0s/TnBDrxEhIaEiQlCHhRVS9F+N5EVgaEIaELExGjEeBFjCiJIo+KKqZ4GjDif4kJk1mrpHD7Z1ykugc2m7KDlZfzHLWxDGtU8jyBKpKKXoEvb5hyGZW15uhm1RCzxGYReeYf3A/tEeWX8PNo82juUeRX8O9R3CpTvEeAHeKkPFh/zfC8UsOjJGTvCMUsYw6QEb2lBayoIToQHZU2HSLQ9B4oeOHhR4R+OQiDCcLdHDMaSrG5QkCeAGy6DZ9Btug2XQbToO0p2FOwo/EncU7CnZU7yneU3/QdlDc9Bveg3nQbroN10G66I3PRHhlwMmbjobjiZs45n2XSW/1BopZLPcSrI6T6H7P8DBaJOw6jXfioVj9TjgglpRnlJ7x8+CTBSeC4GmxtEEEcL4Z8mzdeCCy6TdwbyFKatNZejm6JqYm+nDNFNkYtm/MEx54rScHy9R8T4JJJHwP1/wBb9+jPFch5mBPYdTF+H8AfE0/YIglIkeDpAOIe3oly2sWmihJCVS5xndlfdUrFJyPgFwfrcUcCQoZxXHF5qlrWH1slAC7OH7k7AryVF0Vi+RRoItY60h8GglIoQ5nEpYuY8RDITMXo2jEjCV3SKIdlWYpicGXJ6g/3iOtTINlC2dEpCcFyyUtwhNgSmpTI1BbO+wfLKJXFn6L/ABvjr90VZ9K0DCH6Cx9R3nUxvw/jj4wYtnMyRfAhN8ScC34quYlSK6D9gjkl4b/A8EGl+asIexIX2HGqmtklIleKE5hNI+ooydeKWPOBwV8wcmoyS72hiMP3ikOixHnHsxnsKjxcky3Do6BO+IxEgmkby2MOsJm8wlmXOIo0pHsMlJS8EpfsK8dF+xCSTlhyL6prGL0slW1gcqQ7nA4xyMJ2YrPUfPstpxbGmdk4uzWJZgJBTGI1SfrMlPMxLLPUmiLEIZKGeZcpdnOzvkHCJSTeJBzgxMc0augLH4H2Bm6XZ2S+jRQtxLsIoY2XkBOJbwSuclhyY/SQ/wAn9f8AfrpKnl8rJOUfukWN+H8Ydw0p+6iGdSMPYrRaj1kG29+jCVHciXqjCX9S9RM0p2qRNQaR3IRTKUpG6bu8HAxcDFYnLhbIWKvkcPHBdROjsmnBhgGebZNAxCGmgSfchuQw4Zf6RCaRdnR4JlJ6KySiVtXBJyTtlldA1LigvdDNlk4JRTx4k6XLyIV7yrD+Dlfrx9z3cseJBWnBbCa8Rwzer9l48vYxh2O+IVETvm7ASpMvbWI5WcrNxiLqTMGjYmzmxzTGJfvcV2sJXNljGB77MECcaoVhUnUJFhHIQVsvaIRIjBKBkcSrpRk0zjgf4P6f79dCna7j7EZsXZLOSy7oTMMkv8M7yZ3UztJnYY7rHdY3PUdtjvtSm86jeVKmvMDzE8xPMx6dCU3C7FrKLzvsTnAc4xnHrzY6x5QL7MeQEC0Q7jmRONkf1IbSXHsTpNMTwaK+/Hkx5AeWHnA7f240+xQ3kRGkpUmPAizCOb2qDTvKX34GVdvc5kF3v2NHSH3vvRU+ZpjzIRtHpCFEmDSIZUASHzCk08hkpMSmDsoniOfLFMiD++hWo/ZG6iId4hMZwc043HIv2SO3Fpk+YnCEUyGg0wnk2Lu2x1gR5sTZ3qMeZbAmO4R5aaMYkKE4LeSgRmY/oIbI4JKN2XiG+NCa2k8hBHLlU3SDykvMLzilW96jcdRvOo7DUR22O6md1M77HcY7iZ2kx+QOwmdhM7aZ2Uze9GdpM3nRm4+jN19Dm9Gczod5G30G30EPpIG7KO2qX2CO0zyx7HUW5XKyW4n6y42r/Ii73iIu5xMb9KPR+T+hlO0UYqM02xR/o1n0ma5g6/NB5RkX8xYbpRKSRCWCI4U7cWMV2fotCGMjB5IchTclmMRZDmVuKSdWg8nZRI2SO8bCYp7lkuvdGNE1mFxsmjEyWYkI6WYvaRkWNuONSYgm5Q1paEqIplDGr2GxjuJ5ChJQo2FKgl4uk1nhkmjo3kE8jMvSavgnheBguN+inenab+v2PaRL2n+1Msb8P5v6HxaWLEY+S0HLK6QNDTiHJkrpTWUDJM0kxbIz9Qnsco45hpf8BpScRbDgkYqwafmGdtKIMdqBCzLM/wBEo/SZ8CYyeB1wITtTLyMTkXco+PR8E0z4Z9B8on0WrBDNilVjwIsIdPaCxXXwLfw9pv67E3JdR0qKbhjfqzRUkk+Z/R8KvMdFGGpJVfcCC9VfggjfZU1LEMyCBoczEtUk1eFSqqQdmpRf2gmjpJNjFMsTmEM00YxYdiysyrAmcLAuTRqprmTRCHGSkmntUI+NQ8GfGGSdg+LPhVE7lteH53psCVR0YhkKk0Q3BJ1r8n9vXcUmDug6L8DKqR8n+uCqHREYqRociUrm86jY2vCRJKaOqTJWeHIWIxDdE6MkZNkTVTNL+wyS5CWOCBc1MzJiWIXosRjQlqTSJXkYjE5HwDkIThccI5lixJTPB0sRfjaGNBLQ8xYvZiVTGlS0NdORj+fgYpOh1ami0ZxajFwETeKPCh4U+T+3rpaX9ZjXnvSLfY+Q/Wjh+Q/R8CtYjohrEmY0LCjVyGJEOkbCTIIcktCWgk9DYZPQegPSMsG+gn0NgmXsCJOYnGAmLchk30FoEskPSJaCbQldDJaEPQSehIsaxfgBHDPhDkXu5GwthlyOsM6vMLHhQstciNRIRFixJUjgZJcGLDiSSB8TIrK1RB/YehNNNyQ/fJSrv18mm7mkzLxeR3mBgScrjlA89PPjzY80PPCdFbKPqMj6zI+6I+6PP+CqZ+MHYShE5J3Q4KCOSTi6FKn9Ah/UI8APGo7lHbI71HhH8PBP4NFPruLEEPuHkh50eXHkh5JSTepEK73Xudtf6b4t53bm/wC7c7n9BjO+2dls2fVm16sshbk3Zt+rL2Dqx6bqzvNj81ndbN71G56jzA2+obXUO25vdU3uqL7meVij/wB55yLlIr7GISPOnh5GNSvz4MLQvJHcI8ojtEdgjt0d0jxSPEo8YqAB4INf6IP6IeAHiB4obvoN/wBB4YeAR4RD+uR3aq+uuzc/vO6zvs8ib/UbT6uhWkPBCSX4NPeq3qLHdWZ2XX/gVw8ONek+NE4oe073amILszHyxPDEHWHxsVJGqJwnQWKFi0IJZLmfEEYHyoGTWfwPkP0nVjo/UxfXrVbZydRWR33F7fMz/HmTMBLF+ElxwYxJLFsTCjE4mx1rfyEbT6Y7zf8A/Ykk1zEX0OjZ6yNsaZR7uDSCCCDErjcZnAniKN2MinYSsB4IpXDdYFMxoauGyWwz6zTHlMeDMKsif5hdWP1cX155N2PMwO+/ryJi4EXw+HHDPA2Imkiz4EJOBqKrEZQ5ypRK9NQmGoa5mHtW9hblpW9bYxFuWkTYzG+4hZYln/QRC1pnUyBDkWnUUXkjiIYRsNGgZmC9v9WMCNTw9zCORK8Ch3CzvMmakW7xDIakkm5sVjG94tjGZvZS9gkSPAkTGdkmSpBRuXtsOORO8GJypJwJcMncaUexK1p8rhkYqurq/RVcfl9d3L2m9mPu6ydruPHgfouiFROrydJ4rqyRiM6QLPgwQtg71El7shxyeDOUuUjxpuO7nPUSbEB+67SuxU8R43ovYYR3MbmGV6YuUq4YzUmXH/sTX5BB2jCZAkEyG7dyDxF8miGIZ0ixWgh4WC9DF7zIh5Ei9bFwPVqokNqic9Gh1W+OIstEY/YRZH8HAzDxUzLGyIsiHdsI4PRjzZpxtWgdsFzNmZEMakLANMzIu7edWMgYuGSRj4GPhVLLEZinNvrxmMZw4UzhTkiqVtLK0iiCGQ9CHoS0JaEEUtqup5Q8yh/RDxgh/jF9CH9geZH2pkXcixiGqzH4zozck9zycej1xfYjy8hQpL6BP6l/TtUd6jyaF92qHQBd5DtobHpptd3/AMHlGQwfv/lGJ+4H5IwYUotLJysP6EmXabl1YwYzjXEtG+cn9FufQH/gBQWC2YnT0BcZ3uZbVRaJQO6AsLR7QR6jZle7GPAN5Yh6BG8XqW3OImAoWLI8oolH9/L0Equ139yxJad1y2GeJ3oNwtf0jRiy9pbEz2lvVOhG+BOiL+w8GPPjz6O7R2yPAI8SjwKJfWTpridVGHvnZ52eQjltTMeYnkI9Lqmz1DY6w9HrGz1jY4IXqRBH6DurgZl5RG+6Kd5Qn7tHYdDeG5vuL7RakaPXYblo2Ep3ERhuxDPFJPuQeJ/LjU6k87O+55AbzqOwx2WzZ14/CDwwvph4EeJPGo8YIlYQRYGWtzKj9XExcC479IkTDgwo+HoF2OOQhE96LGr4EERAeZW0zFINNXpj4ERJOE658Eu4bAkZa9Wl0RZwduwl0HXeDBLdU6IRm9cWHqP9/FJf0HV8M0kkkwOT14Vsj93J2exg98Rr8ViPjn0FRGIXpuUtxA2KRgiXQlPxfwDqsRmY+CeC1EJNl/z54YdbqS+iGjPXd8CIpH1Xy2ZtLb8zEd25y6CGFJorcC/MmOjHwtk8WDyevk7Jq9yP1Q8vw8XLF8f0HxTwnVNx+hLGuXOrMXp4soiKRWM7MTb1rYuuZfo+wfVjVUnzHySNmPzfCuCSfT/R6rq+BsfEjD5PX+biv3ro71l6ouJGPkn6/wC6zWaSNjVnhkdWY2LjeCXJJNHNTVZgkkbMxiVzQwJEwuYIbGxmveSTwN+lInR8KdJJ43RjGOj40YPL6/eszAu6EYYf59HP0Ufri+H+x0aodIpcS0IehLQh6EiC2qJ0Op5Y/qSPFjxY8bGsHk6a/KGx6OtIb/u2GOy+KxbbnXPK+FIFNE6VJPV9Qov4Z2EyTL0Z2jrGIOT+554X0w8EG5/4DwAn/qj/AEiKP/Y8gJ7qrTIegm0JE9CWhDIZBDGhUaoqPsq0NcCGuGBjQxxqPQdR/ZD0Y/GOf0NgbnqTpBOx6BalnH10MMkrNgTwrpCXsR8FNUnjN8RJ/wBjadGd5jzA2evSOiXYDwZ5NHi1Gt70G16DSSPITzYbIW/pHKBENiWSKG9Au6hqN0jwI79HkFVmpqxfcbl7jdF5Cd9jbdXWj8KeIrBn0geJHgkL6QhaKqSSdy+tGTXm4HiuCKtBJojxh4Y8AjxB48eJHhVJP6U8dUE2hturOy2dhs3vUb7qNvqHZc3eqefnlNCxqX+YJA8hQHmjzo6dmsPmzzZP7DvM7jIg3use91Z3mzaj0htTwxGhELThR+v68OvPYZ/dUajQiCOKCOBcbL4X7HR4i4cPSdTGKq4nwYuF+lNzP8Cfx3xYeza6DHxYXL66ww+T4kfEicPw/wBcXwv2OmYsPXeVTovSdcXroS7ouJfgzd+sxjiyo6W6Nhj4Ma1259iYFKl4FgZeu7LmNW7tjtWo8fWjh/XPhx0jhfEuHIJioxelA1RcEcDERXKrM/wEPjVeT9izqfVbMlLNcxiWKNwyF0GFvIcJgpGMYm3lFE5e5ki3HVjCFmGbYSfDbcnGSGqLkk94rig1ImPZLbLMRNOSQo9f8evmalKzP/N+nEhDFwIdG+MXd34F6McTEKjIsQXpAqX0IZDIobaCTIIIehdGJFyBogwo1WB4ix9Vem0hLoUfE6ui1qYaRHuiS41Ibf4Kiu9k6rUdcEvPYcHhDcPIi2LXoTqyBcS52JQKMol4mbkWUzeyFkTNpkVzty/X47wkp7kh+h/Il6MUghkMhjT0Igf2yGh/6o2jV4CJ9qCmTzI1Yp0dObzl53Te0ng0eboY3vSbDoO9fyg9n9xyFADysdIG23Qbmoc7X+E1Dumh5IeWHkx5weRnkZu9U3uueUnmZ5mefnmIwGNHrNlSa8gLwA/CngUeMDtXdIvEj8SbGn8F+eEfTZ3Qye9nL8jybPNjyCvQ7cvxhvuk8IPFjziOxR2qOzRP6kJ7snSnd5HeR30d5Uzvob/WTpH36PPI7zNp1H9oN6Sza+sPwh63oNgec2/ekSchaCl4JbsVxz/Au0UTVyclA+dBgHnAi4lJs8rijSXuhSG0e48gO6A02XRHZr2C8EeGRrdRI1iw1jPj15qT953WoniSB/5iNq9JFo6HcWm6EJYfgvgYqvjdJofAqMbEWhEpHRqOmBGKr4366/Wr9RjGMYxjrqEmmvYlcM3aMfwJ/8QAKBABAAIBAwMDBQEBAQAAAAAAAQARIRAxQVFhcYGR8CChscHR4fEw/9oACAEBAAE/EBwqkqinLeM46ajf/wAyXBNBzK+9DL4WdSY0tgxYpcvGu8lXUJ++AEYOgsLwsPUYtkFuNO+Y7FEjdhU0QigOsuah8ZvUbKaXayxlGopsuKUfQYsgmzTBVAYqMHvifkRJxKB6oUDaKOvl7JD4rmEctqga0yeHaoBBpTarswz1VRCQm1axbdywGWr0YCOyD3HAOx5xGoAod2IlwpGKqLZh/o1BpXsYkQsDGp4YJhfRLOSFvEEFRItrGxBER6aDVwbgm5MENH7I/wCqRBz7WcBoK5EYRw2rsw4xeHP1gor/AAIiwHlCY1Lwy9aQsDbR7ss38C8u3XoCHN6GIcolRKvKeRwv5eVhuQIAD+SLY9klVRnTrgQPSAqE16aAT/nSiynggB7NOcPRSJ16e4bMHRg9stMcQvqo/eISivduYDQd7ujVWenJeuUjNinIQEVMMsscSFATqTZcXMNHALM+wODXxL1F0vQf/EIs5gvw4vby5cvXOppeotIrxYzdWLjsasBi1IrVbbHjVgy4oy9pf0cxQY/DJFvNVpcIhFpxCjdgvLCtwZuQ8iKbvDcvaRdHG7Qkz9+EI7s8D+5Xsfj+8fnf3HrHlzG/mR0CQoRKwy+XeBhZfVjgw92ZsT/5CVUh8GG2A8ExRiBVQl6VpA/MU5IWqOK0y+lu5KzdIO8FiKXAFVAmDII8heSYI0kCKHSibi6ExnHberwRqh4QZOkrGXA2jdNhCKhwvZTAhCCZdiEq2BCVLbrgLS+pN6I9cItur+Yx7MrRez4Ys50QLDvAhcvRjhl25hwxiAGZQyqbTBAhEPEGCFuI2lZlxguR+Gp6WOhDfSv/ADWbwMz7DAyLh9CYhNtLzpWmTklSj7k66A8q9XQ3nMQqCQ0LUuYln1kXU+gZcWGxB+gsGEMMvMdG5sNN2UTpLjvNsx0YtQw0ZeSOobvlgYQu3CtDR0iVVII8xuNvB7EIMwXZRod3+BGym74mBiicELGbUo/WTgP9hZKTHLLdAbqJfhDABUBNgi9CTHtFTcnv5BMQil4C2AgHEWDEwLpbkEPMtgl80b7hsFeYxjwAYrnkN3CpRe8BntGgUiG+0W6JSxmwETlBOIYA0DqCvmRHau9/rYTLt/eJUqU6EqJDSoEZUrRIEMsOboZvOv1oEqO0P0LA6BqiYFY6QmYIEWb6GkGEWDcaJSWQgi1OGnTRYptHCbIpc2P1uIxdLj9DowhH9wS4BcG0zFzccu6Dlm0SR4JRRBGkTiUfNl2GDaVjSHSAVAgCq43McwHX3QNvL6Q2tp5EDYRumyt7sdTGqVXyd4rcqA7+ggSlw+AF67o2oxdNPFOUaBwA6ekrBFw+mNExUOHgsVjVFZRbUytzRM2GUKvgiKmxVPAwhMIVcIiqUQAN1BUZnH3XTCheJUvLmAEGJU5AlOYNE6uARB2lMWwECUKNpddewawYm0KsWXidi8w9Uk2e9C0wnpD/ALGhA+TQh/2EOs+2Ub+IjsnwSdZ+2dX0F0WLs+nTP8OmcqMA7GlZDIpQNh6Q3E/W6SC8+9DJdfMOg+6K/wCkP9eJm2dvTBNz6YlsnhGYvcl6snVGXg8YYErO8CGFg3e8u0xcqiO0F4wJsQittAErUCGCcTNaV7TYhFIo8RaJiGCO2KXCMdUxpg/S6MT6C9amISlwLxwt29mXvIjQQSWwV8ELSEmgr2lHDZxBe8JURqM6VQfxjHbYNeCUZ3vzlIMqZNPdjDVUNghuvlJ3e8KQAlF+xiHIRodZzOxqFlqGqa2gpfHQyqhhA8ECTA2hTIOcrETTaZtcnZajEn5fxoDm/wDo0Bop0Jb2iW4GJhPu3BUYaOe/EZETCCMRZlwlZbBVCDxMWZSD4Vcq/JzMPm41Jet404+i8RlRDTeWL0M+EbS9PWV1l7a3kIYW3ohzezin8MW39pHcSW7e+yzZnqmDa8D+5VsoDcF4cReO8yiGy82jVj1VgG1vMrNjeafuUcnpQo3U0m56UyF+NT86BAe/orKTJeElFge+Yl70f0QVPcfzlrVTyH6h/wAFNjf0kAZPgzJhvUgmsRRQkeFrCJiEC9EMyolSrI4aCCmN3q3UeIwZhlpuzbRjpuiaFDLhKmOpOUPolG4+mLzTAXCk533WUMeIo7QwR3wbl9kDwsvbmwGIFW2rFtusf4CRYxXyJZs9SRf6YJ+UsL8S7vCGOgDeSEeuNsQRUMTU5LVLfDCbe5zKN/WCJRzi2ICn3jHm+VgGUkkENYRdjAqEte0Hn+RwQHa7LiFAOcU94ligo8zdcy+XjRzMlAbSrMCRsobNxSbGlgy2xjRXK+5AsrZjzB9qPtrzDR4hxofUS8zmcwo7tJhOjrsmUCWlMCOKu00BLwgE2xoSH9Q/KYQREdkb1NEhtHUMy9DDClLFdz7RTf2ko/UoYZ9Mk6J8LOgHgf3HhF0j3QnreFqt6X8kD/IHKA9wILZPJlG3dLIaDA5JU1r4/hGwFu5GVY+NvHafRWUb+7FWX2SF9g8XmW8on90u20HY5vTUdw9zP+5iNxIV2+ygh+olkDv+qh/0yeIPMW8HlxeAeqi2/jDFd/RnqelKz8CiU5aDbS8uFgr90BdjBP5i4IyCGbEC29gnEAgZ1ZSybQqYjquwg7QYpUpcpEhCExXiffMERyEQ0F3DH8K6phqPYC57MTmF6g+5N13Uxf6LZC2gX8DBOWUaUitoKYuU6GILiCoFyotGZTBQsFfCF6Mqx4PwnOufqrQ+jiEN59qiIj9NWQW1CWB0upcNLqQV2iwrB0Z9/wDxKLvWVo9W0xUmEzbGAN14IU7yz0diE1dxGCVKhMulclKN++VMz6jyMdBpUKb7B7vaGlOwdkK8MnQKbnJbh9BlSkyTuzxtN0dCBk0qExDmAjDQsZbBa0Mu7LesL6xUit7wSpkqZ0Xio6suOWMTGnBCVtOkHRjCgRCiE2I6mhrCGjZo4+4YOhL1AkrTu5hPWZx+dMnlHsFFYpMQ05hNIcTC3BQKIE3Sy4rg0XLSXKuK+w00XepnI7f0JWYaETaBD6TbSokGhvPaie5/JEjDQ2lxUwRcgK+YhBbilhFi3iZetXkhlLAAo+MkrszZUhAQrZnWokN2e0Fl9buahaLjtlZAlSWmxPVZTfUSxHdRkzVSrUqdRiYphYLXGyqYK4lz7qJZRyOzodHNXv2iduV6RgwYrpTsMjH2FornekHIUDOg3JQWaQdyXoS3UMOIZnctQD3YwEDZGyF3MMavIeBYb1CTSi0LXwR02acPvTGJejLl50SBiLGLpUdD6HS8upOSBiEXBoTcitOpB0UAuMXQ3heghAGoTtCkxA0wrxaa0NWMauA5MvsR22UjLAjxAl0S9OCEIJYiyolcujZhherjg7Ctlg+pLasQl23sYLt7GFJ+PBdl9EHaTwjAtxTM+zLY5Zm2luCVKZSRviUzgjNpvLlVLtfvGMrbVxDQFCS8jedkmVBgLte0VdWVDA4dVAozM2tBTyXMZEI2I7IwL27cDwIfsnzxDBFS9P2IL2CCiaTXYCIbnmGRzOvLP2YUqZQVrgjsdoJKmkl7hMiUdhQyoIAAoOgRN3MQVKEs7sKdLGsh2Ms5uwFgreoMowxmuyvBtHGlQhpoqYrmzkDLlMC1OtF0Z9PIlkvzBldw3nsRsc7y5jFo6edlZhBViWPUdWbE5hGLLzGGWdpxEi0xh9CR3jAjhDtDjTnQdoTdhEeNFC4hWWS0qzCEpqGBAwS/FOGURS1R3tAly9cQUezSaVqtNzKQ6zMAihEoLiHAioj1VwadElBcbCcYIYToofZQWSKlPtIrv7E/7TOy90i7/Uv2funQGT/oZVkkPGUOePdy8Ay4+3FTb2UNknlJXwfJmQPs5fsHbOUDW5Arhl2lE3fJNjn9RKObwpRvEDmzwI4LXkSv/ZBGfQEpwvfA7DzI9wc8yCkTRs2RLdXkSWcLZR3XZjpycJPeOaQ+MsrLm9kbIGoREeIQwAADYDEMLWnFQrXa+SFgbu4sOpJakpaZeCzNRsTaSvBEfMGAtQ0ilNAuFLYmTrbd1cKRun7wrHkUMqMDQl7TtjdNiCKvW2NpKtBFKmTdVBsZVSdyqUnKgtaPLEm5zHsuz6M/w4TR1LhtN4S47RYxbQ21dBi1BuVtHRC5VQm8gbTBgXKnTxCDCHHxLQlCbwQNXBAEzllOMQXUNkqFgWQUSAmJTUMRBXfQloQwIdBDfVIkOUQRBYg7EI7RkiN2HLmKhLhBLFpiPqgxp8DJZW06ft9K/QMHGhoaXpzFXr4e+fzLg6JbCNVBLOkF6y3WXbnMt5A223GGrgfvxZyIirmQ/wCXKdjnRXgf3Ab9WHAfViOu2UU7DyGO8PyKVsJ5eD2c7mPKfNPww1D1AxDZ0CBFxBYgAR1UEPQl+ka7l6oncPXAbtBVBZfQnAJhXI2UmIri8h+oMPutQT+rAk2MGsEfGWbErQMlphCQ0NmULbMrmMHWAoqlvDAG54IB2nE6QVWFM7jP5m8hAxq6O8rEA0smI1BbcVhiBVDMDV2SkyxHcfKS0B9Ym/tnAGItu+FFErwnNioVtk9AhT9+CHTe2WbepK9D6w6lxni2FO2dLstlZw770ST/AARLd/SSXbznJgs3m/06H+whfdfhwBs99BOwjfXV7Rs2vFgCV4B5RmG5wFhhzD9h/TNj7RCH5/D8x3p7sjjeWv8AiJQS+jQD7IGJGb593AsRFIXCEzNgTa4JVysokC2YCxI9KCUuH78YHe4e7MB6SdoP1sIfWbwo1lWrzis6b6JGBTDiXLl6jiOZW2m5NosS4xBRUFCBsmZ71PFoZwVKWB1vFyy7sV8pRzlscuY75fIMfsNAbqYJciv6Zi77XVw/iH8nRl5aeVAt3gfa3RedAfQ/qH7SP1H4FSJHNMbYjCh3PMCL9/nRtKeug93B7KF8S3f2aL7p6Ut/mQo/YI/6xM3I9BEO6Ejvd5nrvLo75VhtIHD7af8AISowXoQGiQEDQ2jKyQPt211F7rtrlMCBoEoBgVuJQgsMIeWqWUeiEG05WEhuuwER2AvgfYamu6qYug7sadgZRSXmBUCBC+JSTRHlZ4GZ0L1H6Tdd8ZcZu6V7GNgu0jDcO042jjAsWBExNZgixdjHtRikhEzgSAU70xb4MoD9c6MPoNCMuNkeKbg6GqQ+pho6GqkFhBaLStAwDXYgLCBAUbIx+KbbqkYha0ipoHCsbpNdCdJrrGGdlZe5M+TOju0l8y5cUgw2kYwdeCkh65ro3+4Dyt48hAcUnt5aCVzkP0Bct5MR4OPoOPoOZWjoS9OJUfMYIEDA0y46kh9HCV1nTQYy2nNEEAQVGADKzk8DVMKztCCMSkyMS3ZosOYI2W7Yp5vvo3wu4lT6m0dKdhlG4im0D0rwKp8sFAMuihpqXfiQIuGBldA944e7vsH3gXBUvOQqxIiRglE9+TwxOn93EwZZgtKzGUbShxxMzRceoL4gwnp/plgs0tkSV9Fa1obzbRih0NOSEv6Tr3mgmFRhWg1qGpGLBg6pAq3RR3d4VE1HBBvtK2Rg4l4WWuyb92hvS0NVEUxB7VYquYZGVPHbljNudEbMdLjtpmJVaelh7l3hF3FKq5A8EDamjQY3bEY9CQIwehoSlid3Zn+rAAAABsBNkXV0fob0IsuXDhBKlEZRMSypZcI6XO0KnETQj0kcX1YR+AH8h6oeEiWLsXGp3GVQw3ljYC0aAOWHj6X06EIlCbvq6KrAXDj9sCV2SxMwEPbTisvirjt+355mXRQ8qwgwubijjHaLS+irQcUMRzljcDwjPmi+M/uEFh9TBC4KdSd27Y0ILiioaGNJLVm0i3B0zF2W1J3J/BBU4NQbGBLTwzTku1MS39NEgbT7USymaprTkB6odP8AOkobb1hn/EYTzbe3l+D2sFAPYwQw/pmCH8CYf2IliEG6SFhTlIRJUraJCOSH0VpRKjcSG5A0TbRJb6N1QIKaKkyAXYU3ICICgFASxOYxhHQIEMO4CMoAAAGA2Izfm5DHrOsuMYsUUNKI7SoxvlkZxHeYIMy4neYsjjRhU3JBZkGCIS4wyjtc2Eqg1oqGNfu/BHrOA3HgRm1i7CFCETRruqRoKASwS+iMsSPoaGCEoQNrHaGgGDNqPI+jYUUspZ9YkUEV+Klg/neDd5qKobDSVCZxUkk3FivWsx91cVwWCK1oMKctjt75YLM+Vgy2CL/3xJY8zePZoy9GFGYpa+i5VqH+xAU3yfeIxbD+7LJevMorpEO+Zdx9pZ/KKj+NBt29EU39rEb+2gpn2MX39uXb+8zowVOC8BMnhJtsPmNNedt+84A+JrDK7lgG3rEHB67xL+oVsM+GzKmx+15Q286sB5fBx5x64Fuh2BDvvE69y9lgaWfgUp/aPwxpz5EDpjzEDc/MDkPwEG2+/EcHjGGwibY3gQVt7hKUxmYt0EQwI6sB0Yb6KahB1LFALuhlhxrUqbvqMYhmoqENjG7lYgVFJnTV1EbMSpmMojdQohYxSxMkdokaiXFLkvKSvf2kCwTsShzGFnnphymuAS2QePzTvnow6P4dplkOl+HabTR5GXp+Nif23AH9kwCBSUaTsIUWUNcME2fwZcYSDqbS4LAi3q+7Isb4AOZG+vNaA/spKyNi7Jj0dGltxYRYizozjTIuQvvFQP8AiWRHn0rhrcM/RdTfRRdTeL4PMwGBuHEqEdM6ula7QWt4rcI10JuD+SxRjbokHIfTpE9g9Wc4HgfwxtteKqqMIgCO7fqBUn8pHmfVwDn8iVbeUj8Mw28gEpfYHKHLfHkldWXx/CJ7+kkRM+gv9wxUjsn7layPv/DMmT9cH96hwqfJ/qdY/P8AOP8Awv6gm3qA/UtMe9Wg6xXsyBtlvYM5fuR5puH7eEx0NNT/AEs6c/8AmsR5PAsUcX8QeB/EMtCeqdPsByiQlOPIlQe3qBOyeZKBh8ljge4Mrp9yjwg7Jh0X3fuD7r0E/hAE64fCAd0g5X8qdKJ52+YH/cgG0xU+7aBoe0YYfxoFt7CBFBehD/EgZsnRIYLE/wCNCvZCmsPgg+7eRBTPsYot86Yvv9tBK+wJcvybKRR7Ij7MIJ/sVJ0l5QlA6GPB0B1GNISjwL7w6MvA6cRqXBl31Jj1fYbygfCL7zAO/wDBBhxpc6RLly0r6t2GJUCMubU6XdftJqTj6M/+As30XbQ0HR05ND6X6DXNbzMt6y3Vgu1xVJuieScX2kUw+3n+Fy3+tH/AwgVX8cf8PP8Ah48HsIGY9tO29pR0I8QWKi5laYM5IsW7EugmCaO8MGly70GbiULKmb1NiH0OENBDQfQwajO5cRMr3YTo6EtX6ZbrtESkb2ZRBXO0uJcSoUVv0XLl324U4F/PAbOv8GtfQfTUNTR309j4COIBofRvNpcHH0ErStosuXMQYssYOJehBNXb6Fpg3HVjoa3LjDDHJaVxoMuMZcXW86Lq8MN4tssXfMGIbadWjUGH0rdoONKmb0kIMNBCCwIQdWMdFpgWgLZjB2YxYgN4ZBQujq+It13P7JSF6+wYcW4X4SmAypWgQNEgSpUYEqVGG8ufZp6hoLhpzpUI7TZMjRgc6XL05laeYQUBioROYKhFxptrRUR26vMcWAg3HW8aLL1IxlwdGVob6On913jpiVjU3hLhqCH1bQrQs50CEIobS9oMIQ1dHQKXTRHDWowRoij6XRDLkDKsmWJDLVC0PDxOhNFuaJYxf6ydEuyQDvFXtBZRt8KHJ6UA7p4JOdfpCrf04I7xOuXszuhR2McyXmUMI+qHL5UOuzz/ADhf8j2lldgLvDH4hnMFnMF2X0wTaUzZ/AirYe83EFvUt0lukSMoRIuJqQIiM6tD2QJUECMSVaQKlQ1BkdoS3EUg3OIIYizjSzb6OEvUvJBgjtHUsuOmBNyMcE3O8cwIxsmyEYwjiBelNS8ENodENiVLm8JvAhwymbCVOkDQx3iloMDR1Yx7ZDVy5E1poxVaASXtmOl65nwe0qWvf8iZfKw0GjqaOdTbUCVoj3b0JeNoW3eUUrNylNWiN4Cf0UmXP3iWYYHV+j/c5qO5OrZ+uVbH74H+nlG32GcX1nlL+Vx6p5M6q8uYB9iw6/6mA7r4OG4WJy38RIKvj8RiUXOwX/ceLej8GPN5hS3d7SMD3Z5/nLePzf5EKQfZaOBgSp2ZKce1hFUmOEZfpLWzFdsKcaCTiCaYG4GSDR0qVjRI3CjviXN5SekfE5myG3pNjF40SXkjlEoIWyLcDL4lZgagXhiY0all5SOH8SP67y1/VocQfunMP4kUWN4UtMKdRw6IuG3oT4BH1XqhFXHqSC/szp+zh1L0xfaevEntOkXp50b+iIHu3iXXfxMPp1w8dxL0GUChIX3KD92uym3e/U+00ZvH6CgOkFgg1AruiRbm0uaYunGlTaKwifaEs9QPunwPRo6aH1XCEYaDr9k/JEvvIb1ftxxsaQAAKAxKgS2+i9QeoXYgbMG+0qGJS61qEBLgWXxiJUsYPWD30qlIfJHdP5MTu0H+WEWZOwp6/wBTgV8f2i7AOwUsQb3gMKVeqPzMIkjHuX6nC9ZYG37rx4vdPhL5P6YhyeX/AGPyj8xLZvTjuysdIevQ8Pye0ScfB7S7d4/Ev1CtckKVMW+K9p/0TH/eQZUxW0W7+7lvgeriPg8Sf2YZNnwmf5kv8MxUz6QQFz6IJ/IX8lJsStunrlm6eYHNby0qPtWwDaKnb2MNgXogLgvBAUg7S3rqDUhDfQ3IOIQlw0BAK0wBG6ELEbEhDQDxN0b0zfx6CJ36Jo/dGkIMKbBU+0U4x1wS+DeSPsMwnT8c5abioorUCMdENMGDpYDoD7QaD0x2nufcRjWlEdDTiP8A4czeefswC3WB1F90qCj7ZzHQZdiqXB9BMpJvF6PZZ0qsMT6WC5OEfNI3DNlcsPc1owRKFFu+DQlQMypVksknWFdIMd6SbF3SDQJ0imB8mABLEE8MC9oQQ9UvZcF6EFsopgAh2dShTfTcVjvNLjxCGgaVaR8TaOYaLpZZ2NCxgwxovOg6FlxdCG0YMVQ551eJcTEMEJdgsvQIiJnQhUIbQ3mKhDQhBEtYkQoDA3l3DHMUIrgw1WMEz4V2OB4SF1Bc+mpa3gklEYxiaIaZRLgdDhsjz8sivJ/DUlaH0JpzDSs6E5ho/OYMvn7w6VM/VOH0I7SgBrH6YvNCg1fulVsSXKZRiMGhxOg1nZSosy0IzH98XrbQIoCgwBMi77jBjVSo1d7sQgie5KYJAwraDrCPltOJknVs+SH3LKYOMGPXbeZIATqy4WpYMpZgqfch2lhTNyUwPqrbcFwIjSNNQPFpY/TnFAsb+4MdTLyj0xWYPP0Wt5SatW8AE2SEzp70bV9Aw0uctwlpBSKO/Bx17nXDsYEu2MdGYP8Ai0d1RB48+RhdNRIoe5oMYNapoGYcFR3jxNybyoR2gAXneukNAPMrOqxkxEcWuN5gGAAmGBlA7NUxHGlOYBrKPzFF0qBCEHbS4TiCENlQ8S6Jm+ZSEGWJtMSzUCYHQdoKNtKjvSqdFdLiJvIxgjHR0tggjscF3xRKZF0HledQPKLfhMWzLS5ipaU1BSoGlyomhG4GiswXNvGi38ymYkqH7ybBoSEYUNxO5KrgNbewOhGerU3fhGKsRUQ7VByRw2CLFVsXckW+gYKk6MXZ1rMmwQdPbyNSjaEzzTE2U2hfRaiHo8ywICICAAMMAO0zEIOLRTmKtrhFesBGunVMEdKE5LiG7snbBjahyb2hxe0bScGIDkOYb/P08b9kYvy+qlwS9WFc1E9tltBlM0kKE3VgpXKpRJTazArvkpDy3Xex/ZBrGI2D0QnXkLwuDagB2I/RDhXOIQA1AsSVqHc5AWypiOYNdSBhjoy9oBUcWDzLBYjGztlzibpiDnR2mDPSMRBc7wEwcfCZmxrwTiAi6QxvKoHDKgNpYDjD6syN7ATcCAqxIpYiJeEIGZiAQIaFjJHguEITZiYhGoqeGMquxXrpm4aEE2OWtQNku8Y9tVZ0RbxuCMOInDV0qLhAEmQ2Sudkl3XCbWgAa2MN499Kn9crPyMHt78eL1klez+QnT9RStaXwxh6NvVgB+dDuntlW7+hKtnhaFjnbgG/tp3Py7RDf02hulZZKLiKG27FYVD0AbyEMdALcmcMQBBvZEIYBB5CD/7EJQ8BAArJswbkgIUlwdfbNBwyl0TexGBfOJ6q1yocA+0fot0ijrBSl2yijrFsxy37PSXi0Bt2CKfqNwLLkYcAvMFvrV+6FGus9f3YekJd1LNrM44vj6RqWlb8tYOCTdJhlN4AoWlQYJsWQeXvLFRFo94DSBKoD5MEx8UF04BBSCGpwljuGrixUgxyfBHvTFtvIMQqMPbNWbCCEzZ+/MwE3ZgMTpFJe3N1Cv2odkuMOm8kWXU6bqmXXuVA0PigasVRTAhu61iVMtkc1EDAMruzemJHqOF2dY7JyRVG2KmRmWVbNBMl1l+wi1Uyt2mDYQIDBQUrtKhDeAgMDSl2ZVBiPn130Cy2M2JQvWI8eehY78/4xfoum4rLdFEWEXcRMElwFYYZqYY93ZJ0S090aH1D9po76jR+kj5jCOSVtGWYyXJt6oyz1lolMWEaxnBL928hLG1/TLt38wUkNi5EUJsxSZtHC3dg/DK3A8D+4rtXxE2T8T6JvZwzief3E6I+bQ+BPKxox71mJVefXQA4JXVeYH4YqmVnehOp/BQodKxXwElrw3DY7EnVYkkIXQF9YMNKGyzVkxxfqK9p7pVmG0ELrpUKYhdn+cXyPh/nP74H6l1khsBbCQfV+SQ0hHpb7WlGyyh/gjGVXU8B4EVn7eAkkTVjIDMj9hCjklnaEtpZv1pLRFROaN032gyYgnaMIXue8DZ9yLm/eJTv7KdC+mEStUwqBfsYgfvgX+8SdvuTpJ4kPsviXSf1xttIWYX2IKY9Q54XmHZPR/IM4LzK2weqmfI9J5ReJKZfcSoCjxF+BkuBnMtG4+Ahzv7J1/ZTHMLpwCPlShf0QXf30No9xOyClg/5+dH1UYFt67T9IUgXe8mGGm8ojw/bMNx5yP3mZ75RR9uI+zF8T0YE3Gz8xIKuP0x9HEdFsM2CQ/ELwQbBmLR43Ez8fbiOxKP3LZg6rB4dNQNKr/yJeuRyD4A+0dLiiZzL02BCW5zoakqcwim5876fn0FHJ1EPuxBjLIKHJC3J5CIAGDxD1mHFBEAbLO5fSMgzL+GK2MpRYPpCQjrlVRFrmF1QO9M6D6D+fDxft+jnQ98iw0js/rqPBrt/cLDEcIy6aZSH+3/UP8I/uXiirk/tHfKo8xrZjxfD7ysaBEf6w6r4949b8e8pR+f1nd/L/Uwf0mDH3JXB/wAed79MAkBbB6Zjx7OcYfAm2OIGN4L1lYIQWFPDOqE7ZLRDYAl9BDDdTLaLBCpeIBU2sEWGLRMQ+gGpBhoGoMHOty2IO4MFp180PxM43369mIORvSPwwEm81CEdF13FKIgRADZM+SWp/CwjnSJ6ruUVcPoBnH1P0Vqa3L2gXzv2l7fkmjofAXHfQiqOB2IuSO+h9Akt0GmIUd1MSiK9H+SG0KllnJAo7v3spLjkYCxYrydMV2v1lwZsYbuBjyawus9RxHSO9HnoiHWAsduim/RQgzKWwxuDr5rQiw67r2JQBfZYZnGo58j3jd7BD+w4XMxlEi5vBRGXoXpyTfRm+2lw2qFwwJUHQSVBRVEDBDaYdFTmDmDDaWLoJcIRxB1UuEIQe0GXL0XEXJFdewH0OjAhoC0YXsZXssq9gz0kN+H5GA17P3DqfRWYkdDA1DVmXxcRt4bz5jpdHonQxFmW3l2YBZ0DOlIOgAdkhMDdbDQN0wA0Sy7wEGFaDcVMRgTONuNHCjxFcXM4y3oXEr5H13FmWbBxCcFbIuNa124cptDTskqHhNQOqXL02QiQuQtJjQ4rpvssOqtJPW+IAGzsoPG4QFbDI57hvWoCgIzPSBdiJ5BuiIRGppgdoLcdiVHfJ0uJdCKMZUumDpzNk2ltQSBklxCDlToTaENLDNEqUXEEXBG7CVubxtr42m0MVlMh5uOx4iQm8uiG5AgwaENyKEIaiDB2gy8S9GLiUqT3mjcvUISrxFkpIQ2ZSFSQWHGGk6a+tkb2SipOdvNSftKbF65ILtMG2lC4IC3HvEoefdLR6TEuElukrbGlSkNK0H5fEWftTnRJu9v2iZlTn6EHVO0CVDI9JXcAbgxFdE2p9peI8PSO86HctHskHKhpJVHVYcEpoWK2RwkdZxNBbfG8J1yAYDpD4ABMucPeVHsEVWWwIUqJo7RjV92iOgmGCo9BBwQzLRHsrglmOdFGx4RIwe0QoXsRZme4V9meALOlUG4G3M4mJ9Vj00GAm2IN0YmyNRWbXjQXEqPM50VII2X6lTKSktN2MR8YlbzZMSrJOXfUQFWwKljubynukaTZwlrvCSrjpLEtCOYGkJUDTaRYg6KhKTeGr9Gz6z5jrK0d5Wh70UEacypRoSMb1Sj24WBFDbV1LEdS5OTfIWLmfYT/ABSXb+2m4ezFFPsxf+jLzh4RFOHw48I+HKcnpshtj6o7aH1wPaLpw/4JK6r1kh/raJO75gC3OBg7R3Yucw3RGmBfJNe/hJiM8BpccB+SD3fxDy+kJXZ9KYzPqKZS/j8z5h+4cx+l/DDiflztfy4JSC+yfknieT/UOh+8S/mr+YPtGKFiCAC3xhDVys0jLzBL+1tB7GXN1FraFhVQ5jksvgIILtoUFEeV7GhLmU3RXJuzaZxGJFLuYlMy1XRglZiYiG3vKlRJcm6+0GYogIMj2mWDkgUjzCcxyzpKGnJtMBe8AS8wsI5G5sMcTtSqk1cKn7CB3DXUE5B+mEbudsBgx6NvjDb6bD/32FZ+yf8AKYBwfED5T9aY+L+UOjgkx7TDY+0z47COn+kG29nE7JBeyeieIDMkYRjOTzFbHxdHQIWgBUBVyy7xwSwQG8y0xoDRkU9yoLeYD9yXPJRe5S1iGCWxNhF0vRnGtwlzeBGG+/8Aihsp/wBWjiEBaWSA0rQtHmDbw1YvG7+of9MU5r6xY4Up1UynJPeS7mN2T5CLb+4R3CQXl9khe6ggH6ij+4T/ABx/DK7TxD/cN4PxMPYfEKth9cA2Pof1Hg3vgK/ceJlHryOuFc/pYB+Qf7OqzvWAszZc3v8A0JVi71Med+4UL/g+04L+8mTKeP7Inj0AfkndaQnL98nZ/h1nRnskYext2ZOXbi+axDaGbn2KIcniK8UNuG469Y4ttWX+yY4H3P5JZsPlxsKDzMTY/WFyT4HMGC9Zl+5eJ/xYdRfE1vwRhzp4R+pbv7U/UUwr7fxFd38wOVfHrKWW/LrD/UZwIEQklexn+Kynb2MD29vDh9tD/EQDYvQgOhKO0oxgh2CFYaJfgiH+Eroe0/55K1tnWkMDdsplsxf+clrn0rIq/r/SPGeCWVV6/wBZ+l0DaejfxHe9yovvMuL1oY8BNt/4GK2+dwJlCQyuCbR01EBENGbaEQOyPpUIK7h7UmA/DcdAubNLls6f+Fy5ZDi7pYV4X2lcsdAjFSiVKTtKiQJWgE2cGbuyZBUcEmbNsIkAVOWJO0tD4ZgMwXrPVmFwHrTARIdF5dNoXRTxdTl+1ibBKWjZ5J35l2S+gEotAlg1ZEjcnJOkQkIvURHUhi9ZFQG9EkTDxuAUitrMpZoy4/QN5O0GUY+m4uZcFheoZu1JDS9oMHQYbSiottOmZh3UuKpcuCS9L2l6FM/yONg8MDTd1+bQ0XdhLoiZuCrmJSo4TMdFIqNcue0XF0P2lY6fxLouZkwMRj9L9BE0uXj0Y0+CND9C/TY3Q0EJU4tldAlggOlaEqBzUFkJekvoSw4l3lr3jueNDebkuOYi5SDRiBQwCK3CU2qdcmbaWRldhYpMp2MUbnDVTgH3ZzINVDMqZKWMqpya8aKpwS2ZQhvpzpUJcTPQagYgUwhLV8S8PpGLS4MHQaEGDoGGly5edFvH75EX1/JLwG4QFx2EwEG2MAIMCjMVNCmYK4Q3vGvSvWcWefpFMSbpsxzEhOZWlfRWm0ZlURk7H4wKfoYQ0IkKyLK/IzAOkwHYlhlwqxIaVB1TSrHxMdB0OkeNeLL0JjcyVuzMQtdi8OhYMFNWXW0dQGioqdralYlNEsFoDqzcxtHMutKjxCXaQNtBoqknEuXK0Bj2jFnQg2EIEblr1L02hCG+jDS8mpBxqvS5eiy8RZu84fh8wtCUJcIp0ChC3o7VDK5dQIRAMKlAIPaJZDEYChzVfuud+Jfn0AxJvKbfzl4nuXmf+wmSl5pJtIeR/UGJkVj7Ghm796GSfZfmX/wQbZpXbSOjGKVL4ETuQVUCyFloBaB2IuK6QHpEgaUwJWZQXxMAIdbjZMmVKiaFwiZlQ2lG+l7aYqJBHeFRYczMbf4TXNxHw3ApgYgz6ycSkC7KQUJuMKN0EcMxHY9oJtR1DWY2BvMNeiK1IAnZ7lxKlrkxQLRszcvWtOJzHSoGjhlQIM5IR3JwRC5UTDDjQlGboIaETOlw3hsRlwgzcGFJCpcTofViLDeLmbP5dAEFmaNHTCkpKiRcpNo2QUM6ldajAemL1UTX1thjBUNoXKlSrBROu3kGLb+xFt/bJ1fbzfv2M3ZemK/zkv39qKS+KztzxC2UyVNVG5tVFZwTxxIHbwnKmx9cA2L0/wAjUB6qv1omAo9RZ5PmVO3rQSql6xp5fLlcV8zprAeiHVfS/UA3Twv2Shy/iXl9CH/R4l+udgwuoyOf3b9yjf2v9hXbtQx5GPXR5n1x8/yh96ef4w+SfiWFcWkNu/sozZZLMQB4lxXvUMDHf4JQiqoIWTV3MoUEmFooxFg6QrEX5bRUWwGRXRnCYypA1vZY0N1KQtUMEcxQUI2Xkavedph1kqzaK4YV7pSQqKFW+6H+cjZ+hK94SI3Er/lnX9nKd/duMyjhA/lP+o8SeJZ7I3Qf1Sjs8nD7Y/cJjLHrlCUOHOBSUJdo9LNmEbYPXP8ATWhH+3B/0Z4fvTdlP1gipigKdBEEbnrn/TQ5/DaA7t4l2V+kqfwGgH4QZ1vuZU+hL/U6vkFGwPWa/M+2wGKol0k+D6xwEsiECKzI1BxcQwyC2sUZCc+BPYRDBt+zjcbRTdCcoZhtB+m5nS5vqOjN0Bgtosn6iDLl6jjSoXKjGG8eIQjAzEgzggZgtby3rLesFjMpluVvQlRX28v3SGzVA5Y25KOlJZNx/nimcnl/sWx7QfuBcjwP7mXHxO8r2+J3lyZPw6xooP59ZVtPQzPLJVbC60pTb3MqKPfT/qYqZb1w6rqPzYGLufP9Ydd8e87X59557z/Wi7H4rgFfjyn+eA7B6YBsfpge3soDsXgqAj3QeqWd0zBiTdBgtzYQdGKXmXWlZmxLithot1DDjS2DBy4g9JuL8ib56eJcVDvQtiG7oehgH5GdFQVwhzEgrGqBgXDYhL8zCKhdfxo6K6P3QpXyZ9+gg+jnEPpN/oYuJujMun5xitL/AOWpBjCC2guI3nuFiHpXQLulkqmklXYC1buFLCyl2Fwac6mlZg7QMI7zmXBs0KPvEXEzq+rIggStFibIxYDt8N13VLhqr3AHoaLOforabJEmYYjHpG4whM6XOkMC20oXT3j8m13XURyjYLKTOzoGgOqZhtCdSAgttlr4yeY2bU132AIIXqPfBlQ2JzDVwhCbsDRhouO0cCLOgxYMuDiDoGXLlxYsX9x/O5ho4YM6kL6JLI4FREZdy6Hc/wCImB6HfcQoaZSfSUuGGJX/ALJiBtBRvEB8viVoak7Q2AUoZWNkCubm5s8/RrYtheC+tKqG93iSkxCrDoOCEqU6VrUPxkBXIErcD7WvUzmBCInSxHgq1qJ3EiFXVwe+7symqyLy8COKc3bl7CDFUPAGYl4myXXAs20I6Vcr8261P9jkE5lSpUYqGm6WpgHlZihERLEbEZTcpWBLQanWoGs6NYkvpz6K6ucDO6QRTeio2gfTureoEkkF977xIz0KT3ZQn4Mi2VCxLSGEZz0kra0N3RO3s0koBsCeuhcKxmdIbS4EHQ3l63o2TeCmDibtCMGEv6R0uLiL3E3PX804aJmFE3wahpDLIMQ2IkWdbqdi9RXapUHe1FZglQ3+l2lOlaVDQjDiXH4cb83bQiR30N4R532tG8xwDJw9wrPt1d7d8SpGC/vzVbUADcU3Lgnd9KHuMAK44D0NTiU9ZUsWgWsEeV5NAdiGY0Kz0Q7BTclKzK6zBey7v5Kgj329D8WipomNP9CZ4dHQWyGuQ5K32T7K8agTvy6LNn1ZMd4Wm3M64plIiu2nS1GssDpdVXCJyGJk3TZIadalxi94D6ZM+2b7xIQB88As83EI20+zVD1uXc0zeaRVNmJNxGSU7J2Znahj8zeBxZrN9ZGWCCVcmZkvaJq1SUTg5CI1BOq/lHtYTN2rbUY+xOXa6ZSGu3W6RtB4ItoLVvCpxc7G3WORE2F2ckPB6Kl67HKqfqJV2TEMKNna1LEGfRQbEqsxS5b8hQ2kQwNgo8EVzdCdITaQ1ENOCVLlxiIumOBqOnTUly5cuLPlukW/IhiNJhJSfQwd5QhNxBiS+gqR5AMCc+Wool/gBEoMOSA4E8oiPPpP7ie/lLQlD16Byei5Xz+Jw59pnAt8D+Tq+hJAL9KL/sQX/wApc2PgsOSavcvLiW492NjEh2Crn4QPcAjwEetPj0m7gzi/5QU/vLaJhNvYwdjDD5dRwfg5tFeyA8GYKIJiqUpbBk7/AC6GTMwYeBlYPyjfVBE6jHhF+XJlVbJTC4ETMtKPtrGAmQi3VFEBzKFNns1LRgiFCryko+IqC/nFkm7MwuZLXf0YmeDKft1uuVl55PZZiDNwHcDoosTAAjSIRGtSiwCBlhlFL8gSAYBMY8xibtEmmKEiDnKE66Z9AqWqZb6mom0mfVhOFLmsFfcw7WFayRbTPCMfDVw8qOm59/eOmXANKMSg1dZjEo8aCUqN2U4CtkRuhmkRHkyaBkfLyrcBM48nnUvmFKIwALp1hvBdX2YR031Busm5obT1gaKoKM2Y07ZEQzKi8AqDtN1qPFwDgiSmb4GzKaJmB6QGCm3aDg3hlukt0dL16Fu8JKtlKzCbJV4lJvDeY6ykgZlN6MuOhU/RPtMPIhmJAqLHRwSyRi0QMpcxFa6n7Eo9MeSVN1ZalR0DSiJKjOdAaeJkIdmWpVwK63mJZj/CUjV3XFDi8EX3T0S8y0k4QiMAXc1SlgRnyHCNj7fI/uBG7G/BTZGAdi8f3gUo8E3fIuxGT0D65lx7f+QaV4F/iVP5U/UDygBVcASv7exXKpQjekO4N+WX8wAQLmrF9ouivl/2d/8AQmBhfJfhh0lLapE7MWSuewhA7+SCNG/S4TJP+o/k5Psf5AhxFF5xsVMaES2yWrfoNOt7rN69L+8+e/vT6pbGiOtTsxpefHmRNxw702XI5Ao3a94ZI0duV8x3+kg2HoGBg2iED3ilQ8sbXtvG6/u/3Ldpr0YERcSBCgBQUzftY4MTrWAy4us6H7AYJZtykTgIPqwlD00OgftnY/T/ACD7esv5Donlv4jzNLtCzyS/IPmPXhtcfqykbMsGz4f9gPB6Z/hSef2yfzdReT2jShH4T/I7L6AP1O5JpZfy51vcy0uQQis2Xn+0IQ/JPzCwuYHn8u8OvkLyk0Gz5dYCgqvlzLZXwe8Bt7+EZ8LxKjb3Et3kD2LxSO+SAbP0Mo2H2Yl+QGUbP5ENp5Aficnzg/MqHrThTuwrbEq1vqwMQYse8WYm8K0FYQuWkVFQ4+97iY49nTM9U9xKlQv/AMeYMPpWCVs+bRhQvpIxYogDGhq5REJgtAj4SGZzAptH/hQW8abovpJTKoiW+OYO8HjQH7hLVDQ7aSERBQ3XuQhpXLiwaZQwKTMywYUWDeuniyA2UAlpzcGLmcmkqXN0ZcuKovTS5cuXLWLoIgNhvBhotl6W6EuLUvEGO0WDjR2jpljCDEywdDbUi2lzfFmzG7Biy4suXoMvMFly4OlQGRtviNiXDiboF20JBiWDEWGYosXLkrQ/ERedFN56u+2VA0uVq/SralaJqA12hy/FSh8eJiW01QgbF1k8kFyIHfcGhuL/AAd+WK2h9V628Msli3BfBHVuJwgoIwtp13pOBNmXCHmK1vk7wyl0wrCkcRS+TVA89YMlZtqjuxWkYOjHhgyjtGyEFouI6Loy5cvMvRZcWXN4cyy5RjBlzrBoml41NHELaG8JxB2gly47y9QqXBuoMIMGL9MlMPouXCXpcuXoWP4fENiLEsm6bRBl3KiYuLmW1FuZ0Ew9P2LHbNv1JOPl+0YOSOtav04fQvQI6H4uPts2R1qxSKH5QoStl4vTlDnySj163zoJWGLnUyqUEEBNpWIJTGAWoV7WR0gLfuhWDgloJujQGb+iyIIDO9pSSpMrF+SNDaYymRcXBg7RUPhDYaM5lHQQMtMgQrLlF6VS7jDHGh20ubzmZNFzG5TM7RaIVqUwvGjHakGH0O0JUOPEqKG5zLENKijALiaIMMww6jLCS25ZBxorSXBxGu8ESYgwgxTEgy5cWXHn6fhmxDRdQvHRmDWk2JTpGF4VWXOml3bC5ZcDntZ06p3U7TCrdO8lukDtEekplOlSsk20YMTGhXPwn5QxPSBuir0FxhAG0K6nCKktcxGYLb0KEDipcUlGz1hXCYBcs03gstiNVHkmbJUTSpFgBQS1OMYMGdNFFBN5wRlk7y4NxBRoDmor+hyGDQNF7QFxsm7E2aUgmJxBCnEY2qUSEMxXYn0OIKBw02zMhG4EZbcbEjZMpdRzFbIXBm24qJmiZeWqNxUVuhGmixLqdsH9oKBCO0bhQiCAm65ZMSoRy7lGYvr9eXBGW1a7XlS6yhycnZtEcmnEjhkBmBepM6D4gvj3ukagr1LzqVQ/4cBbeosZOC4bzPPzmBz+mPU/QTPN3T1ypl4CrtGeS4LLY0AXw9o57fwwBvuCvMfgn4lBhvX/ACHJ5A/yHzr8aPz37UOJ90iDn5neHL739x/zf7jF+d6x6vm7M4/SgG0y+cPmDUXX4dJQln8ek7k8/wAJ/lX9QHF8do00NmLYc8BH3xhJOUGcYwnj+8s3Pj+8eYErUYIvs/gQT095VuVF8SiOGJ7CCm6dZTd2mPAzdl22Wu6BbtfiU5KcypfcU2C8XuQpbUH3IcoxuIhaRcWQQPyEtr8SKrY+if8ADQj1H8MK8jCidVvMU49vBYPbwoyWIGcXmALJD+H8RX+f5TvPl2nevGgMUFTLmz3cuwvoIu7s8KCPNIeIbSWWL/mf7F8fYQ/i0XptPD+w4vbRyBHyD9yr+eNH6Eu/wywT8kQDcfVMNo+qc+Mh1x8uZsHleVJaPMLI09mCzrYeF1S+pHTcSDBGUi1LOi5l3o6hMvFVzcjupu+GDOOyWoPpvVIQ413lRYiiZYGfuRX5uXS/rpWu/wBK4gZYAA3qbkp4YPUzsWFxllkpWG7LeZS3HtMx0uCBp+2m6ewipAW3+Z2l284ZhbdwsI+2n7BtD+WJF9/uzmfc/qYdej/SXm35958D/cN8Dx/SO58DzDMbnw3nyb9xGfleYHx83ePB8TvD439zp/B7zq/B7x6fw95s38/vPnf7gR+X6xplPz6yr4/zDpPn3gfyPvMlPfZlWDppTPA2k/w2IGJFaAhtAR2CHF9vHg9pKaweif5kTNNpcQVLzB4KZvePiNDdmWUDdREwTPWX3lwYsJcVmOYxiMDtCkYF0X6xtoUcgYpuvkTfl9EU4PFkppK0KmjaYCBHSABiqMX6UqMMsNIC3LZN1X7kiS9wS3mLcWIQ1dd4ytbhozIhw/8AJIn1vzaEeX9VaKgl2CW1UOtSjQGJDR0plx2h9dCBQGg41IjwMGCbXJBEUBYFp1qF3CFiu0HaGoZKhtLqnrixgol1B0ckCJF1JGk7LUAeVnA2Um5kYxUCMrTn6WG8Eimw0S9bm0Sz1mbIGjSOhV6jI0c6H60O8XOly/oWEvMWXFlzEuLBiy/Kpi8NC9BHuXqGrTKESpjKsAZdLt9guYja7fRhYDYvaLyzaQ0Pq40I6K0UcRy5339iXBSv6oTFOqlziHOB8xGszN+8YjhD2nmW4La1mzJc0SFgrdqX9E9MU4JWNLnAw0sdmvBxN6V5XWNGMtRORDbQgS2TQdXBK9mmFD8JVUPuHqQnEWHlEriU50eUwpyB29z0RGNq5pXdgbGAhwsKpg2XR8TKeKGbBdky/VA0Hg1CFzFl2aWOWVVxwyhPfNI8qy0WkKbiNiQu4KrIbrTLQPqQ1sq4OiaOhF3KlMysmwl947syxgtTiMSEal6HGqoIaOIaXBNWXL2nEuXBzLly9L0uLmXHOJR4gEGXFlRimLWhbIkJUqsq13xFfdf3ELwl7w5MwIH0OpGVKjpUSCm4GCbJ5kSv5WixueWiEjYWF28DZ7m4NBwojhdFfiZZzJC4bNkhhTp80yNVUEdtQ2DsR8IChnY2GAD2JgmTshNozZ0L4QtbpIwWXVUPjCbdmivRHoYEic5BCCLLaRhsJFdbsLL4CXBJZYrKCgnVKvdBUA71dgj+3Kk8U0Tmcj7Tqlg6a2DZ2lmy/XO2hL7i1OwGPkVxYsyQdrN2YoN3ENzFwV/UvJMGUB1WiCDRK4bIUrYK5GHWoVUqIuk6mZlh9XTBlJccpL9ag1RFns7NyxBYmQLphQG4LaEdBwFXvKWeY5gxBZbP5LgwluRVs30Iszu5SLTmMEWWS9TYMElRC4a7RcRgywlyz6VmDMRZe2ly9FgxVIbCXB6QaJoK+hhcWKgsWHyrJgXBAfvEo2cwiRAtoNeIps/j2gN18e06P8+0+U/qfKP1Ox+f8T5v8QbaRJ/ThwSL9l0guCOcUCyBVCUgXqG8CYN/cJUeynniUdPzJj2lDluwXhl2LZIIMV6IIUGCmF52m9DVy93DB5GTaE+9aazdQgZVg3oireZY53mwhxFVNNnMbbiE7EsYFvUaFDsgTZ1whLB4ODSA12wSOnfgPxCg98sXubfwQyKLxHkX7jbBYNrltdkMMcHNg8qT+qyrcnGw27iIqveLUY/hTmkbGBHL1AdImO3Bp2a1ACFUXoZlYs8JYNbNkbU3d/QwphIOyFJkywQQSELtiXsx7ZLJuWElBFS6OHR7YaLKKxMbby9VDHBH2Si2d4YIyj5hERmLMcx0hb5MpMQpECAbiQRuHvNwwZWYcwZmwm4QRMyklXAzZJsIc5nBpwR2JbBgFR4qVRN0zLrRly8y4sFly9iOMwYurBzoBX0IpRUGCNBaMLGtBIVGLXQnc3ShHvr1BOi/fXSInYlN6lFS7h7TsntH/GJ/zEWP1If5PRp/wst39nBJDye2hs6izE74tKeyri0qUFIG1eGV7D594Ocz2P8AcoV9r/DLWPi949U+I4bSKr8FwxPvBMFtHYgXH2LK0qtkjoslk2qICjujjPwDcibn1IF7raAe4Q+KfifAv1Bn7SFJCWDa6gdDH55+4l/J/YU1lwmnH3H9gL3CX4ZR73sMSH3rAljX3v8AZQzNZOJBRd5CuVvj0nYfW/UzdjsQNkTCQJ5hSrpQpjsPzu0/7/8AkLbN8NtvhHs50oocio9eLRY6cECMr4p+obdeOj+QMz7H+QEK9n/J8S/UaGlTY3PtGOZpSzcMpI3SpyQiu0aUTsbBD4p+J/zP8j/nv5NwmsEEViop287f9Ruv73+QcK9x/I/7r+R7j4av+UIjYc5zQHFkpnTP4UmlP4MEVrnDPh/5ikhAX6L/ALHiL1/2Gwl3J/4n+w/zeiDTB5UACjQxXchP+bD/AI0J1a+yPLMTH/RIcye0YlaX75On7pGsfcpjw/bZ/wBY0l/5kYB/jk6ntk/55pte3sp0IXa+2V8Ier+YDcN6JL6hkUvaGgiS1yoYjbUgsdCwaGGQqeXLENnnahw4Rj2l50kPq5l6XNzVWlQ13/yTYdPzaLMEdBhSXXp0LR/RAj/kM4pD4z+YF+22G39gy0RXsXHiGhtOkZwRYZG3UxWOEuUQWBUIZBBodzACKGur4S4suLL0L3itWGCpTATxaMSvEcdgqXmXquXopAuXmbJeJcXaobx4lDFNAwSXgBXtUKLZMPdepAtclqX9RhUXq51fsXlmxOK/uxjT21azovRckvTmDFiWVK/8ajREnS4kGXF1CXiLMXFg6FS61uXBiy4OYvjcTYRSqioqXMmGEupbR3dEJV8R2/DZ5i6jvhyd4OdBD/w5+sh9Y/aDXZg6GhQpl8wrNhCVrqTbxruug4Zb52ToXXSBmC6xoIHZL6TiXLnSGjrUbhBDi3EdWopVzDr0IkuGKADJWbosZcuMwWbr1CS5cN9bi7S2bkuWS17TeN4bftZhzK295NzFsr1R4cZjye3ucchSNvelxFh0iY+1gVd+MffeZIrCtazqMZD6EjEmzD6HBHYhsaOu8zNpcuMY7kuWy4xcuXLnEN51H/CDgmd5aM2REjjSqGZQwguS7lyircd8LZR5/wB1RQK2f7yhgg+g1D6BnSGlQIbPW8dMlFDZGMsDJjTTN9bgxQcnWKbTqtHb7SyvxdL4y5l/yMXIpTF+avpEHbmPhaYU0WiXLi1aIqLLxDQeJuEqOIbIqWQFiC3GXKJaYmCMIkuXWJcuXooQdAwrl/ARzw4fnQ4j7sell1QdbL7zsBF/VOXF1zrPrLcHBxOERFwRWpaXKlXKlFEogDUSOSFpcXaWRjuabsXfRiQgxYZJxreI6NGXLxFbGyXiXpcGXqNyIH6fgm0iPEB02QS0SEXMHEHMGl81m14o2Ba/+phEeEfaLlga+kTj6KxrTC4bSybxwPVxtyXqw4VEeIrHeZmSWBm8RY53SuYgwlcRu8EpZ8duXCyT6AbDEClQgYduGPaQVbwv4JaJZo7oLS5bAR1LGgjQy1YlVGbTKKSlaYA4jbiwMwtR4GXZGMoJnqPh0hDI2S6myGQVCHSCwFROcx3APm3vlOp3fxO0wIAGAKCMUEJVqWqYYzEKicjBIQwCEEzSrAVoolSMsuMGojvLzHS5cVvMajLxLjmxcvLFFuKy8R4WLLdFYsuLBjBYr+ZiIxLI0jlAQ0sSJmNJzE0LLRKgbeRXnHaA1MiHYd0rcN4VbBacQ3P4gHv4Z8ZPQhzt6p1YQP1x1fZzvvp/k/zj/IdDB7j0J3fufqPwL8T5d+p/kx2L9NYAZ98gbvE6jEXYVO5tvdy8BJRWTw3BCb/4ZhXQJu/0lYm24V+ZS/o/2Nfx/eH+G/sa4kjJ+cPzEUfdQZ+3DBYw2JRIzbbHEUzJyuMh5mKZ+V2nxD9TCfE9I0bzzIrgQKVXw+0qTF8+ko/q/mDf1/zFS8Hx0n/TYzhuk5QU+iO++2nHgWOPbRtV7GKjcUI/zzTrbjqZNtrY+eZnj5fefC/3Dafld5s1Js+f94/Nv3nxf+ZVvA+W/uK0nw+8QlfP7w5vjd58G/cU3lPyr8xQkK1ch2yeGgmxk0foRIPwYZ37GAOieAxXn75/omJb2+sQ2+7PiMf8Zl7Hs/xEvkfaWu34dodL8O0Pm34i/P59pVv83iWbP49oc3ze03Ziu2mKBd+HQgK8wLuF+qXb/el+x7kxbe9FXb349L3Z2vdn/Vx6fv6c/wCri3HrZHpe7D/Zzte7KePdnb9+HW9+IAsQMuSGxBeYbJRGGEvDOljnU1r5DvuwtN1f2Yq6SbkyyXD6BzMfQx1NBAbUmbvkMQ5Q+Kokp6xNEhiDrcF6xWt2D1JdzL6ku27FtuzuS+pHqoq8xLIIDDm4uhGf2gUxBpoie3tEz/qIK/ox/wAzFmZTpRIrENJDPjT8RbbrhQ1diAxjvssUi6F14jKOjpCBGEJBBBHMOoEIHHrgyDoyX/Bw/wA3P+HmGsHhAB+NP8An/BSjb2U/5RA+EpblwQQvGiGwAjKIbby3rCDcrHhiS3rOJbo3o5vMWOmJejrdm+iy5dQV7xRlK0TA+ZeJeiapfRYwbfXHMy9b9RlfcWcC+ZcG4XqQ+s0N5feOHyv5YvT01zySbDxGLG+Y2lKIAuYTf7FMsSxnM3jMCozeK01vWIFS61lreZeZlbtLOSNb0WG8moOIEgKTyaA9kUGXGIziXtGXExqu6jrcYuJzqX3nGjFiXpcXaP0E50zxCXQzeEvTeXqml7Q1caL6DGLo6LGXLly5et6LLixZir4WJwlwuVgxCBGMSUuKo50CO+U7toylv+GKKut6OJgoMNB0NL1I5r6b038P5Yeh/kRh9Y68hq4gnPsP2iHKXtnWnB7dJYnJJKNxPCLcREMluhdkbZTHZ8RJ2L2l4BBh5gfWhtWxN6GittTqWEO4i7lX3SAy9GmBBUYu0ICzLqLEWLqx41dJinBLjKiaMQdFm5CXLU0BjgIO5AhoBH6N9B1qP0MdXjRlxdLjosuXLly9TeLXy6l3FiZ0ubGlZjmVKiG1+ytBl6vLno/VhbTUpeYfXbDjQ13TC/oQm/8A8hjuw2dTSqO0oaWPbQ34YjEBskEhKgZ0eJSJK/EBKxCFQmJUJ9vJUIxuoEr4E0ju3qNeHhY74ToqNRRsl4iAaEMEF7kqMViCglIk4BC8GyOIWdDRBDEWXgYbGhKiQioEdN3UlbRgaHGowhtGcR0XaOjcdXQ1v6bgx1ox2mdAaiRZly41vOdF6CEC03vi+YziDr1uGFQrwkXLEt0i8DLjtDPEpOISmWlMBeJT0lukt0ioGNoDBMpGW24BsOr8aUvsZWZs6cxNKYNaXoQSBojLog3ouJhJQiFdhFsGToCCOlaVRJ0YHNwBCEZOIVCmDC0iUljbeVS4pUrJ2jelvTQ2giJ5jlKhZlyQ50YIUYuqOUSiAiBgufELgM3Ew4Om4M7xwmhK0toxA3tUZxMsSoGUIDExGMG2mzFWM5qMdDV+oI6+XciQcUSIjpuOdFRhxHMqJKubMGLMyFcPezqAinaWBjfVwSL2+VLP6oB/XHgD1S/9Jo2L1M6+mifw4NBTOjeFGwr3UOSZdlJLre0/kOad3z4+5C2qzc4OCG17My4btyz96n8hcoUXS5/gP8nwl+NGny79T4h+oC8Xn+dNR/ofzHi+XxD/ABv4h/BD+p8g/UP8X+Z/xf4jgPneJ+6/5Q2Jx8B/EZcSC2Nmy3EGzFWTQv8Aif6h16LwRVMG4hmKvUWPUSp4CRwqB1UKO9lnxM9NF6h5j8j/AJjzfG7xKvuSqqEwZ/y39h/mv7L9vb/2U1+D/Zmv7H+xXdvT/ZRt7L+w6L6Zf/N/YWl+y/s/5X+w/wAl/Z/yP9j0f0f2NW/6CBFHpn+zi+x/sQf0v7Cz9ad79H9hXj2P9n/L/wBjZ8L3jO+MgHxj8wPHzPMy7nw6yrYSH4Es+2XQJnYT72fNP4cHqIZIXdy/uE2BMAZ5dogzoFw3/oIt/Aj/AIRP+ej/AIpP+MRnfBJ8MnX94n/XP5Ku8ff/AFQXdYOBsqVO40AjZAcxDMmgYxUi6XpaqbPq6hOH94EY0S7/AAmmBdCH0VOYMuXoYhpeZc3fZix9r7mgPFJE0JWZWgjDYoudpQgnEKF7pnBA0VE3dDCWsDQYJAR9Na3Jj1lOkBpuykhoCENAUWa6r9QTzTxH7xjLgOgL3NRC0RjHeVNtQtJt2F02rQcsysxGC7S2WxDiHWG9sQ29bXiWbaMBQvVykHaXDaMeJxNmDLjtLyaDeX9GyekfGltHRUpGXFiuDFi6LFly5cuXLlwcxez+KDBFjayomiEMRDGOrCr2NL6JxG4lNYPG8Tb3D2Tf8sLh/wCJofSM9n+OP5HEdoqX2xWEVo4nNmgVsV4CPife8IsnG8UEFrQiz7K3YClNR4Zm0Y4gthZrBbElQ4EghoguYrQJuiTeUSpUDMUViVGBEUIoZIn4MVkhwiIliZsYQaYhxf65lwsHdQThgd6LRo9tLS1xPVveZK+LXfJjvLMgvj6GNhKeEl6FsMD3ZU7wPCuUvMCHVCrAA3QgQUpmUNYNbJJaK22vWDuStcEGNwF9GPZzfDDKsvY5WB0sqDVbWLvLQIBVWgCChOBkRibkCIo6SiEH8HuaXpUdofQI0krB9AiaOjGXLjFjHS4ul6EGew/AlxS5ccpcbl4gRYy9GCCdnjPyr0GZMdX3ge5AlaGpoStRwQ0NOYb+GwfO40WU71gV4ISRjYIXeGLzLWCxVouYgHM3JB4RGHaW5O3CAtwUyWWgiEtGY2esyIINwRqJOEdrpCAouEPELCtyIlMsRv8AciiEG5aLq+kZi2H2SFGGAmJ8acz2pFPo4ceTG8YlFWJE2lQRv0UOzc3EKXWpYYLc6CPFBQsPWGbHlFxq2Z9yc0JYWgBVOAN1lfcAXZs8w6zdFJqV4Bc5X5drQRHEKTQ0upiNVTYINQd2rS6+0hoAoGy9lEiLN3Om8aHmwlREFgcc+q4lw8CoUS/svmHVQWZBxnWyuosxQXkRPwp42dmdsQIsCgLSIRgXuMqspWzNi6N4Cl3WuZkbidb8TJUS2Ux7KbVKJ6CxowtRp3kiKpQDJVYZNodGI6oWIkHg/YRgncB6KDMSwUCeiYmENeDXcPoCOIOI51YxjGOjH6r0vQZ9t+OEzpxo7y9B050ZcRtrIeJ5P/Iw1G+J/CD3dCVAgRJWgWypTKxDQhpWZj3QPNaGMyr1mpZE0C2QIBnI2MsWLDqLRFwFs5bSLbC7lq3YR4FAW2tvGajcNX5iXAkVLZgtxZKkvpF7KRgLrrpEQFM4l3SpUSpX2riuHGVx3vU2xFLANiLiI6CNR1eqkdTI7K3Jum+HCDAAOLG7Kltdy5v2wNE4pOWZZQAd+glO3QkIUjV4b3Igu4o9pU415ASsa7oEGLxwDuZ5ZYwAnxBF6GezDja+20KwPEQoIFrrfgUYY8Qm55lPgNnDmPYfthRsEDT/AILwF4Fmghdm9nAuyLgZjEAbgXCiRF3VLYI2iTQHUHeO1y8OHAahuNKnsCbo9+dxRndj791Bdq+54hRGS1Q14uNCgJwFKiXWQ8sClRROzlPLBJAADYCC2CHWo6CrCMzDDHTTnggR3UfNYjGJBGNx0Yx0frIvY/HBuLBlx0uXFzL1dH0NRBYd8ArswVuMpFF9rJQLRekZYN/niPS/PtO1+faDcPn2nnfHpDqvj2j1Xx7RPf4PaHWe7+pTz+PaHXfDtPjP6mxh+XSfCP1Or8jtDj+f2hRZ83tP+y/gjbBI6tzWSsEXC55LgrIR6SjQAcg7iXq6eo8Dx5Cff/DDvEkrE4fDKfpMr3Ssd4jyf7Oix7tgOcLRROomg4/t6yUxeE51qPNMpZ9GR/rIBtOw/u/2I+L9yuU2KTKrsPeHY5ZXMBKSvLgVw3x3lP8AP/Ys/n/sDmle+BcGKH2B+oOMCPxvCu3t/wCzg/bwnf7P+wsIJXM8QgrF3aVgje08yE2wX4iNLS6BUUCvM434aeSH81Swkp62WtxGxKVmI/WAoWMxVVfv5hPLKrvI++TFjQxQ46psUKmEKeMVFX3Y6QAoLqHEilMTwkH1BNcrqnVfN2lei66IrpCYVgoXadoavuwMPqQwAGwYHtAobCv8wjSschvRbEztnfi7u0UmyO7IHaXAEKoV3U4Wl/B7SujMr8CL/L+0+QfqN2fh9ofEfxOb4Pid38e0w7/h2nwfxnxfzlfx/iPNT49IV4Xx7T4/5z4f5xPP49p0F8+0q5fPtFufy7Tor0/lHm+F2nTfy7RfaE8Uh/3ceBmt59+PR92PD7uf9POc97Ol76JjVxE8X2p0vWRDhp5non5m07e4ltcXegbJsSx1XRdHRiy9FCH6TaYmLpuEN0+5IoDYdpnrKElYh5Zl50MOhfVhRlTJsynqzMzG+st6wXqytubwsYeot73BoVy6d2Gcs0aHwgwC3aFN9eJeHmkfuAFHrr+4Mx7yY4vqQHAqAoA4J5S2W9dOYShiEcMIkS+8woR/4ABxxMs0JmQTbaWcPttTfr3cWzLis2Y6K6sqtLolxFAFFVFjfMUYzGg63iFYvh2nUY+4Rkg7i4YIrrlyXQncg8ZguLubSnmJW7LG4m22M1nJUsdMzFN3gFYjQ1ixVx0hqlN5nySwMEbANXL+FdLuIO7Czd1ZzKAACgYCCEGLlfWZeWDzl2YUwUxbLdWN4lsu8WxvrLEGcsG2xzE4zFYMKi3nxDE1ltN28tvdlusb6xzuzdFesZk5jDmMWLG28RUVQMVnR0uXpcGIMduIT7z8MqZly9GP0L9FS7ffGbC6Kp3EhD1YzXl0PpYTbR4lwdK15lzrfmjAPhTpsjhNBbFq4gIlhyUwSnfxLsMtI7kFBQLWQjySmfLAgEKJylL3Je7e6CN4cYeUD1BhVknJbkGHE2GEZRcQXmMumg2h6jFYuxb0u3ohwY1wYBu42i2sAUbGwlS4sEjNyKEIef7SxNVqibXMkNajFIwN6CxXDaDPvGbCDiZK+u5VaBQ7oNvasMEvcGXgltQU3hiXLOZxoZRfsgdJU2SN3EuMWSodG0W9EiaO2gj6mKxGOjJSlRgIt3KEVyXZQP3LuMViuWN840I7jDeJ9T8MqVFlwYv0XHW5aTjuQdsKMENPBY0v59qP30rtK140rMrQjtqtuK9LGNObxY+Q+0vQMINErRgI+sFCAgwbzKqCFDINzAbSDhcEHT9HrVE1dRVMXt9yb5XcxgXEuWkTFSbiMGboMAoE3EsZYQAhXmPGq0VZOsINwgsxh2H6o9K8kURIwCS3sWrMtMDLKhAazNtl2giXN0NqxvZGKlQVsjKa0YdxRtviGy5SPLAGm7iKWJviVMVDbVcpYJHeBpujuyilweJid4FwuJmcKWrNWDHTaMIkAAdo2VZfSLnQxoM2w2SjYihAqmnOWiVVpKRHaE+I6NUiQj9Ny9RScNJ3ClkYW5J8TQ6AexBzcqVKlaVDRNEiRIudNRLJlgqC2nT8LEzGbiCM3S9TJApeEfO1MKd8xoMXy+c1OaqbSW7XFKIpDJIwcw4hOXiYwNFEFmSLN06IwiBohLgyqMSxDwTabKQpRCUdJG7iwcwsA30wsNoGTUr2JhUy7pdrg4jqEIjsiPrCJoF+YAxUGNhyObsrT1UNTVK3XMEsBzcMpFunvHRst3iyhDeJmC6LLmCxOYx2IsvQqHkm6QVTjzLKxBVKhlSkX2iNWZt7zZGs7CUJDFAG5hmAjGBhFlCDeApbVd4z1Zmi96hmxJcZmaXHTc30NxgRQbf+OFwY/Sv+yjmIP8Uj8ic3sdA0YMTQ+glRIlxgEYZYWMTMxXkm9z+JiMS9SwMxplEVRgwQqGZiFpZmoq3UMFEBvaWi0YZZ4YJsZY7oibp1b20Lu4J3TNzlEqhhRSuNo2bobtMNwpQabgUrUU7S+ApuqaqMKFcwsoA0sEZZ6Qvc5uFGJh5QUSndSvlLVQ9BhUiyQwMNynowLtd0tThnKtlgw1FekeoxAIbIhw90tOYmSNquiib1ApuDKBYeIwtiVUzU2R/SJmAJhzrbODtCqbhUqLfIsdHBCLloMNUZejHEuIjpMGKMYnMvQLPDVHcvWc4vRNrd4tg/3thqt3oXv01dajGEuXLl6Kl5d3PDVUDfBdwWmLMKUV0DBG3Def4R4oZHXjg27H5SKbnNvog6n2z2b1ZbDJL0pxzwH/czr+jpOdH8SIn/AIpZAaWSKjKSXHORTeJufYnbLX0/1FXPzu06nye0/wCL/MP8j+YPu3qf1CaLt1k6QeH8hff5/EIHT5k6x6oRA5U8yFywe4QEIN2805fid58A/czbLz/WLo18P8o6MtZv8zvHhGDv3mBfe/mTonw7ztfn3j03z7wN+H7w4vh94lcZOo958T/cKXyfWK+X94hw+fedH+fedL4/MfjP5mA+P6x+Z/mdH5/eNdfP8zZqnx6w44JDdpPFZ6AgEA9i8SahtN47mdOSphF3wxmvJCV/0zqPdxfV0fOD2f8AJ/w/8lf838n/AD/8lKOLpf8AE+efqJ7e9/M/638Tg+x/MS29n+YTmj9mn7hnEOtzLM1lWnZid5f9GLMWUmm7qmgPMa5Ux/zof8wj/wAqf8H/ACP+iR/0iP8Agoues6m6eXF919c795adl7sH/GAbe0mwAQY6DroX9F6JGMvS9ALuVhfj3Z6wulW5vtl5nfQ3zAjoEfquJAhAnF6vxAaOxIKYMK0IOmUUkd/oGb9AxBYxheYbfSSyJEluIMo7sE5F2hJdENAhFo1ZRX9ke8EUA7hNCd5Syg2nTTkjoMuEIboaelRJRSizoxokFdAsBlbC0BbxbLBM4ET6yO+PEUsbRbgsFLnEDLKNXRcw+hlszP4BHLF0b1uEYNFNAjiLEuLGLL+kgx64fS6Jo6oEU9WcofhWYVToM1B9DCGpL0NQm2gy/GIymt0uOg0CyKEuDmXFjOdMYnEGDCGjEg5htGXptCIkvaKAh0tUGTeliomYYmSvAUbtO52S0IOXEPww1yjZCzkeVw6Eh9hrehK09/YDK0YU9WAKW6zGDhRlhTRQ4L9iAggLoN7XmI1kAjScNwQDtYe/C80GRvy625I1vcW/Re5Ai+2ZYPpsx50tAlw2l7kt0uVr0mJySnS5iLP3Y6MdNpiEdbGLQmNGMfoWGh/48fpDStjm37hHe7n4RbvR+2Lm2GhGb6Df0LDaXGujSowmfx7Qo3E9y9KlA9IWgGNL20Yv6BXARQYqyPHloqRcEszjMMRUiRSDMgQBuBWzykIjiMocDhjdYL3quoTuus+CuJ22JLQq4q3mIOfxmRATUr1zbqZ4SAAcOWrSM2kUiFoYs0BU2K3s4lhAmVXHCA3s16FymZVWikyUNZZa1NjjtY4A2AHgItxmoQgpaMri9paimEkT0jeMfBp7kT/fo4BmDa3Gn4l3SNG3b92XMoVfiXKlb/mYEw7Cpbc7wVuXLDwKhsiLcy4u0Vg3Fl5Igt4N4LsvROI4qje4QsoQWIkUsJVYJYgkaeRo6MpFFjS5wi3qYhWpjFly9Li0P/cbFoDhPthZsPSBiOjX7YcoaH1MVBlZnE2QxBMYzIkNr0H4gE7jYlzCGypaNaXDeJqckNokNThKSHLBNTBHeXKnENx6Rfcdlp/YIdClYVerqmVTaVBRIVVCm1M+8rSKylN+FbDxDa1rZdfSIGKmyg8XMDMplmO0tvs7sEtwt8fbaGazHZt5IVNBy3wpxE3kXaYUgSdNZMs75l2kxeqEJfgPALjqWUEl/PMoHON/wiFPCKkZa2hIdwxjvyxCCosYtiQoJsgQFUauRWxWVoF3AzDE5TPwMf3CDEQowOE3GKUd6LlXnEaDcGAirIdpZcYYisGKrqlhQibMbexFIDoBBHjgdyNIJbFzYAbEczRtzcbvTAllxHZMD0mzVIuh0FGP0DZL+leRB5jo6z1kg/U/Q63LekFOGX9QtcFkU0DlzQjluC6M7DOO076X8odRFjLTbdCc/wAaVP6kT4uty5Ug+f8A5lIvRVX8YWUcviBzBO/EAw+zW4Z0X3/1LOXy7S3HzPEYGcXx1HGJaj26iTJ6p4l5Htf7De+V5hElzw+D+507vH9xXJ83vP0R/vF2oBAwBuZ51Pn8Qfg+HSXB+B/J/h0Ar3T/AJMSXbsH4hPb5XaFa0vy4icWsX3ZMaqnid2m4YfKm5gwBO1pmyo4xNbYvX2YT5J94qy3O/8ASY0uXQS3tDHcSkCja5ic1rRZdAY2d5KfZDDgoVu8mQX35ZduxhrouUVUxs4sfeiiukx0/G7SuvyP5CYF+O0Nv0mf4j2lV5auola3Zo/yIBbmFYU3sddf+gJkRRiqWrw2yjFeGcumhVfBYGqQs3IbDfeaj1Pld4fCfzAtvf8A7htv3P7lV/F9ZZzeP6SgD3v6RV/Vf3AP4P7Op+TzH4z9ylX3s/7udf3OpBDFFYQZXdmdaJsVEcYmUNyrcxuhfJSid/30/wCylhj3Uf8ASR/2EZXtmX/gR/4Uf9cjwwGUPR+yNuPUlTg9UpcnwM6w+JWMj4AmX3KsMi2eqWVCAP0sJf8A5ulkKLJVnBubnatF2ckacAoMLUUByAaubk79C2rUttUn5vmPU+f3mKn5/ed78e8+D+8Awe6zBX54de8iwDYfEH/Ow+wQA2HxA2n2ugRdxdhK6DDghKAW8WKxYzTLtMyxCVKiSoa33g6G8VSevGlZcXMJehNuO9YBaYwMguS78SqO3mrJLRIrmcp0TSLBzUUXQcEBgWsZ6CKMO8gpFbg2jptHFkIDCBHhgx8wiW21DllpnVn2sRPS+d1oTXdRXaDoWQKe+5Ad20I10sZSFimtLoVWhEGA4XpnrHiDtEhKZUqO8txmEfHDZzFjsRmR3m7eYO8V6sc6MWLHQx0MYsY5Yg6hD9X8LDQ/8XWntW/skWl0v9oxC9vyMKjwRIR0qMzWhofQajmDND6eoYuDRyzbRcdCdGM2igzKGqz9IaMGXqRgwNBYi6sq5ss98YQrCeVoTKMZtaDQ40uCi3mLGbquO2Isk2QloK7A2vpKAh/zMq2sVPbpCCThN5g3blwn4CHVuNXB4FEGkmwg+0SMfodNL0vU0a1Yt+t+I7TiMeNX6F1HQoxYx0Vwly5cGL5/DDW//B1srG7pREt/bFA17ezSNfQR1GESc/QakIy2XmFvO9DXf+yxYxZWNGMUINuu03RhLm6Z27QhCzNBsxjFguqAgsUrFJLNMSWbdtHEWXLgy4xqcSiw2s95sZnVAfXM6rtW0XwhdyX4LAVrbqfcmCSVbS3HWF4uBTGsq25eYxJuqXi5ZL0ZQczjRcwlyhjHDoF9psRjNkixpjiX9DKdCx0JEjXXQ3LpcuDBinxvRh/7Btd32Yzert7FESV8k+JLbxF1DaVompLpi1NzRZnHR9YVcMxjTeDYVowugwljLpizKO+hLhSXyXiDB2gBftGSJBhmOhpWgCLCG0H6LYMcS1Y2FxBGMxCGpRK4QWMRslsC7MGF42C7fSbcWUl3tMgYaiYIauGdJeNLloQnNFxouEbvC/MXWrDDQRW4suLFidSidCaGOpqZTef1sP8A2J6LBouEPuTGncD6JlBK6ND6U0zSESm4lMIysxIjMGbnzNcvDoJpNGoWJROpjl2lhswN3Q6yPVQ6yUtpiYdDyxoXg5bhZf2U63s5WdORis/MK6uUjNtL9tDLcQP+ksr9n+IfP/xHpvh2nm/DpBNliSxBV1870gb8L2lTn5/aW1Xx+0t+J9oRz8ztOuXy6T55+oy/jekeH5naN4vj0mAfn8Q+H/UfgD7Q/wAr+Ji5PWZVja/ZGB7X4MpZgGGEWS+DUEDiJJQCb1jKlRa6ZkPwISfuJjhPclZ3JS2Z30ojaNmzFW7RBMp2mCGzL3syjiMcMwgXUfiUxSdhLGnRtAsxG4jCaCRNEimBiaFyHvA/xQG/tIXeXUHwo8A/ECdz6VBNvWpLtvKV/E3L8Co3FuSuX/wNH6a9Vjl6JnC/bqlpemTzgqnZKo4N8L8EflH4hwt8fxj1vx/OVbJ4kPs/hwXdes/Ms7r0H7nT9gR4F8jDcJ9n8yD7esME29T+UX+7W/Roovx+Fiti907N637gtuJbAtt2C0tsFyrj047F/cvyg8TVaX4kGMH4iruPgM6nsH6i2/sD9S+RjyDzoPJI5Pje8WC2+PWd0+f6xR+X7xrq73n/ADob01HP6ZWFB6JQ/oR+05J2vEEWyd/ik/4kcbQUH1iusV1S1yldVhTlnkxRIj1ZvworwsVvmerBm5j5hpRIh6Si9onjzBn6iWbp5Ef8BCTOy+zl+GI8cRgi2/tp/isv2iP8Of8AEnxWf5AfudlD5/7Q2QPAfubR83zH4N+YdT5e+jp/HmnK6fvZ2fwoU2kvJ/xP8idfjP6j/lf5P+c/kp29j/I9Q8hn+jP5Bdh9SH9QR/yEeSFg2Wxep7iPK3lzlXk38vMHSAp7ezEf4IlsXgj0GlsGDFFh3/Gw/wDB+rmmwPdgViYLd89R1cZp9CUlovAERKHER6wsKtma3ZmVEfSFaVpc5IbKd6CnYHCLCbDRjGEVZGXL0dEgZjSpuRt6myMZuj2mY8TMuOyJLl6Cxi0RyktjRl40JeXRg7QwS8/MNyXo7mmzCIw+i8fSG4ugwSXqkajGO20NGMdGOhjGMq2E4pTDy1HUYR187DDVP/MD2D7qy7Xen7hFW62Y+6WRdQ040Nb+mp0+l3iqfLuJoJHNIsIaMdOIjpzLs0SVEJnBtqJNkYwsbl6MdFgjFjy8QzHbQAm7oGlSpe2IRK1USNyKXt9BNhEJW2mSXLjCG8XTEPoogOSrNNyOjDeJHRjHQQRhRBboveo6Nkg6VVPMEEdNhauham1CjwWxDaMKOUII2VS+QYQfqfrrd5PUwgzb8Cgbe8+pqGDSvoHTeVLhmURpLYMSLkIumdFfhehjlCqJf0hhHiOgp0yRBIKdQzD0iwxdKxLgx40WogxpoJiOoRiwURJdugm6pkRIlS7Ed7hHnPSF0hvGcaMGDBjvGO5obaUkUUNiMLm9S3SrLxeEcKCi5IkZmyNQZcYxiRjKyhy7RYEoEnmQ1Y2cOgHDPkAPK1pU+gejMHgHzkErgXlV0cQrSk/WLLxYFndbQHZy50Iuy1vYD90EgOB9iAT/ANVD636zniefiDAG0zfdC9hFcMJUr6WPMyhm2ZjUdFpzNj1OVpHhDo7xDCViW3KxHiVoRguVFjxOJxg1DeAhcQcMpraK3rQC7ETlD0GHEMW8Mt0ZS3S1tBHEs20x6yDwMcNsy5BCQgsMrrHhsTfRxdtCtCIaXmG0NUiY76KnE2Y5HxCcQxqEUiz0lMYJUqVvokGYkdWy/wAd12IXrq4UeBwR0V6eBbDQrGAjC3hhI7yzHcLiJJsEW5felLAI9twRRgq2+0wMSsthZYEkVeWoRZBupnfEMzwOhtD6n/wyVsfvMeDlr9UScdv9puYA7EqEqVpjUyhiNpi2nYhRszDg3FPedPyGXC2J1oMB1YK4VlO9xuod7Wn7Fn4J0m+P5QAs8T+EFML4kpsnhzJLXpPyy/b1B/ccVL8usF29QJ0fWm8Xr/ynYfP8R/1v8g+/lLKfB749C8J+WL8HhPyzDv0v6YdC8D+wSsPiZdn0ijzfN7S+19MH6gm68J/UsK9AD9Qp6c++hMDmTQ8Ubii7z3nTzPr/AA++hfTjvyP8zrSk9p6O0v8ARLnR97AV+zECApo9r/I/4z+R/wAu/qf6L+IDb1j+ZXt6sC2be541cbdi0X3rvp/sr29p/Z81/Z/ql+GF275/tMOXGj/E31frNDE/4xHqfy6Q697P1Ef5/wCSnf286L6QZgAYSbTb7jPnP7h/of3Kt/g8x7f4/qPD8DvKZ7sqt/mXP4P7Ff4/7F/5f7Fc+3/sv/l/sV/k/st/h/s/xD+z/dCP+KR/1IE2gPXHkx6N5lP906C9WLi+xi9y8RyPtxm/pgnKefkkp2bNsD0jtkJ1WxO8XtUFuxH8/T/3K32YpXhUIqr7wtoCJq6nQZi6qAAUBS/hHgDz/BLH75ph2fUl9R8J+ZsnhOXby/ySxDlegy+r9I4Y7fj8AitfgvwRPfzHOYfM7VPVR6tu6v7gXN5tgJj282T28AdwDSWO5iA4ClqlXANvZShgHpFm9NsL6yon0hiodNSO2gsnJBNOM2P0GFQ2IRqEU3upsm5m5nMcxmKy4qis3YHRjGTxFp7FRwwab2uWIoaMXtNoI6GnmUoxAhLqLriGr9Dz7OblQgl6VEiETRlkY/WEtLBlb93atoCkQBcA7xYeq/EP/b//2Q==)"
      ],
      "metadata": {
        "id": "wFlzKOqp_mdH"
      }
    }
  ]
}